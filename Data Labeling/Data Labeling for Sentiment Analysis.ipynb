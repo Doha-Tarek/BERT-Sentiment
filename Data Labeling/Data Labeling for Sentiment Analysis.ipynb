{
 "cells": [
  {
   "cell_type": "markdown",
   "metadata": {},
   "source": [
    "# Preprocessing required : Extract Rating number from [Rating] column <- Create Label Based on Rating "
   ]
  },
  {
   "cell_type": "code",
   "execution_count": 1,
   "metadata": {},
   "outputs": [
    {
     "name": "stderr",
     "output_type": "stream",
     "text": [
      "C:\\Users\\El Hamd\\AppData\\Local\\Temp\\ipykernel_22668\\217833862.py:1: DeprecationWarning: \n",
      "Pyarrow will become a required dependency of pandas in the next major release of pandas (pandas 3.0),\n",
      "(to allow more performant data types, such as the Arrow string type, and better interoperability with other libraries)\n",
      "but was not found to be installed on your system.\n",
      "If this would cause problems for you,\n",
      "please provide us feedback at https://github.com/pandas-dev/pandas/issues/54466\n",
      "        \n",
      "  import pandas as pd\n"
     ]
    }
   ],
   "source": [
    "import pandas as pd "
   ]
  },
  {
   "cell_type": "code",
   "execution_count": 3,
   "metadata": {},
   "outputs": [
    {
     "data": {
      "text/html": [
       "<div>\n",
       "<style scoped>\n",
       "    .dataframe tbody tr th:only-of-type {\n",
       "        vertical-align: middle;\n",
       "    }\n",
       "\n",
       "    .dataframe tbody tr th {\n",
       "        vertical-align: top;\n",
       "    }\n",
       "\n",
       "    .dataframe thead th {\n",
       "        text-align: right;\n",
       "    }\n",
       "</style>\n",
       "<table border=\"1\" class=\"dataframe\">\n",
       "  <thead>\n",
       "    <tr style=\"text-align: right;\">\n",
       "      <th></th>\n",
       "      <th>Reviewee Name</th>\n",
       "      <th>Rating</th>\n",
       "      <th>Question</th>\n",
       "      <th>Review</th>\n",
       "      <th>Review Date</th>\n",
       "    </tr>\n",
       "  </thead>\n",
       "  <tbody>\n",
       "    <tr>\n",
       "      <th>0</th>\n",
       "      <td>Chloe B</td>\n",
       "      <td>Rated 5 out of 5 stars</td>\n",
       "      <td>Brilliant service!</td>\n",
       "      <td>The removal men were quick, polite and very fl...</td>\n",
       "      <td>2 days ago</td>\n",
       "    </tr>\n",
       "    <tr>\n",
       "      <th>1</th>\n",
       "      <td>FL</td>\n",
       "      <td>Rated 5 out of 5 stars</td>\n",
       "      <td>Great before/during/after service</td>\n",
       "      <td>What a pleasant overall experience. Thank you ...</td>\n",
       "      <td>3 days ago</td>\n",
       "    </tr>\n",
       "    <tr>\n",
       "      <th>2</th>\n",
       "      <td>Adetokunbo Jolaoso</td>\n",
       "      <td>Rated 5 out of 5 stars</td>\n",
       "      <td>Superb one-off cleaning</td>\n",
       "      <td>Archie (apologies if spelt incorrectly) was ju...</td>\n",
       "      <td>2 days ago</td>\n",
       "    </tr>\n",
       "    <tr>\n",
       "      <th>3</th>\n",
       "      <td>Haynes</td>\n",
       "      <td>Rated 5 out of 5 stars</td>\n",
       "      <td>Fantastic Service indeed</td>\n",
       "      <td>I recently hired Fantastic Services to tame my...</td>\n",
       "      <td>4 days ago</td>\n",
       "    </tr>\n",
       "    <tr>\n",
       "      <th>4</th>\n",
       "      <td>Ms Alison Turner</td>\n",
       "      <td>Rated 5 out of 5 stars</td>\n",
       "      <td>Great job from the handyman!</td>\n",
       "      <td>The handyman from Fantastic Services was terri...</td>\n",
       "      <td>5 days ago</td>\n",
       "    </tr>\n",
       "  </tbody>\n",
       "</table>\n",
       "</div>"
      ],
      "text/plain": [
       "        Reviewee Name                  Rating  \\\n",
       "0             Chloe B  Rated 5 out of 5 stars   \n",
       "1                  FL  Rated 5 out of 5 stars   \n",
       "2  Adetokunbo Jolaoso  Rated 5 out of 5 stars   \n",
       "3              Haynes  Rated 5 out of 5 stars   \n",
       "4    Ms Alison Turner  Rated 5 out of 5 stars   \n",
       "\n",
       "                            Question  \\\n",
       "0                 Brilliant service!   \n",
       "1  Great before/during/after service   \n",
       "2            Superb one-off cleaning   \n",
       "3           Fantastic Service indeed   \n",
       "4       Great job from the handyman!   \n",
       "\n",
       "                                              Review Review Date  \n",
       "0  The removal men were quick, polite and very fl...  2 days ago  \n",
       "1  What a pleasant overall experience. Thank you ...  3 days ago  \n",
       "2  Archie (apologies if spelt incorrectly) was ju...  2 days ago  \n",
       "3  I recently hired Fantastic Services to tame my...  4 days ago  \n",
       "4  The handyman from Fantastic Services was terri...  5 days ago  "
      ]
     },
     "execution_count": 3,
     "metadata": {},
     "output_type": "execute_result"
    }
   ],
   "source": [
    "df = pd.read_excel('scraped_data.xlsx')\n",
    "df.head()"
   ]
  },
  {
   "cell_type": "code",
   "execution_count": 7,
   "metadata": {},
   "outputs": [],
   "source": [
    "# Convert Rating to numbers\n",
    "def extract_rating(rating_str):\n",
    "    import re\n",
    "    match = re.search(r'Rated (\\d) out of 5 stars', rating_str)\n",
    "    if match:\n",
    "        return int(match.group(1))\n",
    "    return None\n",
    "\n",
    "# Apply the extract_rating function\n",
    "df['Rating'] = df['Rating'].apply(extract_rating)"
   ]
  },
  {
   "cell_type": "code",
   "execution_count": 8,
   "metadata": {},
   "outputs": [
    {
     "data": {
      "text/html": [
       "<div>\n",
       "<style scoped>\n",
       "    .dataframe tbody tr th:only-of-type {\n",
       "        vertical-align: middle;\n",
       "    }\n",
       "\n",
       "    .dataframe tbody tr th {\n",
       "        vertical-align: top;\n",
       "    }\n",
       "\n",
       "    .dataframe thead th {\n",
       "        text-align: right;\n",
       "    }\n",
       "</style>\n",
       "<table border=\"1\" class=\"dataframe\">\n",
       "  <thead>\n",
       "    <tr style=\"text-align: right;\">\n",
       "      <th></th>\n",
       "      <th>Reviewee Name</th>\n",
       "      <th>Rating</th>\n",
       "      <th>Question</th>\n",
       "      <th>Review</th>\n",
       "      <th>Review Date</th>\n",
       "    </tr>\n",
       "  </thead>\n",
       "  <tbody>\n",
       "    <tr>\n",
       "      <th>0</th>\n",
       "      <td>Chloe B</td>\n",
       "      <td>5</td>\n",
       "      <td>Brilliant service!</td>\n",
       "      <td>The removal men were quick, polite and very fl...</td>\n",
       "      <td>2 days ago</td>\n",
       "    </tr>\n",
       "    <tr>\n",
       "      <th>1</th>\n",
       "      <td>FL</td>\n",
       "      <td>5</td>\n",
       "      <td>Great before/during/after service</td>\n",
       "      <td>What a pleasant overall experience. Thank you ...</td>\n",
       "      <td>3 days ago</td>\n",
       "    </tr>\n",
       "    <tr>\n",
       "      <th>2</th>\n",
       "      <td>Adetokunbo Jolaoso</td>\n",
       "      <td>5</td>\n",
       "      <td>Superb one-off cleaning</td>\n",
       "      <td>Archie (apologies if spelt incorrectly) was ju...</td>\n",
       "      <td>2 days ago</td>\n",
       "    </tr>\n",
       "    <tr>\n",
       "      <th>3</th>\n",
       "      <td>Haynes</td>\n",
       "      <td>5</td>\n",
       "      <td>Fantastic Service indeed</td>\n",
       "      <td>I recently hired Fantastic Services to tame my...</td>\n",
       "      <td>4 days ago</td>\n",
       "    </tr>\n",
       "    <tr>\n",
       "      <th>4</th>\n",
       "      <td>Ms Alison Turner</td>\n",
       "      <td>5</td>\n",
       "      <td>Great job from the handyman!</td>\n",
       "      <td>The handyman from Fantastic Services was terri...</td>\n",
       "      <td>5 days ago</td>\n",
       "    </tr>\n",
       "  </tbody>\n",
       "</table>\n",
       "</div>"
      ],
      "text/plain": [
       "        Reviewee Name  Rating                           Question  \\\n",
       "0             Chloe B       5                 Brilliant service!   \n",
       "1                  FL       5  Great before/during/after service   \n",
       "2  Adetokunbo Jolaoso       5            Superb one-off cleaning   \n",
       "3              Haynes       5           Fantastic Service indeed   \n",
       "4    Ms Alison Turner       5       Great job from the handyman!   \n",
       "\n",
       "                                              Review Review Date  \n",
       "0  The removal men were quick, polite and very fl...  2 days ago  \n",
       "1  What a pleasant overall experience. Thank you ...  3 days ago  \n",
       "2  Archie (apologies if spelt incorrectly) was ju...  2 days ago  \n",
       "3  I recently hired Fantastic Services to tame my...  4 days ago  \n",
       "4  The handyman from Fantastic Services was terri...  5 days ago  "
      ]
     },
     "execution_count": 8,
     "metadata": {},
     "output_type": "execute_result"
    }
   ],
   "source": [
    "df.head()"
   ]
  },
  {
   "cell_type": "code",
   "execution_count": 25,
   "metadata": {},
   "outputs": [
    {
     "data": {
      "text/plain": [
       "'The Gardeners were fine and did a decent job. But Fantastic services have a very high price for garden waste disposal. £55 per bag is just preposterous. They wanted to charge me upwards of £600 to take away the waste. I got a waste disposal company to collect the same waste for £200'"
      ]
     },
     "execution_count": 25,
     "metadata": {},
     "output_type": "execute_result"
    }
   ],
   "source": [
    "X = df[df['Rating'] == 4]['Review']\n",
    "X[9]"
   ]
  },
  {
   "cell_type": "code",
   "execution_count": 26,
   "metadata": {},
   "outputs": [],
   "source": [
    "# Create the label column based on the rating\n",
    "def create_label(rating):\n",
    "    if rating >= 4:\n",
    "        return 1\n",
    "    else:\n",
    "        return 0\n",
    "\n",
    "# Apply the create_label function to generate the label column\n",
    "df['label'] = df['Rating'].apply(create_label)"
   ]
  },
  {
   "cell_type": "code",
   "execution_count": 27,
   "metadata": {},
   "outputs": [
    {
     "data": {
      "text/html": [
       "<div>\n",
       "<style scoped>\n",
       "    .dataframe tbody tr th:only-of-type {\n",
       "        vertical-align: middle;\n",
       "    }\n",
       "\n",
       "    .dataframe tbody tr th {\n",
       "        vertical-align: top;\n",
       "    }\n",
       "\n",
       "    .dataframe thead th {\n",
       "        text-align: right;\n",
       "    }\n",
       "</style>\n",
       "<table border=\"1\" class=\"dataframe\">\n",
       "  <thead>\n",
       "    <tr style=\"text-align: right;\">\n",
       "      <th></th>\n",
       "      <th>Reviewee Name</th>\n",
       "      <th>Rating</th>\n",
       "      <th>Question</th>\n",
       "      <th>Review</th>\n",
       "      <th>Review Date</th>\n",
       "      <th>label</th>\n",
       "    </tr>\n",
       "  </thead>\n",
       "  <tbody>\n",
       "    <tr>\n",
       "      <th>0</th>\n",
       "      <td>Chloe B</td>\n",
       "      <td>5</td>\n",
       "      <td>Brilliant service!</td>\n",
       "      <td>The removal men were quick, polite and very fl...</td>\n",
       "      <td>2 days ago</td>\n",
       "      <td>1</td>\n",
       "    </tr>\n",
       "    <tr>\n",
       "      <th>1</th>\n",
       "      <td>FL</td>\n",
       "      <td>5</td>\n",
       "      <td>Great before/during/after service</td>\n",
       "      <td>What a pleasant overall experience. Thank you ...</td>\n",
       "      <td>3 days ago</td>\n",
       "      <td>1</td>\n",
       "    </tr>\n",
       "    <tr>\n",
       "      <th>2</th>\n",
       "      <td>Adetokunbo Jolaoso</td>\n",
       "      <td>5</td>\n",
       "      <td>Superb one-off cleaning</td>\n",
       "      <td>Archie (apologies if spelt incorrectly) was ju...</td>\n",
       "      <td>2 days ago</td>\n",
       "      <td>1</td>\n",
       "    </tr>\n",
       "    <tr>\n",
       "      <th>3</th>\n",
       "      <td>Haynes</td>\n",
       "      <td>5</td>\n",
       "      <td>Fantastic Service indeed</td>\n",
       "      <td>I recently hired Fantastic Services to tame my...</td>\n",
       "      <td>4 days ago</td>\n",
       "      <td>1</td>\n",
       "    </tr>\n",
       "    <tr>\n",
       "      <th>4</th>\n",
       "      <td>Ms Alison Turner</td>\n",
       "      <td>5</td>\n",
       "      <td>Great job from the handyman!</td>\n",
       "      <td>The handyman from Fantastic Services was terri...</td>\n",
       "      <td>5 days ago</td>\n",
       "      <td>1</td>\n",
       "    </tr>\n",
       "  </tbody>\n",
       "</table>\n",
       "</div>"
      ],
      "text/plain": [
       "        Reviewee Name  Rating                           Question  \\\n",
       "0             Chloe B       5                 Brilliant service!   \n",
       "1                  FL       5  Great before/during/after service   \n",
       "2  Adetokunbo Jolaoso       5            Superb one-off cleaning   \n",
       "3              Haynes       5           Fantastic Service indeed   \n",
       "4    Ms Alison Turner       5       Great job from the handyman!   \n",
       "\n",
       "                                              Review Review Date  label  \n",
       "0  The removal men were quick, polite and very fl...  2 days ago      1  \n",
       "1  What a pleasant overall experience. Thank you ...  3 days ago      1  \n",
       "2  Archie (apologies if spelt incorrectly) was ju...  2 days ago      1  \n",
       "3  I recently hired Fantastic Services to tame my...  4 days ago      1  \n",
       "4  The handyman from Fantastic Services was terri...  5 days ago      1  "
      ]
     },
     "execution_count": 27,
     "metadata": {},
     "output_type": "execute_result"
    }
   ],
   "source": [
    "df.head()"
   ]
  },
  {
   "cell_type": "code",
   "execution_count": 29,
   "metadata": {},
   "outputs": [],
   "source": [
    "df.to_excel('Labeled_Data.xlsx' , index= False)"
   ]
  },
  {
   "cell_type": "code",
   "execution_count": null,
   "metadata": {},
   "outputs": [],
   "source": []
  }
 ],
 "metadata": {
  "kernelspec": {
   "display_name": "Python 3",
   "language": "python",
   "name": "python3"
  },
  "language_info": {
   "codemirror_mode": {
    "name": "ipython",
    "version": 3
   },
   "file_extension": ".py",
   "mimetype": "text/x-python",
   "name": "python",
   "nbconvert_exporter": "python",
   "pygments_lexer": "ipython3",
   "version": "3.12.1"
  }
 },
 "nbformat": 4,
 "nbformat_minor": 2
}
