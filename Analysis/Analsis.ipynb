{
 "cells": [
  {
   "cell_type": "markdown",
   "metadata": {},
   "source": [
    "<h1>Analysis of Home Service Providers</h1>\n",
    "\n",
    "<h2>Introduction</h2>\n",
    "\n",
    "<p>This notebook aims to analyze data from home service providers across various categories. The analysis includes identifying the most common services offered, the number of suppliers for each service, and the top companies based on customer reviews and ratings. By leveraging this data, we can gain insights into which services are most in-demand, which companies lead in customer satisfaction, and where the market opportunities might lie.</p>\n",
    "\n",
    "<h3>Key Sections Covered:</h3>\n",
    "\n",
    "<ol>\n",
    "    <li>\n",
    "        <strong>Data Loading and Preprocessing:</strong> We start by loading and cleaning the data to ensure it's ready for analysis. This includes removing duplicates, encoding categorical data, and filtering out unnecessary columns.\n",
    "    </li>\n",
    "    <li>\n",
    "        <strong>Category Analysis:</strong> We examine the frequency of each service category to identify the most common services provided by suppliers.\n",
    "    </li>\n",
    "    <li>\n",
    "        <strong>Supplier Count Analysis:</strong> This section explores the number of suppliers available for each category, helping to understand the competition in various service areas.\n",
    "    </li>\n",
    "    <li>\n",
    "        <strong>Review and Rating Analysis:</strong> We delve into customer feedback by analyzing the number of reviews and ratings for each category. This allows us to identify the top-performing companies within the most demanded categories.\n",
    "    </li>\n",
    "    <li>\n",
    "        <strong>Visualization:</strong> Throughout the notebook, we use interactive visualizations to present our findings clearly and effectively, helping to uncover trends and insights.\n",
    "    </li>\n",
    "</ol>\n"
   ]
  },
  {
   "cell_type": "markdown",
   "metadata": {},
   "source": [
    "## Data Loading and Preprocessing\n",
    "### 1. Encoding\n",
    "\n"
   ]
  },
  {
   "cell_type": "code",
   "execution_count": 26,
   "metadata": {},
   "outputs": [
    {
     "name": "stdout",
     "output_type": "stream",
     "text": [
      "df_encoded.shape = (18776, 1488), categories_encoded.shape = (18776, 1485), df.shape = (18776, 4)\n"
     ]
    }
   ],
   "source": [
    "import pandas as pd\n",
    "from sklearn.preprocessing import MultiLabelBinarizer\n",
    "\n",
    "# Load the provided Excel file\n",
    "file_path = 'scraped_data_Home-Services.xlsx'\n",
    "df = pd.read_excel(file_path)\n",
    "\n",
    "# Remove duplicate rows\n",
    "df = df.drop_duplicates()\n",
    "\n",
    "# Split the 'Categories' column into individual categories\n",
    "df['Categories'] = df['Categories'].str.split(', ')\n",
    "\n",
    "# Initialize the MultiLabelBinarizer\n",
    "mlb = MultiLabelBinarizer()\n",
    "\n",
    "# Fit and transform the 'Categories' column\n",
    "categories_encoded = mlb.fit_transform(df['Categories'])\n",
    "\n",
    "# Create a DataFrame with the encoded categories\n",
    "categories_df = pd.DataFrame(categories_encoded, columns=mlb.classes_)\n",
    "\n",
    "# Concatenate the original dataframe with the one-hot encoded categories\n",
    "df_encoded = pd.concat([df.drop('Categories', axis=1).reset_index(drop=True), categories_df], axis=1)\n",
    "\n",
    "# Display the shape of the resulting dataframe to ensure it matches df after removing duplicates\n",
    "print(f\"df_encoded.shape = {df_encoded.shape}, categories_encoded.shape = {categories_encoded.shape}, df.shape = {df.shape}\")\n"
   ]
  },
  {
   "cell_type": "markdown",
   "metadata": {},
   "source": [
    "### 2. Removing Columns"
   ]
  },
  {
   "cell_type": "code",
   "execution_count": 27,
   "metadata": {},
   "outputs": [
    {
     "data": {
      "text/html": [
       "<div>\n",
       "<style scoped>\n",
       "    .dataframe tbody tr th:only-of-type {\n",
       "        vertical-align: middle;\n",
       "    }\n",
       "\n",
       "    .dataframe tbody tr th {\n",
       "        vertical-align: top;\n",
       "    }\n",
       "\n",
       "    .dataframe thead th {\n",
       "        text-align: right;\n",
       "    }\n",
       "</style>\n",
       "<table border=\"1\" class=\"dataframe\">\n",
       "  <thead>\n",
       "    <tr style=\"text-align: right;\">\n",
       "      <th></th>\n",
       "      <th>Company_Name</th>\n",
       "      <th>Rating</th>\n",
       "      <th>Number_of_Reviews</th>\n",
       "      <th>Abrasives Supplier</th>\n",
       "      <th>Accountant</th>\n",
       "      <th>Accounting Firm</th>\n",
       "      <th>Acura Dealer</th>\n",
       "      <th>Adult Day Care Center</th>\n",
       "      <th>Adult Education School</th>\n",
       "      <th>Advertising Agency</th>\n",
       "      <th>...</th>\n",
       "      <th>Wood Floor Refinishing Service</th>\n",
       "      <th>Wood Frame Supplier</th>\n",
       "      <th>Wood Supplier</th>\n",
       "      <th>Wood and Laminate Flooring Supplier</th>\n",
       "      <th>Woodworker</th>\n",
       "      <th>Yoga Instructor</th>\n",
       "      <th>Yoga Studio</th>\n",
       "      <th>e-Commerce Agency</th>\n",
       "      <th>e-Commerce Service</th>\n",
       "      <th>e-Commerce Solution Provider</th>\n",
       "    </tr>\n",
       "  </thead>\n",
       "  <tbody>\n",
       "    <tr>\n",
       "      <th>0</th>\n",
       "      <td>G.R.D Decorators</td>\n",
       "      <td>4.7</td>\n",
       "      <td>24</td>\n",
       "      <td>0</td>\n",
       "      <td>0</td>\n",
       "      <td>0</td>\n",
       "      <td>0</td>\n",
       "      <td>0</td>\n",
       "      <td>0</td>\n",
       "      <td>0</td>\n",
       "      <td>...</td>\n",
       "      <td>0</td>\n",
       "      <td>0</td>\n",
       "      <td>0</td>\n",
       "      <td>0</td>\n",
       "      <td>0</td>\n",
       "      <td>0</td>\n",
       "      <td>0</td>\n",
       "      <td>0</td>\n",
       "      <td>0</td>\n",
       "      <td>0</td>\n",
       "    </tr>\n",
       "    <tr>\n",
       "      <th>1</th>\n",
       "      <td>Expressmoversuk</td>\n",
       "      <td>4.7</td>\n",
       "      <td>24</td>\n",
       "      <td>0</td>\n",
       "      <td>0</td>\n",
       "      <td>0</td>\n",
       "      <td>0</td>\n",
       "      <td>0</td>\n",
       "      <td>0</td>\n",
       "      <td>0</td>\n",
       "      <td>...</td>\n",
       "      <td>0</td>\n",
       "      <td>0</td>\n",
       "      <td>0</td>\n",
       "      <td>0</td>\n",
       "      <td>0</td>\n",
       "      <td>0</td>\n",
       "      <td>0</td>\n",
       "      <td>0</td>\n",
       "      <td>0</td>\n",
       "      <td>0</td>\n",
       "    </tr>\n",
       "    <tr>\n",
       "      <th>2</th>\n",
       "      <td>Buggy Repair Centre</td>\n",
       "      <td>4.7</td>\n",
       "      <td>24</td>\n",
       "      <td>0</td>\n",
       "      <td>0</td>\n",
       "      <td>0</td>\n",
       "      <td>0</td>\n",
       "      <td>0</td>\n",
       "      <td>0</td>\n",
       "      <td>0</td>\n",
       "      <td>...</td>\n",
       "      <td>0</td>\n",
       "      <td>0</td>\n",
       "      <td>0</td>\n",
       "      <td>0</td>\n",
       "      <td>0</td>\n",
       "      <td>0</td>\n",
       "      <td>0</td>\n",
       "      <td>0</td>\n",
       "      <td>0</td>\n",
       "      <td>0</td>\n",
       "    </tr>\n",
       "    <tr>\n",
       "      <th>3</th>\n",
       "      <td>Norwich Cleaners Ltd</td>\n",
       "      <td>4.7</td>\n",
       "      <td>24</td>\n",
       "      <td>0</td>\n",
       "      <td>0</td>\n",
       "      <td>0</td>\n",
       "      <td>0</td>\n",
       "      <td>0</td>\n",
       "      <td>0</td>\n",
       "      <td>0</td>\n",
       "      <td>...</td>\n",
       "      <td>0</td>\n",
       "      <td>0</td>\n",
       "      <td>0</td>\n",
       "      <td>0</td>\n",
       "      <td>0</td>\n",
       "      <td>0</td>\n",
       "      <td>0</td>\n",
       "      <td>0</td>\n",
       "      <td>0</td>\n",
       "      <td>0</td>\n",
       "    </tr>\n",
       "    <tr>\n",
       "      <th>4</th>\n",
       "      <td>Safe Heating Solutions ltd</td>\n",
       "      <td>4.7</td>\n",
       "      <td>24</td>\n",
       "      <td>0</td>\n",
       "      <td>0</td>\n",
       "      <td>0</td>\n",
       "      <td>0</td>\n",
       "      <td>0</td>\n",
       "      <td>0</td>\n",
       "      <td>0</td>\n",
       "      <td>...</td>\n",
       "      <td>0</td>\n",
       "      <td>0</td>\n",
       "      <td>0</td>\n",
       "      <td>0</td>\n",
       "      <td>0</td>\n",
       "      <td>0</td>\n",
       "      <td>0</td>\n",
       "      <td>0</td>\n",
       "      <td>0</td>\n",
       "      <td>0</td>\n",
       "    </tr>\n",
       "  </tbody>\n",
       "</table>\n",
       "<p>5 rows × 1101 columns</p>\n",
       "</div>"
      ],
      "text/plain": [
       "                 Company_Name  Rating Number_of_Reviews  Abrasives Supplier  \\\n",
       "0            G.R.D Decorators     4.7                24                   0   \n",
       "1             Expressmoversuk     4.7                24                   0   \n",
       "2         Buggy Repair Centre     4.7                24                   0   \n",
       "3        Norwich Cleaners Ltd     4.7                24                   0   \n",
       "4  Safe Heating Solutions ltd     4.7                24                   0   \n",
       "\n",
       "   Accountant  Accounting Firm  Acura Dealer  Adult Day Care Center  \\\n",
       "0           0                0             0                      0   \n",
       "1           0                0             0                      0   \n",
       "2           0                0             0                      0   \n",
       "3           0                0             0                      0   \n",
       "4           0                0             0                      0   \n",
       "\n",
       "   Adult Education School  Advertising Agency  ...  \\\n",
       "0                       0                   0  ...   \n",
       "1                       0                   0  ...   \n",
       "2                       0                   0  ...   \n",
       "3                       0                   0  ...   \n",
       "4                       0                   0  ...   \n",
       "\n",
       "   Wood Floor Refinishing Service  Wood Frame Supplier  Wood Supplier  \\\n",
       "0                               0                    0              0   \n",
       "1                               0                    0              0   \n",
       "2                               0                    0              0   \n",
       "3                               0                    0              0   \n",
       "4                               0                    0              0   \n",
       "\n",
       "   Wood and Laminate Flooring Supplier  Woodworker  Yoga Instructor  \\\n",
       "0                                    0           0                0   \n",
       "1                                    0           0                0   \n",
       "2                                    0           0                0   \n",
       "3                                    0           0                0   \n",
       "4                                    0           0                0   \n",
       "\n",
       "   Yoga Studio  e-Commerce Agency  e-Commerce Service  \\\n",
       "0            0                  0                   0   \n",
       "1            0                  0                   0   \n",
       "2            0                  0                   0   \n",
       "3            0                  0                   0   \n",
       "4            0                  0                   0   \n",
       "\n",
       "   e-Commerce Solution Provider  \n",
       "0                             0  \n",
       "1                             0  \n",
       "2                             0  \n",
       "3                             0  \n",
       "4                             0  \n",
       "\n",
       "[5 rows x 1101 columns]"
      ]
     },
     "execution_count": 27,
     "metadata": {},
     "output_type": "execute_result"
    }
   ],
   "source": [
    "# Define the list of substrings to check for in column names\n",
    "remove_substrings = ['Store', 'Interior Designer', 'Shop']\n",
    "\n",
    "# Filter out columns containing any of the specified substrings\n",
    "columns_to_keep = [col for col in df_encoded.columns if not any(substring in col for substring in remove_substrings)]\n",
    "\n",
    "# Create a new DataFrame with only the columns to keep\n",
    "df_encoded = df_encoded[columns_to_keep]\n",
    "\n",
    "# Display the first few rows of the filtered DataFra\n",
    "df_encoded.head()\n"
   ]
  },
  {
   "cell_type": "code",
   "execution_count": 28,
   "metadata": {},
   "outputs": [
    {
     "data": {
      "text/html": [
       "<div>\n",
       "<style scoped>\n",
       "    .dataframe tbody tr th:only-of-type {\n",
       "        vertical-align: middle;\n",
       "    }\n",
       "\n",
       "    .dataframe tbody tr th {\n",
       "        vertical-align: top;\n",
       "    }\n",
       "\n",
       "    .dataframe thead th {\n",
       "        text-align: right;\n",
       "    }\n",
       "</style>\n",
       "<table border=\"1\" class=\"dataframe\">\n",
       "  <thead>\n",
       "    <tr style=\"text-align: right;\">\n",
       "      <th></th>\n",
       "      <th>Company_Name</th>\n",
       "      <th>Rating</th>\n",
       "      <th>Number_of_Reviews</th>\n",
       "      <th>Abrasives Supplier</th>\n",
       "      <th>Accountant</th>\n",
       "      <th>Accounting Firm</th>\n",
       "      <th>Acura Dealer</th>\n",
       "      <th>Adult Day Care Center</th>\n",
       "      <th>Adult Education School</th>\n",
       "      <th>Advertising Agency</th>\n",
       "      <th>...</th>\n",
       "      <th>Wood Floor Refinishing Service</th>\n",
       "      <th>Wood Frame Supplier</th>\n",
       "      <th>Wood Supplier</th>\n",
       "      <th>Wood and Laminate Flooring Supplier</th>\n",
       "      <th>Woodworker</th>\n",
       "      <th>Yoga Instructor</th>\n",
       "      <th>Yoga Studio</th>\n",
       "      <th>e-Commerce Agency</th>\n",
       "      <th>e-Commerce Service</th>\n",
       "      <th>e-Commerce Solution Provider</th>\n",
       "    </tr>\n",
       "  </thead>\n",
       "  <tbody>\n",
       "    <tr>\n",
       "      <th>0</th>\n",
       "      <td>G.R.D Decorators</td>\n",
       "      <td>4.7</td>\n",
       "      <td>24</td>\n",
       "      <td>0</td>\n",
       "      <td>0</td>\n",
       "      <td>0</td>\n",
       "      <td>0</td>\n",
       "      <td>0</td>\n",
       "      <td>0</td>\n",
       "      <td>0</td>\n",
       "      <td>...</td>\n",
       "      <td>0</td>\n",
       "      <td>0</td>\n",
       "      <td>0</td>\n",
       "      <td>0</td>\n",
       "      <td>0</td>\n",
       "      <td>0</td>\n",
       "      <td>0</td>\n",
       "      <td>0</td>\n",
       "      <td>0</td>\n",
       "      <td>0</td>\n",
       "    </tr>\n",
       "    <tr>\n",
       "      <th>1</th>\n",
       "      <td>Expressmoversuk</td>\n",
       "      <td>4.7</td>\n",
       "      <td>24</td>\n",
       "      <td>0</td>\n",
       "      <td>0</td>\n",
       "      <td>0</td>\n",
       "      <td>0</td>\n",
       "      <td>0</td>\n",
       "      <td>0</td>\n",
       "      <td>0</td>\n",
       "      <td>...</td>\n",
       "      <td>0</td>\n",
       "      <td>0</td>\n",
       "      <td>0</td>\n",
       "      <td>0</td>\n",
       "      <td>0</td>\n",
       "      <td>0</td>\n",
       "      <td>0</td>\n",
       "      <td>0</td>\n",
       "      <td>0</td>\n",
       "      <td>0</td>\n",
       "    </tr>\n",
       "    <tr>\n",
       "      <th>2</th>\n",
       "      <td>Buggy Repair Centre</td>\n",
       "      <td>4.7</td>\n",
       "      <td>24</td>\n",
       "      <td>0</td>\n",
       "      <td>0</td>\n",
       "      <td>0</td>\n",
       "      <td>0</td>\n",
       "      <td>0</td>\n",
       "      <td>0</td>\n",
       "      <td>0</td>\n",
       "      <td>...</td>\n",
       "      <td>0</td>\n",
       "      <td>0</td>\n",
       "      <td>0</td>\n",
       "      <td>0</td>\n",
       "      <td>0</td>\n",
       "      <td>0</td>\n",
       "      <td>0</td>\n",
       "      <td>0</td>\n",
       "      <td>0</td>\n",
       "      <td>0</td>\n",
       "    </tr>\n",
       "    <tr>\n",
       "      <th>3</th>\n",
       "      <td>Norwich Cleaners Ltd</td>\n",
       "      <td>4.7</td>\n",
       "      <td>24</td>\n",
       "      <td>0</td>\n",
       "      <td>0</td>\n",
       "      <td>0</td>\n",
       "      <td>0</td>\n",
       "      <td>0</td>\n",
       "      <td>0</td>\n",
       "      <td>0</td>\n",
       "      <td>...</td>\n",
       "      <td>0</td>\n",
       "      <td>0</td>\n",
       "      <td>0</td>\n",
       "      <td>0</td>\n",
       "      <td>0</td>\n",
       "      <td>0</td>\n",
       "      <td>0</td>\n",
       "      <td>0</td>\n",
       "      <td>0</td>\n",
       "      <td>0</td>\n",
       "    </tr>\n",
       "    <tr>\n",
       "      <th>4</th>\n",
       "      <td>Safe Heating Solutions ltd</td>\n",
       "      <td>4.7</td>\n",
       "      <td>24</td>\n",
       "      <td>0</td>\n",
       "      <td>0</td>\n",
       "      <td>0</td>\n",
       "      <td>0</td>\n",
       "      <td>0</td>\n",
       "      <td>0</td>\n",
       "      <td>0</td>\n",
       "      <td>...</td>\n",
       "      <td>0</td>\n",
       "      <td>0</td>\n",
       "      <td>0</td>\n",
       "      <td>0</td>\n",
       "      <td>0</td>\n",
       "      <td>0</td>\n",
       "      <td>0</td>\n",
       "      <td>0</td>\n",
       "      <td>0</td>\n",
       "      <td>0</td>\n",
       "    </tr>\n",
       "    <tr>\n",
       "      <th>...</th>\n",
       "      <td>...</td>\n",
       "      <td>...</td>\n",
       "      <td>...</td>\n",
       "      <td>...</td>\n",
       "      <td>...</td>\n",
       "      <td>...</td>\n",
       "      <td>...</td>\n",
       "      <td>...</td>\n",
       "      <td>...</td>\n",
       "      <td>...</td>\n",
       "      <td>...</td>\n",
       "      <td>...</td>\n",
       "      <td>...</td>\n",
       "      <td>...</td>\n",
       "      <td>...</td>\n",
       "      <td>...</td>\n",
       "      <td>...</td>\n",
       "      <td>...</td>\n",
       "      <td>...</td>\n",
       "      <td>...</td>\n",
       "      <td>...</td>\n",
       "    </tr>\n",
       "    <tr>\n",
       "      <th>18771</th>\n",
       "      <td>Flatpack Assemble Ltd</td>\n",
       "      <td>4.2</td>\n",
       "      <td>6</td>\n",
       "      <td>0</td>\n",
       "      <td>0</td>\n",
       "      <td>0</td>\n",
       "      <td>0</td>\n",
       "      <td>0</td>\n",
       "      <td>0</td>\n",
       "      <td>0</td>\n",
       "      <td>...</td>\n",
       "      <td>0</td>\n",
       "      <td>0</td>\n",
       "      <td>0</td>\n",
       "      <td>0</td>\n",
       "      <td>0</td>\n",
       "      <td>0</td>\n",
       "      <td>0</td>\n",
       "      <td>0</td>\n",
       "      <td>0</td>\n",
       "      <td>0</td>\n",
       "    </tr>\n",
       "    <tr>\n",
       "      <th>18772</th>\n",
       "      <td>Babsela</td>\n",
       "      <td>4.2</td>\n",
       "      <td>6</td>\n",
       "      <td>0</td>\n",
       "      <td>0</td>\n",
       "      <td>0</td>\n",
       "      <td>0</td>\n",
       "      <td>0</td>\n",
       "      <td>0</td>\n",
       "      <td>0</td>\n",
       "      <td>...</td>\n",
       "      <td>0</td>\n",
       "      <td>0</td>\n",
       "      <td>0</td>\n",
       "      <td>0</td>\n",
       "      <td>0</td>\n",
       "      <td>0</td>\n",
       "      <td>0</td>\n",
       "      <td>0</td>\n",
       "      <td>0</td>\n",
       "      <td>0</td>\n",
       "    </tr>\n",
       "    <tr>\n",
       "      <th>18773</th>\n",
       "      <td>Tile Skinz Ltd</td>\n",
       "      <td>4.2</td>\n",
       "      <td>6</td>\n",
       "      <td>0</td>\n",
       "      <td>0</td>\n",
       "      <td>0</td>\n",
       "      <td>0</td>\n",
       "      <td>0</td>\n",
       "      <td>0</td>\n",
       "      <td>0</td>\n",
       "      <td>...</td>\n",
       "      <td>0</td>\n",
       "      <td>0</td>\n",
       "      <td>0</td>\n",
       "      <td>0</td>\n",
       "      <td>0</td>\n",
       "      <td>0</td>\n",
       "      <td>0</td>\n",
       "      <td>0</td>\n",
       "      <td>0</td>\n",
       "      <td>0</td>\n",
       "    </tr>\n",
       "    <tr>\n",
       "      <th>18774</th>\n",
       "      <td>Carrs Windows LTD</td>\n",
       "      <td>4.2</td>\n",
       "      <td>6</td>\n",
       "      <td>0</td>\n",
       "      <td>0</td>\n",
       "      <td>0</td>\n",
       "      <td>0</td>\n",
       "      <td>0</td>\n",
       "      <td>0</td>\n",
       "      <td>0</td>\n",
       "      <td>...</td>\n",
       "      <td>0</td>\n",
       "      <td>0</td>\n",
       "      <td>0</td>\n",
       "      <td>0</td>\n",
       "      <td>0</td>\n",
       "      <td>0</td>\n",
       "      <td>0</td>\n",
       "      <td>0</td>\n",
       "      <td>0</td>\n",
       "      <td>0</td>\n",
       "    </tr>\n",
       "    <tr>\n",
       "      <th>18775</th>\n",
       "      <td>Olive &amp; Berry</td>\n",
       "      <td>4.2</td>\n",
       "      <td>6</td>\n",
       "      <td>0</td>\n",
       "      <td>0</td>\n",
       "      <td>0</td>\n",
       "      <td>0</td>\n",
       "      <td>0</td>\n",
       "      <td>0</td>\n",
       "      <td>0</td>\n",
       "      <td>...</td>\n",
       "      <td>0</td>\n",
       "      <td>0</td>\n",
       "      <td>0</td>\n",
       "      <td>0</td>\n",
       "      <td>0</td>\n",
       "      <td>0</td>\n",
       "      <td>0</td>\n",
       "      <td>0</td>\n",
       "      <td>0</td>\n",
       "      <td>0</td>\n",
       "    </tr>\n",
       "  </tbody>\n",
       "</table>\n",
       "<p>18776 rows × 1101 columns</p>\n",
       "</div>"
      ],
      "text/plain": [
       "                     Company_Name  Rating Number_of_Reviews  \\\n",
       "0                G.R.D Decorators     4.7                24   \n",
       "1                 Expressmoversuk     4.7                24   \n",
       "2             Buggy Repair Centre     4.7                24   \n",
       "3            Norwich Cleaners Ltd     4.7                24   \n",
       "4      Safe Heating Solutions ltd     4.7                24   \n",
       "...                           ...     ...               ...   \n",
       "18771       Flatpack Assemble Ltd     4.2                 6   \n",
       "18772                     Babsela     4.2                 6   \n",
       "18773              Tile Skinz Ltd     4.2                 6   \n",
       "18774           Carrs Windows LTD     4.2                 6   \n",
       "18775               Olive & Berry     4.2                 6   \n",
       "\n",
       "       Abrasives Supplier  Accountant  Accounting Firm  Acura Dealer  \\\n",
       "0                       0           0                0             0   \n",
       "1                       0           0                0             0   \n",
       "2                       0           0                0             0   \n",
       "3                       0           0                0             0   \n",
       "4                       0           0                0             0   \n",
       "...                   ...         ...              ...           ...   \n",
       "18771                   0           0                0             0   \n",
       "18772                   0           0                0             0   \n",
       "18773                   0           0                0             0   \n",
       "18774                   0           0                0             0   \n",
       "18775                   0           0                0             0   \n",
       "\n",
       "       Adult Day Care Center  Adult Education School  Advertising Agency  ...  \\\n",
       "0                          0                       0                   0  ...   \n",
       "1                          0                       0                   0  ...   \n",
       "2                          0                       0                   0  ...   \n",
       "3                          0                       0                   0  ...   \n",
       "4                          0                       0                   0  ...   \n",
       "...                      ...                     ...                 ...  ...   \n",
       "18771                      0                       0                   0  ...   \n",
       "18772                      0                       0                   0  ...   \n",
       "18773                      0                       0                   0  ...   \n",
       "18774                      0                       0                   0  ...   \n",
       "18775                      0                       0                   0  ...   \n",
       "\n",
       "       Wood Floor Refinishing Service  Wood Frame Supplier  Wood Supplier  \\\n",
       "0                                   0                    0              0   \n",
       "1                                   0                    0              0   \n",
       "2                                   0                    0              0   \n",
       "3                                   0                    0              0   \n",
       "4                                   0                    0              0   \n",
       "...                               ...                  ...            ...   \n",
       "18771                               0                    0              0   \n",
       "18772                               0                    0              0   \n",
       "18773                               0                    0              0   \n",
       "18774                               0                    0              0   \n",
       "18775                               0                    0              0   \n",
       "\n",
       "       Wood and Laminate Flooring Supplier  Woodworker  Yoga Instructor  \\\n",
       "0                                        0           0                0   \n",
       "1                                        0           0                0   \n",
       "2                                        0           0                0   \n",
       "3                                        0           0                0   \n",
       "4                                        0           0                0   \n",
       "...                                    ...         ...              ...   \n",
       "18771                                    0           0                0   \n",
       "18772                                    0           0                0   \n",
       "18773                                    0           0                0   \n",
       "18774                                    0           0                0   \n",
       "18775                                    0           0                0   \n",
       "\n",
       "       Yoga Studio  e-Commerce Agency  e-Commerce Service  \\\n",
       "0                0                  0                   0   \n",
       "1                0                  0                   0   \n",
       "2                0                  0                   0   \n",
       "3                0                  0                   0   \n",
       "4                0                  0                   0   \n",
       "...            ...                ...                 ...   \n",
       "18771            0                  0                   0   \n",
       "18772            0                  0                   0   \n",
       "18773            0                  0                   0   \n",
       "18774            0                  0                   0   \n",
       "18775            0                  0                   0   \n",
       "\n",
       "       e-Commerce Solution Provider  \n",
       "0                                 0  \n",
       "1                                 0  \n",
       "2                                 0  \n",
       "3                                 0  \n",
       "4                                 0  \n",
       "...                             ...  \n",
       "18771                             0  \n",
       "18772                             0  \n",
       "18773                             0  \n",
       "18774                             0  \n",
       "18775                             0  \n",
       "\n",
       "[18776 rows x 1101 columns]"
      ]
     },
     "execution_count": 28,
     "metadata": {},
     "output_type": "execute_result"
    }
   ],
   "source": [
    "df_encoded"
   ]
  },
  {
   "cell_type": "code",
   "execution_count": 29,
   "metadata": {},
   "outputs": [
    {
     "data": {
      "text/html": [
       "<div>\n",
       "<style scoped>\n",
       "    .dataframe tbody tr th:only-of-type {\n",
       "        vertical-align: middle;\n",
       "    }\n",
       "\n",
       "    .dataframe tbody tr th {\n",
       "        vertical-align: top;\n",
       "    }\n",
       "\n",
       "    .dataframe thead th {\n",
       "        text-align: right;\n",
       "    }\n",
       "</style>\n",
       "<table border=\"1\" class=\"dataframe\">\n",
       "  <thead>\n",
       "    <tr style=\"text-align: right;\">\n",
       "      <th></th>\n",
       "      <th>Abrasives Supplier</th>\n",
       "      <th>Accountant</th>\n",
       "      <th>Accounting Firm</th>\n",
       "      <th>Acura Dealer</th>\n",
       "      <th>Adult Day Care Center</th>\n",
       "      <th>Adult Education School</th>\n",
       "      <th>Advertising Agency</th>\n",
       "      <th>Aerial Photographer</th>\n",
       "      <th>Affiliate Marketing Service</th>\n",
       "      <th>African Restaurant</th>\n",
       "      <th>...</th>\n",
       "      <th>Wood Floor Refinishing Service</th>\n",
       "      <th>Wood Frame Supplier</th>\n",
       "      <th>Wood Supplier</th>\n",
       "      <th>Wood and Laminate Flooring Supplier</th>\n",
       "      <th>Woodworker</th>\n",
       "      <th>Yoga Instructor</th>\n",
       "      <th>Yoga Studio</th>\n",
       "      <th>e-Commerce Agency</th>\n",
       "      <th>e-Commerce Service</th>\n",
       "      <th>e-Commerce Solution Provider</th>\n",
       "    </tr>\n",
       "  </thead>\n",
       "  <tbody>\n",
       "    <tr>\n",
       "      <th>0</th>\n",
       "      <td>0</td>\n",
       "      <td>0</td>\n",
       "      <td>0</td>\n",
       "      <td>0</td>\n",
       "      <td>0</td>\n",
       "      <td>0</td>\n",
       "      <td>0</td>\n",
       "      <td>0</td>\n",
       "      <td>0</td>\n",
       "      <td>0</td>\n",
       "      <td>...</td>\n",
       "      <td>0</td>\n",
       "      <td>0</td>\n",
       "      <td>0</td>\n",
       "      <td>0</td>\n",
       "      <td>0</td>\n",
       "      <td>0</td>\n",
       "      <td>0</td>\n",
       "      <td>0</td>\n",
       "      <td>0</td>\n",
       "      <td>0</td>\n",
       "    </tr>\n",
       "    <tr>\n",
       "      <th>1</th>\n",
       "      <td>0</td>\n",
       "      <td>0</td>\n",
       "      <td>0</td>\n",
       "      <td>0</td>\n",
       "      <td>0</td>\n",
       "      <td>0</td>\n",
       "      <td>0</td>\n",
       "      <td>0</td>\n",
       "      <td>0</td>\n",
       "      <td>0</td>\n",
       "      <td>...</td>\n",
       "      <td>0</td>\n",
       "      <td>0</td>\n",
       "      <td>0</td>\n",
       "      <td>0</td>\n",
       "      <td>0</td>\n",
       "      <td>0</td>\n",
       "      <td>0</td>\n",
       "      <td>0</td>\n",
       "      <td>0</td>\n",
       "      <td>0</td>\n",
       "    </tr>\n",
       "    <tr>\n",
       "      <th>2</th>\n",
       "      <td>0</td>\n",
       "      <td>0</td>\n",
       "      <td>0</td>\n",
       "      <td>0</td>\n",
       "      <td>0</td>\n",
       "      <td>0</td>\n",
       "      <td>0</td>\n",
       "      <td>0</td>\n",
       "      <td>0</td>\n",
       "      <td>0</td>\n",
       "      <td>...</td>\n",
       "      <td>0</td>\n",
       "      <td>0</td>\n",
       "      <td>0</td>\n",
       "      <td>0</td>\n",
       "      <td>0</td>\n",
       "      <td>0</td>\n",
       "      <td>0</td>\n",
       "      <td>0</td>\n",
       "      <td>0</td>\n",
       "      <td>0</td>\n",
       "    </tr>\n",
       "    <tr>\n",
       "      <th>3</th>\n",
       "      <td>0</td>\n",
       "      <td>0</td>\n",
       "      <td>0</td>\n",
       "      <td>0</td>\n",
       "      <td>0</td>\n",
       "      <td>0</td>\n",
       "      <td>0</td>\n",
       "      <td>0</td>\n",
       "      <td>0</td>\n",
       "      <td>0</td>\n",
       "      <td>...</td>\n",
       "      <td>0</td>\n",
       "      <td>0</td>\n",
       "      <td>0</td>\n",
       "      <td>0</td>\n",
       "      <td>0</td>\n",
       "      <td>0</td>\n",
       "      <td>0</td>\n",
       "      <td>0</td>\n",
       "      <td>0</td>\n",
       "      <td>0</td>\n",
       "    </tr>\n",
       "    <tr>\n",
       "      <th>4</th>\n",
       "      <td>0</td>\n",
       "      <td>0</td>\n",
       "      <td>0</td>\n",
       "      <td>0</td>\n",
       "      <td>0</td>\n",
       "      <td>0</td>\n",
       "      <td>0</td>\n",
       "      <td>0</td>\n",
       "      <td>0</td>\n",
       "      <td>0</td>\n",
       "      <td>...</td>\n",
       "      <td>0</td>\n",
       "      <td>0</td>\n",
       "      <td>0</td>\n",
       "      <td>0</td>\n",
       "      <td>0</td>\n",
       "      <td>0</td>\n",
       "      <td>0</td>\n",
       "      <td>0</td>\n",
       "      <td>0</td>\n",
       "      <td>0</td>\n",
       "    </tr>\n",
       "  </tbody>\n",
       "</table>\n",
       "<p>5 rows × 1098 columns</p>\n",
       "</div>"
      ],
      "text/plain": [
       "   Abrasives Supplier  Accountant  Accounting Firm  Acura Dealer  \\\n",
       "0                   0           0                0             0   \n",
       "1                   0           0                0             0   \n",
       "2                   0           0                0             0   \n",
       "3                   0           0                0             0   \n",
       "4                   0           0                0             0   \n",
       "\n",
       "   Adult Day Care Center  Adult Education School  Advertising Agency  \\\n",
       "0                      0                       0                   0   \n",
       "1                      0                       0                   0   \n",
       "2                      0                       0                   0   \n",
       "3                      0                       0                   0   \n",
       "4                      0                       0                   0   \n",
       "\n",
       "   Aerial Photographer  Affiliate Marketing Service  African Restaurant  ...  \\\n",
       "0                    0                            0                   0  ...   \n",
       "1                    0                            0                   0  ...   \n",
       "2                    0                            0                   0  ...   \n",
       "3                    0                            0                   0  ...   \n",
       "4                    0                            0                   0  ...   \n",
       "\n",
       "   Wood Floor Refinishing Service  Wood Frame Supplier  Wood Supplier  \\\n",
       "0                               0                    0              0   \n",
       "1                               0                    0              0   \n",
       "2                               0                    0              0   \n",
       "3                               0                    0              0   \n",
       "4                               0                    0              0   \n",
       "\n",
       "   Wood and Laminate Flooring Supplier  Woodworker  Yoga Instructor  \\\n",
       "0                                    0           0                0   \n",
       "1                                    0           0                0   \n",
       "2                                    0           0                0   \n",
       "3                                    0           0                0   \n",
       "4                                    0           0                0   \n",
       "\n",
       "   Yoga Studio  e-Commerce Agency  e-Commerce Service  \\\n",
       "0            0                  0                   0   \n",
       "1            0                  0                   0   \n",
       "2            0                  0                   0   \n",
       "3            0                  0                   0   \n",
       "4            0                  0                   0   \n",
       "\n",
       "   e-Commerce Solution Provider  \n",
       "0                             0  \n",
       "1                             0  \n",
       "2                             0  \n",
       "3                             0  \n",
       "4                             0  \n",
       "\n",
       "[5 rows x 1098 columns]"
      ]
     },
     "execution_count": 29,
     "metadata": {},
     "output_type": "execute_result"
    }
   ],
   "source": [
    "# Define the list of substrings to check for in column names\n",
    "remove_substrings = ['Store', 'Interior Designer', 'Shop']\n",
    "\n",
    "# Filter out columns containing any of the specified substrings\n",
    "columns_to_keep = [col for col in categories_df.columns if not any(substring in col for substring in remove_substrings)]\n",
    "\n",
    "# Create a new DataFrame with only the columns to keep\n",
    "categories_df = categories_df[columns_to_keep]\n",
    "\n",
    "# Display the first few rows of the filtered DataFra\n",
    "categories_df.head()\n"
   ]
  },
  {
   "cell_type": "code",
   "execution_count": 30,
   "metadata": {},
   "outputs": [
    {
     "data": {
      "text/html": [
       "<div>\n",
       "<style scoped>\n",
       "    .dataframe tbody tr th:only-of-type {\n",
       "        vertical-align: middle;\n",
       "    }\n",
       "\n",
       "    .dataframe tbody tr th {\n",
       "        vertical-align: top;\n",
       "    }\n",
       "\n",
       "    .dataframe thead th {\n",
       "        text-align: right;\n",
       "    }\n",
       "</style>\n",
       "<table border=\"1\" class=\"dataframe\">\n",
       "  <thead>\n",
       "    <tr style=\"text-align: right;\">\n",
       "      <th></th>\n",
       "      <th>Abrasives Supplier</th>\n",
       "      <th>Accountant</th>\n",
       "      <th>Accounting Firm</th>\n",
       "      <th>Acura Dealer</th>\n",
       "      <th>Adult Day Care Center</th>\n",
       "      <th>Adult Education School</th>\n",
       "      <th>Advertising Agency</th>\n",
       "      <th>Aerial Photographer</th>\n",
       "      <th>Affiliate Marketing Service</th>\n",
       "      <th>African Restaurant</th>\n",
       "      <th>...</th>\n",
       "      <th>Wood Floor Refinishing Service</th>\n",
       "      <th>Wood Frame Supplier</th>\n",
       "      <th>Wood Supplier</th>\n",
       "      <th>Wood and Laminate Flooring Supplier</th>\n",
       "      <th>Woodworker</th>\n",
       "      <th>Yoga Instructor</th>\n",
       "      <th>Yoga Studio</th>\n",
       "      <th>e-Commerce Agency</th>\n",
       "      <th>e-Commerce Service</th>\n",
       "      <th>e-Commerce Solution Provider</th>\n",
       "    </tr>\n",
       "  </thead>\n",
       "  <tbody>\n",
       "    <tr>\n",
       "      <th>0</th>\n",
       "      <td>0</td>\n",
       "      <td>0</td>\n",
       "      <td>0</td>\n",
       "      <td>0</td>\n",
       "      <td>0</td>\n",
       "      <td>0</td>\n",
       "      <td>0</td>\n",
       "      <td>0</td>\n",
       "      <td>0</td>\n",
       "      <td>0</td>\n",
       "      <td>...</td>\n",
       "      <td>0</td>\n",
       "      <td>0</td>\n",
       "      <td>0</td>\n",
       "      <td>0</td>\n",
       "      <td>0</td>\n",
       "      <td>0</td>\n",
       "      <td>0</td>\n",
       "      <td>0</td>\n",
       "      <td>0</td>\n",
       "      <td>0</td>\n",
       "    </tr>\n",
       "    <tr>\n",
       "      <th>1</th>\n",
       "      <td>0</td>\n",
       "      <td>0</td>\n",
       "      <td>0</td>\n",
       "      <td>0</td>\n",
       "      <td>0</td>\n",
       "      <td>0</td>\n",
       "      <td>0</td>\n",
       "      <td>0</td>\n",
       "      <td>0</td>\n",
       "      <td>0</td>\n",
       "      <td>...</td>\n",
       "      <td>0</td>\n",
       "      <td>0</td>\n",
       "      <td>0</td>\n",
       "      <td>0</td>\n",
       "      <td>0</td>\n",
       "      <td>0</td>\n",
       "      <td>0</td>\n",
       "      <td>0</td>\n",
       "      <td>0</td>\n",
       "      <td>0</td>\n",
       "    </tr>\n",
       "    <tr>\n",
       "      <th>2</th>\n",
       "      <td>0</td>\n",
       "      <td>0</td>\n",
       "      <td>0</td>\n",
       "      <td>0</td>\n",
       "      <td>0</td>\n",
       "      <td>0</td>\n",
       "      <td>0</td>\n",
       "      <td>0</td>\n",
       "      <td>0</td>\n",
       "      <td>0</td>\n",
       "      <td>...</td>\n",
       "      <td>0</td>\n",
       "      <td>0</td>\n",
       "      <td>0</td>\n",
       "      <td>0</td>\n",
       "      <td>0</td>\n",
       "      <td>0</td>\n",
       "      <td>0</td>\n",
       "      <td>0</td>\n",
       "      <td>0</td>\n",
       "      <td>0</td>\n",
       "    </tr>\n",
       "    <tr>\n",
       "      <th>3</th>\n",
       "      <td>0</td>\n",
       "      <td>0</td>\n",
       "      <td>0</td>\n",
       "      <td>0</td>\n",
       "      <td>0</td>\n",
       "      <td>0</td>\n",
       "      <td>0</td>\n",
       "      <td>0</td>\n",
       "      <td>0</td>\n",
       "      <td>0</td>\n",
       "      <td>...</td>\n",
       "      <td>0</td>\n",
       "      <td>0</td>\n",
       "      <td>0</td>\n",
       "      <td>0</td>\n",
       "      <td>0</td>\n",
       "      <td>0</td>\n",
       "      <td>0</td>\n",
       "      <td>0</td>\n",
       "      <td>0</td>\n",
       "      <td>0</td>\n",
       "    </tr>\n",
       "    <tr>\n",
       "      <th>4</th>\n",
       "      <td>0</td>\n",
       "      <td>0</td>\n",
       "      <td>0</td>\n",
       "      <td>0</td>\n",
       "      <td>0</td>\n",
       "      <td>0</td>\n",
       "      <td>0</td>\n",
       "      <td>0</td>\n",
       "      <td>0</td>\n",
       "      <td>0</td>\n",
       "      <td>...</td>\n",
       "      <td>0</td>\n",
       "      <td>0</td>\n",
       "      <td>0</td>\n",
       "      <td>0</td>\n",
       "      <td>0</td>\n",
       "      <td>0</td>\n",
       "      <td>0</td>\n",
       "      <td>0</td>\n",
       "      <td>0</td>\n",
       "      <td>0</td>\n",
       "    </tr>\n",
       "    <tr>\n",
       "      <th>...</th>\n",
       "      <td>...</td>\n",
       "      <td>...</td>\n",
       "      <td>...</td>\n",
       "      <td>...</td>\n",
       "      <td>...</td>\n",
       "      <td>...</td>\n",
       "      <td>...</td>\n",
       "      <td>...</td>\n",
       "      <td>...</td>\n",
       "      <td>...</td>\n",
       "      <td>...</td>\n",
       "      <td>...</td>\n",
       "      <td>...</td>\n",
       "      <td>...</td>\n",
       "      <td>...</td>\n",
       "      <td>...</td>\n",
       "      <td>...</td>\n",
       "      <td>...</td>\n",
       "      <td>...</td>\n",
       "      <td>...</td>\n",
       "      <td>...</td>\n",
       "    </tr>\n",
       "    <tr>\n",
       "      <th>18771</th>\n",
       "      <td>0</td>\n",
       "      <td>0</td>\n",
       "      <td>0</td>\n",
       "      <td>0</td>\n",
       "      <td>0</td>\n",
       "      <td>0</td>\n",
       "      <td>0</td>\n",
       "      <td>0</td>\n",
       "      <td>0</td>\n",
       "      <td>0</td>\n",
       "      <td>...</td>\n",
       "      <td>0</td>\n",
       "      <td>0</td>\n",
       "      <td>0</td>\n",
       "      <td>0</td>\n",
       "      <td>0</td>\n",
       "      <td>0</td>\n",
       "      <td>0</td>\n",
       "      <td>0</td>\n",
       "      <td>0</td>\n",
       "      <td>0</td>\n",
       "    </tr>\n",
       "    <tr>\n",
       "      <th>18772</th>\n",
       "      <td>0</td>\n",
       "      <td>0</td>\n",
       "      <td>0</td>\n",
       "      <td>0</td>\n",
       "      <td>0</td>\n",
       "      <td>0</td>\n",
       "      <td>0</td>\n",
       "      <td>0</td>\n",
       "      <td>0</td>\n",
       "      <td>0</td>\n",
       "      <td>...</td>\n",
       "      <td>0</td>\n",
       "      <td>0</td>\n",
       "      <td>0</td>\n",
       "      <td>0</td>\n",
       "      <td>0</td>\n",
       "      <td>0</td>\n",
       "      <td>0</td>\n",
       "      <td>0</td>\n",
       "      <td>0</td>\n",
       "      <td>0</td>\n",
       "    </tr>\n",
       "    <tr>\n",
       "      <th>18773</th>\n",
       "      <td>0</td>\n",
       "      <td>0</td>\n",
       "      <td>0</td>\n",
       "      <td>0</td>\n",
       "      <td>0</td>\n",
       "      <td>0</td>\n",
       "      <td>0</td>\n",
       "      <td>0</td>\n",
       "      <td>0</td>\n",
       "      <td>0</td>\n",
       "      <td>...</td>\n",
       "      <td>0</td>\n",
       "      <td>0</td>\n",
       "      <td>0</td>\n",
       "      <td>0</td>\n",
       "      <td>0</td>\n",
       "      <td>0</td>\n",
       "      <td>0</td>\n",
       "      <td>0</td>\n",
       "      <td>0</td>\n",
       "      <td>0</td>\n",
       "    </tr>\n",
       "    <tr>\n",
       "      <th>18774</th>\n",
       "      <td>0</td>\n",
       "      <td>0</td>\n",
       "      <td>0</td>\n",
       "      <td>0</td>\n",
       "      <td>0</td>\n",
       "      <td>0</td>\n",
       "      <td>0</td>\n",
       "      <td>0</td>\n",
       "      <td>0</td>\n",
       "      <td>0</td>\n",
       "      <td>...</td>\n",
       "      <td>0</td>\n",
       "      <td>0</td>\n",
       "      <td>0</td>\n",
       "      <td>0</td>\n",
       "      <td>0</td>\n",
       "      <td>0</td>\n",
       "      <td>0</td>\n",
       "      <td>0</td>\n",
       "      <td>0</td>\n",
       "      <td>0</td>\n",
       "    </tr>\n",
       "    <tr>\n",
       "      <th>18775</th>\n",
       "      <td>0</td>\n",
       "      <td>0</td>\n",
       "      <td>0</td>\n",
       "      <td>0</td>\n",
       "      <td>0</td>\n",
       "      <td>0</td>\n",
       "      <td>0</td>\n",
       "      <td>0</td>\n",
       "      <td>0</td>\n",
       "      <td>0</td>\n",
       "      <td>...</td>\n",
       "      <td>0</td>\n",
       "      <td>0</td>\n",
       "      <td>0</td>\n",
       "      <td>0</td>\n",
       "      <td>0</td>\n",
       "      <td>0</td>\n",
       "      <td>0</td>\n",
       "      <td>0</td>\n",
       "      <td>0</td>\n",
       "      <td>0</td>\n",
       "    </tr>\n",
       "  </tbody>\n",
       "</table>\n",
       "<p>18776 rows × 1098 columns</p>\n",
       "</div>"
      ],
      "text/plain": [
       "       Abrasives Supplier  Accountant  Accounting Firm  Acura Dealer  \\\n",
       "0                       0           0                0             0   \n",
       "1                       0           0                0             0   \n",
       "2                       0           0                0             0   \n",
       "3                       0           0                0             0   \n",
       "4                       0           0                0             0   \n",
       "...                   ...         ...              ...           ...   \n",
       "18771                   0           0                0             0   \n",
       "18772                   0           0                0             0   \n",
       "18773                   0           0                0             0   \n",
       "18774                   0           0                0             0   \n",
       "18775                   0           0                0             0   \n",
       "\n",
       "       Adult Day Care Center  Adult Education School  Advertising Agency  \\\n",
       "0                          0                       0                   0   \n",
       "1                          0                       0                   0   \n",
       "2                          0                       0                   0   \n",
       "3                          0                       0                   0   \n",
       "4                          0                       0                   0   \n",
       "...                      ...                     ...                 ...   \n",
       "18771                      0                       0                   0   \n",
       "18772                      0                       0                   0   \n",
       "18773                      0                       0                   0   \n",
       "18774                      0                       0                   0   \n",
       "18775                      0                       0                   0   \n",
       "\n",
       "       Aerial Photographer  Affiliate Marketing Service  African Restaurant  \\\n",
       "0                        0                            0                   0   \n",
       "1                        0                            0                   0   \n",
       "2                        0                            0                   0   \n",
       "3                        0                            0                   0   \n",
       "4                        0                            0                   0   \n",
       "...                    ...                          ...                 ...   \n",
       "18771                    0                            0                   0   \n",
       "18772                    0                            0                   0   \n",
       "18773                    0                            0                   0   \n",
       "18774                    0                            0                   0   \n",
       "18775                    0                            0                   0   \n",
       "\n",
       "       ...  Wood Floor Refinishing Service  Wood Frame Supplier  \\\n",
       "0      ...                               0                    0   \n",
       "1      ...                               0                    0   \n",
       "2      ...                               0                    0   \n",
       "3      ...                               0                    0   \n",
       "4      ...                               0                    0   \n",
       "...    ...                             ...                  ...   \n",
       "18771  ...                               0                    0   \n",
       "18772  ...                               0                    0   \n",
       "18773  ...                               0                    0   \n",
       "18774  ...                               0                    0   \n",
       "18775  ...                               0                    0   \n",
       "\n",
       "       Wood Supplier  Wood and Laminate Flooring Supplier  Woodworker  \\\n",
       "0                  0                                    0           0   \n",
       "1                  0                                    0           0   \n",
       "2                  0                                    0           0   \n",
       "3                  0                                    0           0   \n",
       "4                  0                                    0           0   \n",
       "...              ...                                  ...         ...   \n",
       "18771              0                                    0           0   \n",
       "18772              0                                    0           0   \n",
       "18773              0                                    0           0   \n",
       "18774              0                                    0           0   \n",
       "18775              0                                    0           0   \n",
       "\n",
       "       Yoga Instructor  Yoga Studio  e-Commerce Agency  e-Commerce Service  \\\n",
       "0                    0            0                  0                   0   \n",
       "1                    0            0                  0                   0   \n",
       "2                    0            0                  0                   0   \n",
       "3                    0            0                  0                   0   \n",
       "4                    0            0                  0                   0   \n",
       "...                ...          ...                ...                 ...   \n",
       "18771                0            0                  0                   0   \n",
       "18772                0            0                  0                   0   \n",
       "18773                0            0                  0                   0   \n",
       "18774                0            0                  0                   0   \n",
       "18775                0            0                  0                   0   \n",
       "\n",
       "       e-Commerce Solution Provider  \n",
       "0                                 0  \n",
       "1                                 0  \n",
       "2                                 0  \n",
       "3                                 0  \n",
       "4                                 0  \n",
       "...                             ...  \n",
       "18771                             0  \n",
       "18772                             0  \n",
       "18773                             0  \n",
       "18774                             0  \n",
       "18775                             0  \n",
       "\n",
       "[18776 rows x 1098 columns]"
      ]
     },
     "execution_count": 30,
     "metadata": {},
     "output_type": "execute_result"
    }
   ],
   "source": [
    "categories_df"
   ]
  },
  {
   "cell_type": "markdown",
   "metadata": {},
   "source": [
    "## Visualization"
   ]
  },
  {
   "cell_type": "markdown",
   "metadata": {},
   "source": [
    "### Top 20 Most Common Services Provided by Suppliers"
   ]
  },
  {
   "cell_type": "code",
   "execution_count": 31,
   "metadata": {},
   "outputs": [
    {
     "name": "stdout",
     "output_type": "stream",
     "text": [
      "The first 5 categories that appear most frequently are:\n",
      "Plumber                            1736\n",
      "Cleaning Service                   1076\n",
      "Home Services                       886\n",
      "Boiler and Heating Service          775\n",
      "Garden Center                       764\n",
      "Electrician                         761\n",
      "Heating Contractor                  701\n",
      "Moving Company                      689\n",
      "Bathroom Remodeler                  687\n",
      "Gas Installation Service            584\n",
      "Gas Engineer                        572\n",
      "Carpet Cleaning Service             503\n",
      "Moving and Storage Service          497\n",
      "Home & Garden                       483\n",
      "Electrical Installation Service     472\n",
      "Double Glazing Installer            416\n",
      "House Cleaning Service              395\n",
      "Kitchen Remodeler                   390\n",
      "Commercial Cleaning Service         361\n",
      "Security System Installer           343\n",
      "dtype: int64\n"
     ]
    }
   ],
   "source": [
    "category_counts = categories_df.sum().sort_values(ascending=False)\n",
    "\n",
    "# Get the top 5 categories\n",
    "top_20_categories = category_counts.head(20)\n",
    "\n",
    "print(\"The first 5 categories that appear most frequently are:\")\n",
    "print(top_20_categories)\n"
   ]
  },
  {
   "cell_type": "code",
   "execution_count": 32,
   "metadata": {},
   "outputs": [
    {
     "data": {
      "application/vnd.plotly.v1+json": {
       "config": {
        "plotlyServerURL": "https://plot.ly"
       },
       "data": [
        {
         "alignmentgroup": "True",
         "hovertemplate": "index=%{x}<br>Number of Appearances=%{y}<br>color=%{marker.color}<extra></extra>",
         "legendgroup": "",
         "marker": {
          "color": [
           1736,
           1076,
           886,
           775,
           764,
           761,
           701,
           689,
           687,
           584,
           572,
           503,
           497,
           483,
           472,
           416,
           395,
           390,
           361,
           343
          ],
          "coloraxis": "coloraxis",
          "pattern": {
           "shape": ""
          }
         },
         "name": "",
         "offsetgroup": "",
         "orientation": "v",
         "showlegend": false,
         "textposition": "auto",
         "type": "bar",
         "x": [
          "Plumber",
          "Cleaning Service",
          "Home Services",
          "Boiler and Heating Service",
          "Garden Center",
          "Electrician",
          "Heating Contractor",
          "Moving Company",
          "Bathroom Remodeler",
          "Gas Installation Service",
          "Gas Engineer",
          "Carpet Cleaning Service",
          "Moving and Storage Service",
          "Home & Garden",
          "Electrical Installation Service",
          "Double Glazing Installer",
          "House Cleaning Service",
          "Kitchen Remodeler",
          "Commercial Cleaning Service",
          "Security System Installer"
         ],
         "xaxis": "x",
         "y": [
          1736,
          1076,
          886,
          775,
          764,
          761,
          701,
          689,
          687,
          584,
          572,
          503,
          497,
          483,
          472,
          416,
          395,
          390,
          361,
          343
         ],
         "yaxis": "y"
        }
       ],
       "layout": {
        "barmode": "relative",
        "coloraxis": {
         "colorbar": {
          "title": {
           "text": "color"
          }
         },
         "colorscale": [
          [
           0,
           "#440154"
          ],
          [
           0.1111111111111111,
           "#482878"
          ],
          [
           0.2222222222222222,
           "#3e4989"
          ],
          [
           0.3333333333333333,
           "#31688e"
          ],
          [
           0.4444444444444444,
           "#26828e"
          ],
          [
           0.5555555555555556,
           "#1f9e89"
          ],
          [
           0.6666666666666666,
           "#35b779"
          ],
          [
           0.7777777777777778,
           "#6ece58"
          ],
          [
           0.8888888888888888,
           "#b5de2b"
          ],
          [
           1,
           "#fde725"
          ]
         ]
        },
        "legend": {
         "tracegroupgap": 0
        },
        "paper_bgcolor": "white",
        "plot_bgcolor": "white",
        "template": {
         "data": {
          "bar": [
           {
            "error_x": {
             "color": "#2a3f5f"
            },
            "error_y": {
             "color": "#2a3f5f"
            },
            "marker": {
             "line": {
              "color": "#E5ECF6",
              "width": 0.5
             },
             "pattern": {
              "fillmode": "overlay",
              "size": 10,
              "solidity": 0.2
             }
            },
            "type": "bar"
           }
          ],
          "barpolar": [
           {
            "marker": {
             "line": {
              "color": "#E5ECF6",
              "width": 0.5
             },
             "pattern": {
              "fillmode": "overlay",
              "size": 10,
              "solidity": 0.2
             }
            },
            "type": "barpolar"
           }
          ],
          "carpet": [
           {
            "aaxis": {
             "endlinecolor": "#2a3f5f",
             "gridcolor": "white",
             "linecolor": "white",
             "minorgridcolor": "white",
             "startlinecolor": "#2a3f5f"
            },
            "baxis": {
             "endlinecolor": "#2a3f5f",
             "gridcolor": "white",
             "linecolor": "white",
             "minorgridcolor": "white",
             "startlinecolor": "#2a3f5f"
            },
            "type": "carpet"
           }
          ],
          "choropleth": [
           {
            "colorbar": {
             "outlinewidth": 0,
             "ticks": ""
            },
            "type": "choropleth"
           }
          ],
          "contour": [
           {
            "colorbar": {
             "outlinewidth": 0,
             "ticks": ""
            },
            "colorscale": [
             [
              0,
              "#0d0887"
             ],
             [
              0.1111111111111111,
              "#46039f"
             ],
             [
              0.2222222222222222,
              "#7201a8"
             ],
             [
              0.3333333333333333,
              "#9c179e"
             ],
             [
              0.4444444444444444,
              "#bd3786"
             ],
             [
              0.5555555555555556,
              "#d8576b"
             ],
             [
              0.6666666666666666,
              "#ed7953"
             ],
             [
              0.7777777777777778,
              "#fb9f3a"
             ],
             [
              0.8888888888888888,
              "#fdca26"
             ],
             [
              1,
              "#f0f921"
             ]
            ],
            "type": "contour"
           }
          ],
          "contourcarpet": [
           {
            "colorbar": {
             "outlinewidth": 0,
             "ticks": ""
            },
            "type": "contourcarpet"
           }
          ],
          "heatmap": [
           {
            "colorbar": {
             "outlinewidth": 0,
             "ticks": ""
            },
            "colorscale": [
             [
              0,
              "#0d0887"
             ],
             [
              0.1111111111111111,
              "#46039f"
             ],
             [
              0.2222222222222222,
              "#7201a8"
             ],
             [
              0.3333333333333333,
              "#9c179e"
             ],
             [
              0.4444444444444444,
              "#bd3786"
             ],
             [
              0.5555555555555556,
              "#d8576b"
             ],
             [
              0.6666666666666666,
              "#ed7953"
             ],
             [
              0.7777777777777778,
              "#fb9f3a"
             ],
             [
              0.8888888888888888,
              "#fdca26"
             ],
             [
              1,
              "#f0f921"
             ]
            ],
            "type": "heatmap"
           }
          ],
          "heatmapgl": [
           {
            "colorbar": {
             "outlinewidth": 0,
             "ticks": ""
            },
            "colorscale": [
             [
              0,
              "#0d0887"
             ],
             [
              0.1111111111111111,
              "#46039f"
             ],
             [
              0.2222222222222222,
              "#7201a8"
             ],
             [
              0.3333333333333333,
              "#9c179e"
             ],
             [
              0.4444444444444444,
              "#bd3786"
             ],
             [
              0.5555555555555556,
              "#d8576b"
             ],
             [
              0.6666666666666666,
              "#ed7953"
             ],
             [
              0.7777777777777778,
              "#fb9f3a"
             ],
             [
              0.8888888888888888,
              "#fdca26"
             ],
             [
              1,
              "#f0f921"
             ]
            ],
            "type": "heatmapgl"
           }
          ],
          "histogram": [
           {
            "marker": {
             "pattern": {
              "fillmode": "overlay",
              "size": 10,
              "solidity": 0.2
             }
            },
            "type": "histogram"
           }
          ],
          "histogram2d": [
           {
            "colorbar": {
             "outlinewidth": 0,
             "ticks": ""
            },
            "colorscale": [
             [
              0,
              "#0d0887"
             ],
             [
              0.1111111111111111,
              "#46039f"
             ],
             [
              0.2222222222222222,
              "#7201a8"
             ],
             [
              0.3333333333333333,
              "#9c179e"
             ],
             [
              0.4444444444444444,
              "#bd3786"
             ],
             [
              0.5555555555555556,
              "#d8576b"
             ],
             [
              0.6666666666666666,
              "#ed7953"
             ],
             [
              0.7777777777777778,
              "#fb9f3a"
             ],
             [
              0.8888888888888888,
              "#fdca26"
             ],
             [
              1,
              "#f0f921"
             ]
            ],
            "type": "histogram2d"
           }
          ],
          "histogram2dcontour": [
           {
            "colorbar": {
             "outlinewidth": 0,
             "ticks": ""
            },
            "colorscale": [
             [
              0,
              "#0d0887"
             ],
             [
              0.1111111111111111,
              "#46039f"
             ],
             [
              0.2222222222222222,
              "#7201a8"
             ],
             [
              0.3333333333333333,
              "#9c179e"
             ],
             [
              0.4444444444444444,
              "#bd3786"
             ],
             [
              0.5555555555555556,
              "#d8576b"
             ],
             [
              0.6666666666666666,
              "#ed7953"
             ],
             [
              0.7777777777777778,
              "#fb9f3a"
             ],
             [
              0.8888888888888888,
              "#fdca26"
             ],
             [
              1,
              "#f0f921"
             ]
            ],
            "type": "histogram2dcontour"
           }
          ],
          "mesh3d": [
           {
            "colorbar": {
             "outlinewidth": 0,
             "ticks": ""
            },
            "type": "mesh3d"
           }
          ],
          "parcoords": [
           {
            "line": {
             "colorbar": {
              "outlinewidth": 0,
              "ticks": ""
             }
            },
            "type": "parcoords"
           }
          ],
          "pie": [
           {
            "automargin": true,
            "type": "pie"
           }
          ],
          "scatter": [
           {
            "fillpattern": {
             "fillmode": "overlay",
             "size": 10,
             "solidity": 0.2
            },
            "type": "scatter"
           }
          ],
          "scatter3d": [
           {
            "line": {
             "colorbar": {
              "outlinewidth": 0,
              "ticks": ""
             }
            },
            "marker": {
             "colorbar": {
              "outlinewidth": 0,
              "ticks": ""
             }
            },
            "type": "scatter3d"
           }
          ],
          "scattercarpet": [
           {
            "marker": {
             "colorbar": {
              "outlinewidth": 0,
              "ticks": ""
             }
            },
            "type": "scattercarpet"
           }
          ],
          "scattergeo": [
           {
            "marker": {
             "colorbar": {
              "outlinewidth": 0,
              "ticks": ""
             }
            },
            "type": "scattergeo"
           }
          ],
          "scattergl": [
           {
            "marker": {
             "colorbar": {
              "outlinewidth": 0,
              "ticks": ""
             }
            },
            "type": "scattergl"
           }
          ],
          "scattermapbox": [
           {
            "marker": {
             "colorbar": {
              "outlinewidth": 0,
              "ticks": ""
             }
            },
            "type": "scattermapbox"
           }
          ],
          "scatterpolar": [
           {
            "marker": {
             "colorbar": {
              "outlinewidth": 0,
              "ticks": ""
             }
            },
            "type": "scatterpolar"
           }
          ],
          "scatterpolargl": [
           {
            "marker": {
             "colorbar": {
              "outlinewidth": 0,
              "ticks": ""
             }
            },
            "type": "scatterpolargl"
           }
          ],
          "scatterternary": [
           {
            "marker": {
             "colorbar": {
              "outlinewidth": 0,
              "ticks": ""
             }
            },
            "type": "scatterternary"
           }
          ],
          "surface": [
           {
            "colorbar": {
             "outlinewidth": 0,
             "ticks": ""
            },
            "colorscale": [
             [
              0,
              "#0d0887"
             ],
             [
              0.1111111111111111,
              "#46039f"
             ],
             [
              0.2222222222222222,
              "#7201a8"
             ],
             [
              0.3333333333333333,
              "#9c179e"
             ],
             [
              0.4444444444444444,
              "#bd3786"
             ],
             [
              0.5555555555555556,
              "#d8576b"
             ],
             [
              0.6666666666666666,
              "#ed7953"
             ],
             [
              0.7777777777777778,
              "#fb9f3a"
             ],
             [
              0.8888888888888888,
              "#fdca26"
             ],
             [
              1,
              "#f0f921"
             ]
            ],
            "type": "surface"
           }
          ],
          "table": [
           {
            "cells": {
             "fill": {
              "color": "#EBF0F8"
             },
             "line": {
              "color": "white"
             }
            },
            "header": {
             "fill": {
              "color": "#C8D4E3"
             },
             "line": {
              "color": "white"
             }
            },
            "type": "table"
           }
          ]
         },
         "layout": {
          "annotationdefaults": {
           "arrowcolor": "#2a3f5f",
           "arrowhead": 0,
           "arrowwidth": 1
          },
          "autotypenumbers": "strict",
          "coloraxis": {
           "colorbar": {
            "outlinewidth": 0,
            "ticks": ""
           }
          },
          "colorscale": {
           "diverging": [
            [
             0,
             "#8e0152"
            ],
            [
             0.1,
             "#c51b7d"
            ],
            [
             0.2,
             "#de77ae"
            ],
            [
             0.3,
             "#f1b6da"
            ],
            [
             0.4,
             "#fde0ef"
            ],
            [
             0.5,
             "#f7f7f7"
            ],
            [
             0.6,
             "#e6f5d0"
            ],
            [
             0.7,
             "#b8e186"
            ],
            [
             0.8,
             "#7fbc41"
            ],
            [
             0.9,
             "#4d9221"
            ],
            [
             1,
             "#276419"
            ]
           ],
           "sequential": [
            [
             0,
             "#0d0887"
            ],
            [
             0.1111111111111111,
             "#46039f"
            ],
            [
             0.2222222222222222,
             "#7201a8"
            ],
            [
             0.3333333333333333,
             "#9c179e"
            ],
            [
             0.4444444444444444,
             "#bd3786"
            ],
            [
             0.5555555555555556,
             "#d8576b"
            ],
            [
             0.6666666666666666,
             "#ed7953"
            ],
            [
             0.7777777777777778,
             "#fb9f3a"
            ],
            [
             0.8888888888888888,
             "#fdca26"
            ],
            [
             1,
             "#f0f921"
            ]
           ],
           "sequentialminus": [
            [
             0,
             "#0d0887"
            ],
            [
             0.1111111111111111,
             "#46039f"
            ],
            [
             0.2222222222222222,
             "#7201a8"
            ],
            [
             0.3333333333333333,
             "#9c179e"
            ],
            [
             0.4444444444444444,
             "#bd3786"
            ],
            [
             0.5555555555555556,
             "#d8576b"
            ],
            [
             0.6666666666666666,
             "#ed7953"
            ],
            [
             0.7777777777777778,
             "#fb9f3a"
            ],
            [
             0.8888888888888888,
             "#fdca26"
            ],
            [
             1,
             "#f0f921"
            ]
           ]
          },
          "colorway": [
           "#636efa",
           "#EF553B",
           "#00cc96",
           "#ab63fa",
           "#FFA15A",
           "#19d3f3",
           "#FF6692",
           "#B6E880",
           "#FF97FF",
           "#FECB52"
          ],
          "font": {
           "color": "#2a3f5f"
          },
          "geo": {
           "bgcolor": "white",
           "lakecolor": "white",
           "landcolor": "#E5ECF6",
           "showlakes": true,
           "showland": true,
           "subunitcolor": "white"
          },
          "hoverlabel": {
           "align": "left"
          },
          "hovermode": "closest",
          "mapbox": {
           "style": "light"
          },
          "paper_bgcolor": "white",
          "plot_bgcolor": "#E5ECF6",
          "polar": {
           "angularaxis": {
            "gridcolor": "white",
            "linecolor": "white",
            "ticks": ""
           },
           "bgcolor": "#E5ECF6",
           "radialaxis": {
            "gridcolor": "white",
            "linecolor": "white",
            "ticks": ""
           }
          },
          "scene": {
           "xaxis": {
            "backgroundcolor": "#E5ECF6",
            "gridcolor": "white",
            "gridwidth": 2,
            "linecolor": "white",
            "showbackground": true,
            "ticks": "",
            "zerolinecolor": "white"
           },
           "yaxis": {
            "backgroundcolor": "#E5ECF6",
            "gridcolor": "white",
            "gridwidth": 2,
            "linecolor": "white",
            "showbackground": true,
            "ticks": "",
            "zerolinecolor": "white"
           },
           "zaxis": {
            "backgroundcolor": "#E5ECF6",
            "gridcolor": "white",
            "gridwidth": 2,
            "linecolor": "white",
            "showbackground": true,
            "ticks": "",
            "zerolinecolor": "white"
           }
          },
          "shapedefaults": {
           "line": {
            "color": "#2a3f5f"
           }
          },
          "ternary": {
           "aaxis": {
            "gridcolor": "white",
            "linecolor": "white",
            "ticks": ""
           },
           "baxis": {
            "gridcolor": "white",
            "linecolor": "white",
            "ticks": ""
           },
           "bgcolor": "#E5ECF6",
           "caxis": {
            "gridcolor": "white",
            "linecolor": "white",
            "ticks": ""
           }
          },
          "title": {
           "x": 0.05
          },
          "xaxis": {
           "automargin": true,
           "gridcolor": "white",
           "linecolor": "white",
           "ticks": "",
           "title": {
            "standoff": 15
           },
           "zerolinecolor": "white",
           "zerolinewidth": 2
          },
          "yaxis": {
           "automargin": true,
           "gridcolor": "white",
           "linecolor": "white",
           "ticks": "",
           "title": {
            "standoff": 15
           },
           "zerolinecolor": "white",
           "zerolinewidth": 2
          }
         }
        },
        "title": {
         "text": "Top 20 Most Common Services Provided by Suppliers",
         "x": 0.5,
         "xanchor": "center"
        },
        "xaxis": {
         "anchor": "y",
         "domain": [
          0,
          1
         ],
         "title": {
          "text": "Category"
         }
        },
        "yaxis": {
         "anchor": "x",
         "domain": [
          0,
          1
         ],
         "title": {
          "text": "Number of Appearances"
         }
        }
       }
      }
     },
     "metadata": {},
     "output_type": "display_data"
    }
   ],
   "source": [
    "import plotly.express as px\n",
    "\n",
    "# Visualize the top 20 categories with Plotly\n",
    "fig = px.bar(top_20_categories,\n",
    "             x=top_20_categories.index,\n",
    "             y=top_20_categories.values,\n",
    "             labels={'x': 'Category', 'y': 'Number of Appearances'},\n",
    "             title='Top 20 Most Common Services Provided by Suppliers',\n",
    "             color=top_20_categories.values,\n",
    "             color_continuous_scale='Viridis')\n",
    "\n",
    "# Update the layout for better appearance and change the background to white\n",
    "fig.update_layout(\n",
    "    title={'x': 0.5, 'xanchor': 'center'},\n",
    "    xaxis_title='Category',\n",
    "    yaxis_title='Number of Appearances',\n",
    "    template='plotly',\n",
    "    paper_bgcolor='white',\n",
    "    plot_bgcolor='white'\n",
    ")\n",
    "\n",
    "# Display the plot\n",
    "fig.show()\n"
   ]
  },
  {
   "cell_type": "markdown",
   "metadata": {},
   "source": [
    "### Top 20 Categories by Total Number of Supplier Reviews"
   ]
  },
  {
   "cell_type": "code",
   "execution_count": 33,
   "metadata": {},
   "outputs": [
    {
     "name": "stdout",
     "output_type": "stream",
     "text": [
      "Categories with the most number of reviews:\n",
      "Bathroom Remodeler                     735430.0\n",
      "Wood and Laminate Flooring Supplier    684251.0\n",
      "Boiler and Heating Service             678346.0\n",
      "Artist                                 627035.0\n",
      "Double Glazing Installer               621501.0\n",
      "Carpet Wholesaler                      619480.0\n",
      "Carpet Installer                       614352.0\n",
      "Window Installation Service            585951.0\n",
      "Plumber                                557047.0\n",
      "Heating Contractor                     495791.0\n",
      "Art Gallery                            492819.0\n",
      "Gas Installation Service               437648.0\n",
      "Cleaning Products Supplier             426696.0\n",
      "Home & Garden                          422222.0\n",
      "Boiler Supplier                        332908.0\n",
      "Furniture Manufacturer                 292310.0\n",
      "Gas Engineer                           275672.0\n",
      "Solar Energy Equipment Supplier        261540.0\n",
      "Garden Building Supplier               256789.0\n",
      "Garden                                 233315.0\n",
      "dtype: float64\n"
     ]
    }
   ],
   "source": [
    "# Ensure 'Number_of_Reviews' is numeric\n",
    "df['Number_of_Reviews'] = pd.to_numeric(df['Number_of_Reviews'], errors='coerce')\n",
    "\n",
    "# Create a new DataFrame for the multiplication process to keep categories_df intact\n",
    "reviews_per_category = categories_df.copy()\n",
    "\n",
    "# Multiply the 'Number_of_Reviews' column with each one-hot encoded category column\n",
    "for category in reviews_per_category.columns:\n",
    "    reviews_per_category[category] = reviews_per_category[category] * df['Number_of_Reviews']\n",
    "\n",
    "# Sum the values for each category to get the total number of reviews per category\n",
    "category_review_counts = reviews_per_category.sum().sort_values(ascending=False)\n",
    "\n",
    "# Display the top categories with the most number of reviews\n",
    "print(\"Categories with the most number of reviews:\")\n",
    "print(category_review_counts.head(20))\n"
   ]
  },
  {
   "cell_type": "code",
   "execution_count": 34,
   "metadata": {},
   "outputs": [
    {
     "data": {
      "application/vnd.plotly.v1+json": {
       "config": {
        "plotlyServerURL": "https://plot.ly"
       },
       "data": [
        {
         "alignmentgroup": "True",
         "hovertemplate": "index=%{x}<br>Number of Reviews=%{y}<br>color=%{marker.color}<extra></extra>",
         "legendgroup": "",
         "marker": {
          "color": [
           735430,
           684251,
           678346,
           627035,
           621501,
           619480,
           614352,
           585951,
           557047,
           495791,
           492819,
           437648,
           426696,
           422222,
           332908,
           292310,
           275672,
           261540,
           256789,
           233315
          ],
          "coloraxis": "coloraxis",
          "pattern": {
           "shape": ""
          }
         },
         "name": "",
         "offsetgroup": "",
         "orientation": "v",
         "showlegend": false,
         "textposition": "auto",
         "type": "bar",
         "x": [
          "Bathroom Remodeler",
          "Wood and Laminate Flooring Supplier",
          "Boiler and Heating Service",
          "Artist",
          "Double Glazing Installer",
          "Carpet Wholesaler",
          "Carpet Installer",
          "Window Installation Service",
          "Plumber",
          "Heating Contractor",
          "Art Gallery",
          "Gas Installation Service",
          "Cleaning Products Supplier",
          "Home & Garden",
          "Boiler Supplier",
          "Furniture Manufacturer",
          "Gas Engineer",
          "Solar Energy Equipment Supplier",
          "Garden Building Supplier",
          "Garden"
         ],
         "xaxis": "x",
         "y": [
          735430,
          684251,
          678346,
          627035,
          621501,
          619480,
          614352,
          585951,
          557047,
          495791,
          492819,
          437648,
          426696,
          422222,
          332908,
          292310,
          275672,
          261540,
          256789,
          233315
         ],
         "yaxis": "y"
        }
       ],
       "layout": {
        "barmode": "relative",
        "coloraxis": {
         "colorbar": {
          "title": {
           "text": "color"
          }
         },
         "colorscale": [
          [
           0,
           "#440154"
          ],
          [
           0.1111111111111111,
           "#482878"
          ],
          [
           0.2222222222222222,
           "#3e4989"
          ],
          [
           0.3333333333333333,
           "#31688e"
          ],
          [
           0.4444444444444444,
           "#26828e"
          ],
          [
           0.5555555555555556,
           "#1f9e89"
          ],
          [
           0.6666666666666666,
           "#35b779"
          ],
          [
           0.7777777777777778,
           "#6ece58"
          ],
          [
           0.8888888888888888,
           "#b5de2b"
          ],
          [
           1,
           "#fde725"
          ]
         ]
        },
        "legend": {
         "tracegroupgap": 0
        },
        "paper_bgcolor": "white",
        "plot_bgcolor": "white",
        "template": {
         "data": {
          "bar": [
           {
            "error_x": {
             "color": "#2a3f5f"
            },
            "error_y": {
             "color": "#2a3f5f"
            },
            "marker": {
             "line": {
              "color": "#E5ECF6",
              "width": 0.5
             },
             "pattern": {
              "fillmode": "overlay",
              "size": 10,
              "solidity": 0.2
             }
            },
            "type": "bar"
           }
          ],
          "barpolar": [
           {
            "marker": {
             "line": {
              "color": "#E5ECF6",
              "width": 0.5
             },
             "pattern": {
              "fillmode": "overlay",
              "size": 10,
              "solidity": 0.2
             }
            },
            "type": "barpolar"
           }
          ],
          "carpet": [
           {
            "aaxis": {
             "endlinecolor": "#2a3f5f",
             "gridcolor": "white",
             "linecolor": "white",
             "minorgridcolor": "white",
             "startlinecolor": "#2a3f5f"
            },
            "baxis": {
             "endlinecolor": "#2a3f5f",
             "gridcolor": "white",
             "linecolor": "white",
             "minorgridcolor": "white",
             "startlinecolor": "#2a3f5f"
            },
            "type": "carpet"
           }
          ],
          "choropleth": [
           {
            "colorbar": {
             "outlinewidth": 0,
             "ticks": ""
            },
            "type": "choropleth"
           }
          ],
          "contour": [
           {
            "colorbar": {
             "outlinewidth": 0,
             "ticks": ""
            },
            "colorscale": [
             [
              0,
              "#0d0887"
             ],
             [
              0.1111111111111111,
              "#46039f"
             ],
             [
              0.2222222222222222,
              "#7201a8"
             ],
             [
              0.3333333333333333,
              "#9c179e"
             ],
             [
              0.4444444444444444,
              "#bd3786"
             ],
             [
              0.5555555555555556,
              "#d8576b"
             ],
             [
              0.6666666666666666,
              "#ed7953"
             ],
             [
              0.7777777777777778,
              "#fb9f3a"
             ],
             [
              0.8888888888888888,
              "#fdca26"
             ],
             [
              1,
              "#f0f921"
             ]
            ],
            "type": "contour"
           }
          ],
          "contourcarpet": [
           {
            "colorbar": {
             "outlinewidth": 0,
             "ticks": ""
            },
            "type": "contourcarpet"
           }
          ],
          "heatmap": [
           {
            "colorbar": {
             "outlinewidth": 0,
             "ticks": ""
            },
            "colorscale": [
             [
              0,
              "#0d0887"
             ],
             [
              0.1111111111111111,
              "#46039f"
             ],
             [
              0.2222222222222222,
              "#7201a8"
             ],
             [
              0.3333333333333333,
              "#9c179e"
             ],
             [
              0.4444444444444444,
              "#bd3786"
             ],
             [
              0.5555555555555556,
              "#d8576b"
             ],
             [
              0.6666666666666666,
              "#ed7953"
             ],
             [
              0.7777777777777778,
              "#fb9f3a"
             ],
             [
              0.8888888888888888,
              "#fdca26"
             ],
             [
              1,
              "#f0f921"
             ]
            ],
            "type": "heatmap"
           }
          ],
          "heatmapgl": [
           {
            "colorbar": {
             "outlinewidth": 0,
             "ticks": ""
            },
            "colorscale": [
             [
              0,
              "#0d0887"
             ],
             [
              0.1111111111111111,
              "#46039f"
             ],
             [
              0.2222222222222222,
              "#7201a8"
             ],
             [
              0.3333333333333333,
              "#9c179e"
             ],
             [
              0.4444444444444444,
              "#bd3786"
             ],
             [
              0.5555555555555556,
              "#d8576b"
             ],
             [
              0.6666666666666666,
              "#ed7953"
             ],
             [
              0.7777777777777778,
              "#fb9f3a"
             ],
             [
              0.8888888888888888,
              "#fdca26"
             ],
             [
              1,
              "#f0f921"
             ]
            ],
            "type": "heatmapgl"
           }
          ],
          "histogram": [
           {
            "marker": {
             "pattern": {
              "fillmode": "overlay",
              "size": 10,
              "solidity": 0.2
             }
            },
            "type": "histogram"
           }
          ],
          "histogram2d": [
           {
            "colorbar": {
             "outlinewidth": 0,
             "ticks": ""
            },
            "colorscale": [
             [
              0,
              "#0d0887"
             ],
             [
              0.1111111111111111,
              "#46039f"
             ],
             [
              0.2222222222222222,
              "#7201a8"
             ],
             [
              0.3333333333333333,
              "#9c179e"
             ],
             [
              0.4444444444444444,
              "#bd3786"
             ],
             [
              0.5555555555555556,
              "#d8576b"
             ],
             [
              0.6666666666666666,
              "#ed7953"
             ],
             [
              0.7777777777777778,
              "#fb9f3a"
             ],
             [
              0.8888888888888888,
              "#fdca26"
             ],
             [
              1,
              "#f0f921"
             ]
            ],
            "type": "histogram2d"
           }
          ],
          "histogram2dcontour": [
           {
            "colorbar": {
             "outlinewidth": 0,
             "ticks": ""
            },
            "colorscale": [
             [
              0,
              "#0d0887"
             ],
             [
              0.1111111111111111,
              "#46039f"
             ],
             [
              0.2222222222222222,
              "#7201a8"
             ],
             [
              0.3333333333333333,
              "#9c179e"
             ],
             [
              0.4444444444444444,
              "#bd3786"
             ],
             [
              0.5555555555555556,
              "#d8576b"
             ],
             [
              0.6666666666666666,
              "#ed7953"
             ],
             [
              0.7777777777777778,
              "#fb9f3a"
             ],
             [
              0.8888888888888888,
              "#fdca26"
             ],
             [
              1,
              "#f0f921"
             ]
            ],
            "type": "histogram2dcontour"
           }
          ],
          "mesh3d": [
           {
            "colorbar": {
             "outlinewidth": 0,
             "ticks": ""
            },
            "type": "mesh3d"
           }
          ],
          "parcoords": [
           {
            "line": {
             "colorbar": {
              "outlinewidth": 0,
              "ticks": ""
             }
            },
            "type": "parcoords"
           }
          ],
          "pie": [
           {
            "automargin": true,
            "type": "pie"
           }
          ],
          "scatter": [
           {
            "fillpattern": {
             "fillmode": "overlay",
             "size": 10,
             "solidity": 0.2
            },
            "type": "scatter"
           }
          ],
          "scatter3d": [
           {
            "line": {
             "colorbar": {
              "outlinewidth": 0,
              "ticks": ""
             }
            },
            "marker": {
             "colorbar": {
              "outlinewidth": 0,
              "ticks": ""
             }
            },
            "type": "scatter3d"
           }
          ],
          "scattercarpet": [
           {
            "marker": {
             "colorbar": {
              "outlinewidth": 0,
              "ticks": ""
             }
            },
            "type": "scattercarpet"
           }
          ],
          "scattergeo": [
           {
            "marker": {
             "colorbar": {
              "outlinewidth": 0,
              "ticks": ""
             }
            },
            "type": "scattergeo"
           }
          ],
          "scattergl": [
           {
            "marker": {
             "colorbar": {
              "outlinewidth": 0,
              "ticks": ""
             }
            },
            "type": "scattergl"
           }
          ],
          "scattermapbox": [
           {
            "marker": {
             "colorbar": {
              "outlinewidth": 0,
              "ticks": ""
             }
            },
            "type": "scattermapbox"
           }
          ],
          "scatterpolar": [
           {
            "marker": {
             "colorbar": {
              "outlinewidth": 0,
              "ticks": ""
             }
            },
            "type": "scatterpolar"
           }
          ],
          "scatterpolargl": [
           {
            "marker": {
             "colorbar": {
              "outlinewidth": 0,
              "ticks": ""
             }
            },
            "type": "scatterpolargl"
           }
          ],
          "scatterternary": [
           {
            "marker": {
             "colorbar": {
              "outlinewidth": 0,
              "ticks": ""
             }
            },
            "type": "scatterternary"
           }
          ],
          "surface": [
           {
            "colorbar": {
             "outlinewidth": 0,
             "ticks": ""
            },
            "colorscale": [
             [
              0,
              "#0d0887"
             ],
             [
              0.1111111111111111,
              "#46039f"
             ],
             [
              0.2222222222222222,
              "#7201a8"
             ],
             [
              0.3333333333333333,
              "#9c179e"
             ],
             [
              0.4444444444444444,
              "#bd3786"
             ],
             [
              0.5555555555555556,
              "#d8576b"
             ],
             [
              0.6666666666666666,
              "#ed7953"
             ],
             [
              0.7777777777777778,
              "#fb9f3a"
             ],
             [
              0.8888888888888888,
              "#fdca26"
             ],
             [
              1,
              "#f0f921"
             ]
            ],
            "type": "surface"
           }
          ],
          "table": [
           {
            "cells": {
             "fill": {
              "color": "#EBF0F8"
             },
             "line": {
              "color": "white"
             }
            },
            "header": {
             "fill": {
              "color": "#C8D4E3"
             },
             "line": {
              "color": "white"
             }
            },
            "type": "table"
           }
          ]
         },
         "layout": {
          "annotationdefaults": {
           "arrowcolor": "#2a3f5f",
           "arrowhead": 0,
           "arrowwidth": 1
          },
          "autotypenumbers": "strict",
          "coloraxis": {
           "colorbar": {
            "outlinewidth": 0,
            "ticks": ""
           }
          },
          "colorscale": {
           "diverging": [
            [
             0,
             "#8e0152"
            ],
            [
             0.1,
             "#c51b7d"
            ],
            [
             0.2,
             "#de77ae"
            ],
            [
             0.3,
             "#f1b6da"
            ],
            [
             0.4,
             "#fde0ef"
            ],
            [
             0.5,
             "#f7f7f7"
            ],
            [
             0.6,
             "#e6f5d0"
            ],
            [
             0.7,
             "#b8e186"
            ],
            [
             0.8,
             "#7fbc41"
            ],
            [
             0.9,
             "#4d9221"
            ],
            [
             1,
             "#276419"
            ]
           ],
           "sequential": [
            [
             0,
             "#0d0887"
            ],
            [
             0.1111111111111111,
             "#46039f"
            ],
            [
             0.2222222222222222,
             "#7201a8"
            ],
            [
             0.3333333333333333,
             "#9c179e"
            ],
            [
             0.4444444444444444,
             "#bd3786"
            ],
            [
             0.5555555555555556,
             "#d8576b"
            ],
            [
             0.6666666666666666,
             "#ed7953"
            ],
            [
             0.7777777777777778,
             "#fb9f3a"
            ],
            [
             0.8888888888888888,
             "#fdca26"
            ],
            [
             1,
             "#f0f921"
            ]
           ],
           "sequentialminus": [
            [
             0,
             "#0d0887"
            ],
            [
             0.1111111111111111,
             "#46039f"
            ],
            [
             0.2222222222222222,
             "#7201a8"
            ],
            [
             0.3333333333333333,
             "#9c179e"
            ],
            [
             0.4444444444444444,
             "#bd3786"
            ],
            [
             0.5555555555555556,
             "#d8576b"
            ],
            [
             0.6666666666666666,
             "#ed7953"
            ],
            [
             0.7777777777777778,
             "#fb9f3a"
            ],
            [
             0.8888888888888888,
             "#fdca26"
            ],
            [
             1,
             "#f0f921"
            ]
           ]
          },
          "colorway": [
           "#636efa",
           "#EF553B",
           "#00cc96",
           "#ab63fa",
           "#FFA15A",
           "#19d3f3",
           "#FF6692",
           "#B6E880",
           "#FF97FF",
           "#FECB52"
          ],
          "font": {
           "color": "#2a3f5f"
          },
          "geo": {
           "bgcolor": "white",
           "lakecolor": "white",
           "landcolor": "#E5ECF6",
           "showlakes": true,
           "showland": true,
           "subunitcolor": "white"
          },
          "hoverlabel": {
           "align": "left"
          },
          "hovermode": "closest",
          "mapbox": {
           "style": "light"
          },
          "paper_bgcolor": "white",
          "plot_bgcolor": "#E5ECF6",
          "polar": {
           "angularaxis": {
            "gridcolor": "white",
            "linecolor": "white",
            "ticks": ""
           },
           "bgcolor": "#E5ECF6",
           "radialaxis": {
            "gridcolor": "white",
            "linecolor": "white",
            "ticks": ""
           }
          },
          "scene": {
           "xaxis": {
            "backgroundcolor": "#E5ECF6",
            "gridcolor": "white",
            "gridwidth": 2,
            "linecolor": "white",
            "showbackground": true,
            "ticks": "",
            "zerolinecolor": "white"
           },
           "yaxis": {
            "backgroundcolor": "#E5ECF6",
            "gridcolor": "white",
            "gridwidth": 2,
            "linecolor": "white",
            "showbackground": true,
            "ticks": "",
            "zerolinecolor": "white"
           },
           "zaxis": {
            "backgroundcolor": "#E5ECF6",
            "gridcolor": "white",
            "gridwidth": 2,
            "linecolor": "white",
            "showbackground": true,
            "ticks": "",
            "zerolinecolor": "white"
           }
          },
          "shapedefaults": {
           "line": {
            "color": "#2a3f5f"
           }
          },
          "ternary": {
           "aaxis": {
            "gridcolor": "white",
            "linecolor": "white",
            "ticks": ""
           },
           "baxis": {
            "gridcolor": "white",
            "linecolor": "white",
            "ticks": ""
           },
           "bgcolor": "#E5ECF6",
           "caxis": {
            "gridcolor": "white",
            "linecolor": "white",
            "ticks": ""
           }
          },
          "title": {
           "x": 0.05
          },
          "xaxis": {
           "automargin": true,
           "gridcolor": "white",
           "linecolor": "white",
           "ticks": "",
           "title": {
            "standoff": 15
           },
           "zerolinecolor": "white",
           "zerolinewidth": 2
          },
          "yaxis": {
           "automargin": true,
           "gridcolor": "white",
           "linecolor": "white",
           "ticks": "",
           "title": {
            "standoff": 15
           },
           "zerolinecolor": "white",
           "zerolinewidth": 2
          }
         }
        },
        "title": {
         "text": "Top 20 Categories by Total Number of Supplier Reviews",
         "x": 0.5,
         "xanchor": "center"
        },
        "xaxis": {
         "anchor": "y",
         "domain": [
          0,
          1
         ],
         "title": {
          "text": "Category"
         }
        },
        "yaxis": {
         "anchor": "x",
         "domain": [
          0,
          1
         ],
         "title": {
          "text": "Number of Reviews"
         }
        }
       }
      }
     },
     "metadata": {},
     "output_type": "display_data"
    }
   ],
   "source": [
    "Top_20_Cat_reviews = category_review_counts.head(20)\n",
    "\n",
    "# Visualize the top 20 categories with Plotly\n",
    "fig = px.bar(Top_20_Cat_reviews,\n",
    "             x=Top_20_Cat_reviews.index,\n",
    "             y=Top_20_Cat_reviews.values,\n",
    "             labels={'x': 'Category', 'y': 'Number of Reviews'},\n",
    "             title='Top 20 Categories by Total Number of Supplier Reviews',\n",
    "             color=Top_20_Cat_reviews.values,\n",
    "             color_continuous_scale='Viridis')\n",
    "\n",
    "# Update the layout for better appearance and change the background to white\n",
    "fig.update_layout(\n",
    "    title={'x': 0.5, 'xanchor': 'center'},\n",
    "    xaxis_title='Category',\n",
    "    yaxis_title='Number of Reviews',\n",
    "    template='plotly',\n",
    "    paper_bgcolor='white',\n",
    "    plot_bgcolor='white'\n",
    ")\n",
    "\n",
    "# Display the plot\n",
    "fig.show()\n"
   ]
  },
  {
   "cell_type": "code",
   "execution_count": 35,
   "metadata": {},
   "outputs": [
    {
     "data": {
      "text/plain": [
       "Index(['Bathroom Remodeler', 'Wood and Laminate Flooring Supplier',\n",
       "       'Boiler and Heating Service', 'Artist', 'Double Glazing Installer',\n",
       "       'Carpet Wholesaler', 'Carpet Installer', 'Window Installation Service',\n",
       "       'Plumber', 'Heating Contractor', 'Art Gallery',\n",
       "       'Gas Installation Service', 'Cleaning Products Supplier',\n",
       "       'Home & Garden', 'Boiler Supplier', 'Furniture Manufacturer',\n",
       "       'Gas Engineer', 'Solar Energy Equipment Supplier',\n",
       "       'Garden Building Supplier', 'Garden'],\n",
       "      dtype='object')"
      ]
     },
     "execution_count": 35,
     "metadata": {},
     "output_type": "execute_result"
    }
   ],
   "source": [
    "Top_20_Cat_reviews.index"
   ]
  },
  {
   "cell_type": "markdown",
   "metadata": {},
   "source": [
    "### Top 20 Service Categories by Number of Available Suppliers\n"
   ]
  },
  {
   "cell_type": "code",
   "execution_count": 36,
   "metadata": {},
   "outputs": [
    {
     "name": "stdout",
     "output_type": "stream",
     "text": [
      "                            Category  Supplier_Count\n",
      "792                          Plumber            1736\n",
      "202                 Cleaning Service            1076\n",
      "515                    Home Services             886\n",
      "118       Boiler and Heating Service             775\n",
      "446                    Garden Center             764\n",
      "329                      Electrician             761\n",
      "494               Heating Contractor             701\n",
      "707                   Moving Company             689\n",
      "97                Bathroom Remodeler             687\n",
      "451         Gas Installation Service             584\n",
      "450                     Gas Engineer             572\n",
      "167          Carpet Cleaning Service             503\n",
      "708       Moving and Storage Service             497\n",
      "506                    Home & Garden             483\n",
      "326  Electrical Installation Service             472\n",
      "308         Double Glazing Installer             416\n",
      "525           House Cleaning Service             395\n",
      "595                Kitchen Remodeler             390\n",
      "221      Commercial Cleaning Service             361\n",
      "894        Security System Installer             343\n"
     ]
    }
   ],
   "source": [
    "# List to store the count of each category\n",
    "category_counts = []\n",
    "\n",
    "# Iterate through each column in the DataFrame\n",
    "for category in categories_df.columns:\n",
    "    count = df_encoded[df_encoded[category] == 1].shape[0]\n",
    "    category_counts.append((category, count))\n",
    "\n",
    "# Convert the list to a DataFrame and sort by the count in descending order\n",
    "category_counts_df = pd.DataFrame(category_counts, columns=['Category', 'Supplier_Count']).sort_values(by='Supplier_Count', ascending=False)\n",
    "\n",
    "# Display the categories with the highest supplier counts\n",
    "print(category_counts_df.head(20))\n",
    "\n"
   ]
  },
  {
   "cell_type": "code",
   "execution_count": 37,
   "metadata": {},
   "outputs": [
    {
     "data": {
      "application/vnd.plotly.v1+json": {
       "config": {
        "plotlyServerURL": "https://plot.ly"
       },
       "data": [
        {
         "alignmentgroup": "True",
         "hovertemplate": "Category=%{x}<br>Number of Suppliers=%{marker.color}<extra></extra>",
         "legendgroup": "",
         "marker": {
          "color": [
           1736,
           1076,
           886,
           775,
           764,
           761,
           701,
           689,
           687,
           584,
           572,
           503,
           497,
           483,
           472,
           416,
           395,
           390,
           361,
           343
          ],
          "coloraxis": "coloraxis",
          "pattern": {
           "shape": ""
          }
         },
         "name": "",
         "offsetgroup": "",
         "orientation": "v",
         "showlegend": false,
         "textposition": "auto",
         "type": "bar",
         "x": [
          "Plumber",
          "Cleaning Service",
          "Home Services",
          "Boiler and Heating Service",
          "Garden Center",
          "Electrician",
          "Heating Contractor",
          "Moving Company",
          "Bathroom Remodeler",
          "Gas Installation Service",
          "Gas Engineer",
          "Carpet Cleaning Service",
          "Moving and Storage Service",
          "Home & Garden",
          "Electrical Installation Service",
          "Double Glazing Installer",
          "House Cleaning Service",
          "Kitchen Remodeler",
          "Commercial Cleaning Service",
          "Security System Installer"
         ],
         "xaxis": "x",
         "y": [
          1736,
          1076,
          886,
          775,
          764,
          761,
          701,
          689,
          687,
          584,
          572,
          503,
          497,
          483,
          472,
          416,
          395,
          390,
          361,
          343
         ],
         "yaxis": "y"
        }
       ],
       "layout": {
        "barmode": "relative",
        "coloraxis": {
         "colorbar": {
          "title": {
           "text": "Number of Suppliers"
          }
         },
         "colorscale": [
          [
           0,
           "#440154"
          ],
          [
           0.1111111111111111,
           "#482878"
          ],
          [
           0.2222222222222222,
           "#3e4989"
          ],
          [
           0.3333333333333333,
           "#31688e"
          ],
          [
           0.4444444444444444,
           "#26828e"
          ],
          [
           0.5555555555555556,
           "#1f9e89"
          ],
          [
           0.6666666666666666,
           "#35b779"
          ],
          [
           0.7777777777777778,
           "#6ece58"
          ],
          [
           0.8888888888888888,
           "#b5de2b"
          ],
          [
           1,
           "#fde725"
          ]
         ]
        },
        "legend": {
         "tracegroupgap": 0
        },
        "paper_bgcolor": "white",
        "plot_bgcolor": "white",
        "template": {
         "data": {
          "bar": [
           {
            "error_x": {
             "color": "#2a3f5f"
            },
            "error_y": {
             "color": "#2a3f5f"
            },
            "marker": {
             "line": {
              "color": "#E5ECF6",
              "width": 0.5
             },
             "pattern": {
              "fillmode": "overlay",
              "size": 10,
              "solidity": 0.2
             }
            },
            "type": "bar"
           }
          ],
          "barpolar": [
           {
            "marker": {
             "line": {
              "color": "#E5ECF6",
              "width": 0.5
             },
             "pattern": {
              "fillmode": "overlay",
              "size": 10,
              "solidity": 0.2
             }
            },
            "type": "barpolar"
           }
          ],
          "carpet": [
           {
            "aaxis": {
             "endlinecolor": "#2a3f5f",
             "gridcolor": "white",
             "linecolor": "white",
             "minorgridcolor": "white",
             "startlinecolor": "#2a3f5f"
            },
            "baxis": {
             "endlinecolor": "#2a3f5f",
             "gridcolor": "white",
             "linecolor": "white",
             "minorgridcolor": "white",
             "startlinecolor": "#2a3f5f"
            },
            "type": "carpet"
           }
          ],
          "choropleth": [
           {
            "colorbar": {
             "outlinewidth": 0,
             "ticks": ""
            },
            "type": "choropleth"
           }
          ],
          "contour": [
           {
            "colorbar": {
             "outlinewidth": 0,
             "ticks": ""
            },
            "colorscale": [
             [
              0,
              "#0d0887"
             ],
             [
              0.1111111111111111,
              "#46039f"
             ],
             [
              0.2222222222222222,
              "#7201a8"
             ],
             [
              0.3333333333333333,
              "#9c179e"
             ],
             [
              0.4444444444444444,
              "#bd3786"
             ],
             [
              0.5555555555555556,
              "#d8576b"
             ],
             [
              0.6666666666666666,
              "#ed7953"
             ],
             [
              0.7777777777777778,
              "#fb9f3a"
             ],
             [
              0.8888888888888888,
              "#fdca26"
             ],
             [
              1,
              "#f0f921"
             ]
            ],
            "type": "contour"
           }
          ],
          "contourcarpet": [
           {
            "colorbar": {
             "outlinewidth": 0,
             "ticks": ""
            },
            "type": "contourcarpet"
           }
          ],
          "heatmap": [
           {
            "colorbar": {
             "outlinewidth": 0,
             "ticks": ""
            },
            "colorscale": [
             [
              0,
              "#0d0887"
             ],
             [
              0.1111111111111111,
              "#46039f"
             ],
             [
              0.2222222222222222,
              "#7201a8"
             ],
             [
              0.3333333333333333,
              "#9c179e"
             ],
             [
              0.4444444444444444,
              "#bd3786"
             ],
             [
              0.5555555555555556,
              "#d8576b"
             ],
             [
              0.6666666666666666,
              "#ed7953"
             ],
             [
              0.7777777777777778,
              "#fb9f3a"
             ],
             [
              0.8888888888888888,
              "#fdca26"
             ],
             [
              1,
              "#f0f921"
             ]
            ],
            "type": "heatmap"
           }
          ],
          "heatmapgl": [
           {
            "colorbar": {
             "outlinewidth": 0,
             "ticks": ""
            },
            "colorscale": [
             [
              0,
              "#0d0887"
             ],
             [
              0.1111111111111111,
              "#46039f"
             ],
             [
              0.2222222222222222,
              "#7201a8"
             ],
             [
              0.3333333333333333,
              "#9c179e"
             ],
             [
              0.4444444444444444,
              "#bd3786"
             ],
             [
              0.5555555555555556,
              "#d8576b"
             ],
             [
              0.6666666666666666,
              "#ed7953"
             ],
             [
              0.7777777777777778,
              "#fb9f3a"
             ],
             [
              0.8888888888888888,
              "#fdca26"
             ],
             [
              1,
              "#f0f921"
             ]
            ],
            "type": "heatmapgl"
           }
          ],
          "histogram": [
           {
            "marker": {
             "pattern": {
              "fillmode": "overlay",
              "size": 10,
              "solidity": 0.2
             }
            },
            "type": "histogram"
           }
          ],
          "histogram2d": [
           {
            "colorbar": {
             "outlinewidth": 0,
             "ticks": ""
            },
            "colorscale": [
             [
              0,
              "#0d0887"
             ],
             [
              0.1111111111111111,
              "#46039f"
             ],
             [
              0.2222222222222222,
              "#7201a8"
             ],
             [
              0.3333333333333333,
              "#9c179e"
             ],
             [
              0.4444444444444444,
              "#bd3786"
             ],
             [
              0.5555555555555556,
              "#d8576b"
             ],
             [
              0.6666666666666666,
              "#ed7953"
             ],
             [
              0.7777777777777778,
              "#fb9f3a"
             ],
             [
              0.8888888888888888,
              "#fdca26"
             ],
             [
              1,
              "#f0f921"
             ]
            ],
            "type": "histogram2d"
           }
          ],
          "histogram2dcontour": [
           {
            "colorbar": {
             "outlinewidth": 0,
             "ticks": ""
            },
            "colorscale": [
             [
              0,
              "#0d0887"
             ],
             [
              0.1111111111111111,
              "#46039f"
             ],
             [
              0.2222222222222222,
              "#7201a8"
             ],
             [
              0.3333333333333333,
              "#9c179e"
             ],
             [
              0.4444444444444444,
              "#bd3786"
             ],
             [
              0.5555555555555556,
              "#d8576b"
             ],
             [
              0.6666666666666666,
              "#ed7953"
             ],
             [
              0.7777777777777778,
              "#fb9f3a"
             ],
             [
              0.8888888888888888,
              "#fdca26"
             ],
             [
              1,
              "#f0f921"
             ]
            ],
            "type": "histogram2dcontour"
           }
          ],
          "mesh3d": [
           {
            "colorbar": {
             "outlinewidth": 0,
             "ticks": ""
            },
            "type": "mesh3d"
           }
          ],
          "parcoords": [
           {
            "line": {
             "colorbar": {
              "outlinewidth": 0,
              "ticks": ""
             }
            },
            "type": "parcoords"
           }
          ],
          "pie": [
           {
            "automargin": true,
            "type": "pie"
           }
          ],
          "scatter": [
           {
            "fillpattern": {
             "fillmode": "overlay",
             "size": 10,
             "solidity": 0.2
            },
            "type": "scatter"
           }
          ],
          "scatter3d": [
           {
            "line": {
             "colorbar": {
              "outlinewidth": 0,
              "ticks": ""
             }
            },
            "marker": {
             "colorbar": {
              "outlinewidth": 0,
              "ticks": ""
             }
            },
            "type": "scatter3d"
           }
          ],
          "scattercarpet": [
           {
            "marker": {
             "colorbar": {
              "outlinewidth": 0,
              "ticks": ""
             }
            },
            "type": "scattercarpet"
           }
          ],
          "scattergeo": [
           {
            "marker": {
             "colorbar": {
              "outlinewidth": 0,
              "ticks": ""
             }
            },
            "type": "scattergeo"
           }
          ],
          "scattergl": [
           {
            "marker": {
             "colorbar": {
              "outlinewidth": 0,
              "ticks": ""
             }
            },
            "type": "scattergl"
           }
          ],
          "scattermapbox": [
           {
            "marker": {
             "colorbar": {
              "outlinewidth": 0,
              "ticks": ""
             }
            },
            "type": "scattermapbox"
           }
          ],
          "scatterpolar": [
           {
            "marker": {
             "colorbar": {
              "outlinewidth": 0,
              "ticks": ""
             }
            },
            "type": "scatterpolar"
           }
          ],
          "scatterpolargl": [
           {
            "marker": {
             "colorbar": {
              "outlinewidth": 0,
              "ticks": ""
             }
            },
            "type": "scatterpolargl"
           }
          ],
          "scatterternary": [
           {
            "marker": {
             "colorbar": {
              "outlinewidth": 0,
              "ticks": ""
             }
            },
            "type": "scatterternary"
           }
          ],
          "surface": [
           {
            "colorbar": {
             "outlinewidth": 0,
             "ticks": ""
            },
            "colorscale": [
             [
              0,
              "#0d0887"
             ],
             [
              0.1111111111111111,
              "#46039f"
             ],
             [
              0.2222222222222222,
              "#7201a8"
             ],
             [
              0.3333333333333333,
              "#9c179e"
             ],
             [
              0.4444444444444444,
              "#bd3786"
             ],
             [
              0.5555555555555556,
              "#d8576b"
             ],
             [
              0.6666666666666666,
              "#ed7953"
             ],
             [
              0.7777777777777778,
              "#fb9f3a"
             ],
             [
              0.8888888888888888,
              "#fdca26"
             ],
             [
              1,
              "#f0f921"
             ]
            ],
            "type": "surface"
           }
          ],
          "table": [
           {
            "cells": {
             "fill": {
              "color": "#EBF0F8"
             },
             "line": {
              "color": "white"
             }
            },
            "header": {
             "fill": {
              "color": "#C8D4E3"
             },
             "line": {
              "color": "white"
             }
            },
            "type": "table"
           }
          ]
         },
         "layout": {
          "annotationdefaults": {
           "arrowcolor": "#2a3f5f",
           "arrowhead": 0,
           "arrowwidth": 1
          },
          "autotypenumbers": "strict",
          "coloraxis": {
           "colorbar": {
            "outlinewidth": 0,
            "ticks": ""
           }
          },
          "colorscale": {
           "diverging": [
            [
             0,
             "#8e0152"
            ],
            [
             0.1,
             "#c51b7d"
            ],
            [
             0.2,
             "#de77ae"
            ],
            [
             0.3,
             "#f1b6da"
            ],
            [
             0.4,
             "#fde0ef"
            ],
            [
             0.5,
             "#f7f7f7"
            ],
            [
             0.6,
             "#e6f5d0"
            ],
            [
             0.7,
             "#b8e186"
            ],
            [
             0.8,
             "#7fbc41"
            ],
            [
             0.9,
             "#4d9221"
            ],
            [
             1,
             "#276419"
            ]
           ],
           "sequential": [
            [
             0,
             "#0d0887"
            ],
            [
             0.1111111111111111,
             "#46039f"
            ],
            [
             0.2222222222222222,
             "#7201a8"
            ],
            [
             0.3333333333333333,
             "#9c179e"
            ],
            [
             0.4444444444444444,
             "#bd3786"
            ],
            [
             0.5555555555555556,
             "#d8576b"
            ],
            [
             0.6666666666666666,
             "#ed7953"
            ],
            [
             0.7777777777777778,
             "#fb9f3a"
            ],
            [
             0.8888888888888888,
             "#fdca26"
            ],
            [
             1,
             "#f0f921"
            ]
           ],
           "sequentialminus": [
            [
             0,
             "#0d0887"
            ],
            [
             0.1111111111111111,
             "#46039f"
            ],
            [
             0.2222222222222222,
             "#7201a8"
            ],
            [
             0.3333333333333333,
             "#9c179e"
            ],
            [
             0.4444444444444444,
             "#bd3786"
            ],
            [
             0.5555555555555556,
             "#d8576b"
            ],
            [
             0.6666666666666666,
             "#ed7953"
            ],
            [
             0.7777777777777778,
             "#fb9f3a"
            ],
            [
             0.8888888888888888,
             "#fdca26"
            ],
            [
             1,
             "#f0f921"
            ]
           ]
          },
          "colorway": [
           "#636efa",
           "#EF553B",
           "#00cc96",
           "#ab63fa",
           "#FFA15A",
           "#19d3f3",
           "#FF6692",
           "#B6E880",
           "#FF97FF",
           "#FECB52"
          ],
          "font": {
           "color": "#2a3f5f"
          },
          "geo": {
           "bgcolor": "white",
           "lakecolor": "white",
           "landcolor": "#E5ECF6",
           "showlakes": true,
           "showland": true,
           "subunitcolor": "white"
          },
          "hoverlabel": {
           "align": "left"
          },
          "hovermode": "closest",
          "mapbox": {
           "style": "light"
          },
          "paper_bgcolor": "white",
          "plot_bgcolor": "#E5ECF6",
          "polar": {
           "angularaxis": {
            "gridcolor": "white",
            "linecolor": "white",
            "ticks": ""
           },
           "bgcolor": "#E5ECF6",
           "radialaxis": {
            "gridcolor": "white",
            "linecolor": "white",
            "ticks": ""
           }
          },
          "scene": {
           "xaxis": {
            "backgroundcolor": "#E5ECF6",
            "gridcolor": "white",
            "gridwidth": 2,
            "linecolor": "white",
            "showbackground": true,
            "ticks": "",
            "zerolinecolor": "white"
           },
           "yaxis": {
            "backgroundcolor": "#E5ECF6",
            "gridcolor": "white",
            "gridwidth": 2,
            "linecolor": "white",
            "showbackground": true,
            "ticks": "",
            "zerolinecolor": "white"
           },
           "zaxis": {
            "backgroundcolor": "#E5ECF6",
            "gridcolor": "white",
            "gridwidth": 2,
            "linecolor": "white",
            "showbackground": true,
            "ticks": "",
            "zerolinecolor": "white"
           }
          },
          "shapedefaults": {
           "line": {
            "color": "#2a3f5f"
           }
          },
          "ternary": {
           "aaxis": {
            "gridcolor": "white",
            "linecolor": "white",
            "ticks": ""
           },
           "baxis": {
            "gridcolor": "white",
            "linecolor": "white",
            "ticks": ""
           },
           "bgcolor": "#E5ECF6",
           "caxis": {
            "gridcolor": "white",
            "linecolor": "white",
            "ticks": ""
           }
          },
          "title": {
           "x": 0.05
          },
          "xaxis": {
           "automargin": true,
           "gridcolor": "white",
           "linecolor": "white",
           "ticks": "",
           "title": {
            "standoff": 15
           },
           "zerolinecolor": "white",
           "zerolinewidth": 2
          },
          "yaxis": {
           "automargin": true,
           "gridcolor": "white",
           "linecolor": "white",
           "ticks": "",
           "title": {
            "standoff": 15
           },
           "zerolinecolor": "white",
           "zerolinewidth": 2
          }
         }
        },
        "title": {
         "text": "Top 20 Service Categories by Number of Available Suppliers",
         "x": 0.5,
         "xanchor": "center"
        },
        "xaxis": {
         "anchor": "y",
         "domain": [
          0,
          1
         ],
         "title": {
          "text": "Category"
         }
        },
        "yaxis": {
         "anchor": "x",
         "domain": [
          0,
          1
         ],
         "title": {
          "text": "Number of Suppliers"
         }
        }
       }
      }
     },
     "metadata": {},
     "output_type": "display_data"
    }
   ],
   "source": [
    "import plotly.express as px\n",
    "\n",
    "top_20_Supplier_per_cat = category_counts_df.head(20)\n",
    "\n",
    "# Visualize the top 20 categories with Plotly\n",
    "fig = px.bar(top_20_Supplier_per_cat,\n",
    "             x='Category',\n",
    "             y='Supplier_Count',\n",
    "             labels={'Category': 'Category', 'Supplier_Count': 'Number of Suppliers'},\n",
    "             title='Top 20 Service Categories by Number of Available Suppliers',\n",
    "             color='Supplier_Count',\n",
    "             color_continuous_scale='Viridis')\n",
    "\n",
    "# Update the layout for better appearance and change the background to white\n",
    "fig.update_layout(\n",
    "    title={'x': 0.5, 'xanchor': 'center'},\n",
    "    xaxis_title='Category',\n",
    "    yaxis_title='Number of Suppliers',\n",
    "    template='plotly',\n",
    "    paper_bgcolor='white',\n",
    "    plot_bgcolor='white'\n",
    ")\n",
    "\n",
    "# Display the plot\n",
    "fig.show()\n"
   ]
  },
  {
   "cell_type": "markdown",
   "metadata": {},
   "source": [
    "### Supplier Availability for the Top 20 Most Demanded Services"
   ]
  },
  {
   "cell_type": "code",
   "execution_count": 38,
   "metadata": {},
   "outputs": [
    {
     "name": "stdout",
     "output_type": "stream",
     "text": [
      "                               Category  Number of Suppliers\n",
      "8                               Plumber                 1736\n",
      "2            Boiler and Heating Service                  775\n",
      "9                    Heating Contractor                  701\n",
      "0                    Bathroom Remodeler                  687\n",
      "11             Gas Installation Service                  584\n",
      "16                         Gas Engineer                  572\n",
      "13                        Home & Garden                  483\n",
      "4              Double Glazing Installer                  416\n",
      "14                      Boiler Supplier                  302\n",
      "7           Window Installation Service                  234\n",
      "1   Wood and Laminate Flooring Supplier                  227\n",
      "15               Furniture Manufacturer                  202\n",
      "18             Garden Building Supplier                  192\n",
      "12           Cleaning Products Supplier                  177\n",
      "17      Solar Energy Equipment Supplier                  172\n",
      "19                               Garden                  155\n",
      "6                      Carpet Installer                   82\n",
      "3                                Artist                   53\n",
      "5                     Carpet Wholesaler                   37\n",
      "10                          Art Gallery                   25\n"
     ]
    }
   ],
   "source": [
    "# List of specified categories\n",
    "specified_categories = Top_20_Cat_reviews.index\n",
    "\n",
    "# Calculate the number of suppliers for each specified category\n",
    "supplier_counts = {}\n",
    "for category in specified_categories:\n",
    "    if category in df_encoded.columns:\n",
    "        supplier_counts[category] = df_encoded[df_encoded[category] == 1].shape[0]\n",
    "\n",
    "# Convert the dictionary to a DataFrame for better display\n",
    "supplier_counts_df = pd.DataFrame(list(supplier_counts.items()), columns=['Category', 'Number of Suppliers']).sort_values(by='Number of Suppliers', ascending=False)\n",
    "\n",
    "# Display the DataFrame\n",
    "print(supplier_counts_df)\n"
   ]
  },
  {
   "cell_type": "code",
   "execution_count": 39,
   "metadata": {},
   "outputs": [
    {
     "data": {
      "application/vnd.plotly.v1+json": {
       "config": {
        "plotlyServerURL": "https://plot.ly"
       },
       "data": [
        {
         "alignmentgroup": "True",
         "hovertemplate": "Category=%{x}<br>Number of Suppliers=%{marker.color}<extra></extra>",
         "legendgroup": "",
         "marker": {
          "color": [
           1736,
           775,
           701,
           687,
           584,
           572,
           483,
           416,
           302,
           234,
           227,
           202,
           192,
           177,
           172,
           155,
           82,
           53,
           37,
           25
          ],
          "coloraxis": "coloraxis",
          "pattern": {
           "shape": ""
          }
         },
         "name": "",
         "offsetgroup": "",
         "orientation": "v",
         "showlegend": false,
         "textposition": "auto",
         "type": "bar",
         "x": [
          "Plumber",
          "Boiler and Heating Service",
          "Heating Contractor",
          "Bathroom Remodeler",
          "Gas Installation Service",
          "Gas Engineer",
          "Home & Garden",
          "Double Glazing Installer",
          "Boiler Supplier",
          "Window Installation Service",
          "Wood and Laminate Flooring Supplier",
          "Furniture Manufacturer",
          "Garden Building Supplier",
          "Cleaning Products Supplier",
          "Solar Energy Equipment Supplier",
          "Garden",
          "Carpet Installer",
          "Artist",
          "Carpet Wholesaler",
          "Art Gallery"
         ],
         "xaxis": "x",
         "y": [
          1736,
          775,
          701,
          687,
          584,
          572,
          483,
          416,
          302,
          234,
          227,
          202,
          192,
          177,
          172,
          155,
          82,
          53,
          37,
          25
         ],
         "yaxis": "y"
        }
       ],
       "layout": {
        "barmode": "relative",
        "coloraxis": {
         "colorbar": {
          "title": {
           "text": "Number of Suppliers"
          }
         },
         "colorscale": [
          [
           0,
           "#440154"
          ],
          [
           0.1111111111111111,
           "#482878"
          ],
          [
           0.2222222222222222,
           "#3e4989"
          ],
          [
           0.3333333333333333,
           "#31688e"
          ],
          [
           0.4444444444444444,
           "#26828e"
          ],
          [
           0.5555555555555556,
           "#1f9e89"
          ],
          [
           0.6666666666666666,
           "#35b779"
          ],
          [
           0.7777777777777778,
           "#6ece58"
          ],
          [
           0.8888888888888888,
           "#b5de2b"
          ],
          [
           1,
           "#fde725"
          ]
         ]
        },
        "legend": {
         "tracegroupgap": 0
        },
        "paper_bgcolor": "white",
        "plot_bgcolor": "white",
        "template": {
         "data": {
          "bar": [
           {
            "error_x": {
             "color": "#2a3f5f"
            },
            "error_y": {
             "color": "#2a3f5f"
            },
            "marker": {
             "line": {
              "color": "#E5ECF6",
              "width": 0.5
             },
             "pattern": {
              "fillmode": "overlay",
              "size": 10,
              "solidity": 0.2
             }
            },
            "type": "bar"
           }
          ],
          "barpolar": [
           {
            "marker": {
             "line": {
              "color": "#E5ECF6",
              "width": 0.5
             },
             "pattern": {
              "fillmode": "overlay",
              "size": 10,
              "solidity": 0.2
             }
            },
            "type": "barpolar"
           }
          ],
          "carpet": [
           {
            "aaxis": {
             "endlinecolor": "#2a3f5f",
             "gridcolor": "white",
             "linecolor": "white",
             "minorgridcolor": "white",
             "startlinecolor": "#2a3f5f"
            },
            "baxis": {
             "endlinecolor": "#2a3f5f",
             "gridcolor": "white",
             "linecolor": "white",
             "minorgridcolor": "white",
             "startlinecolor": "#2a3f5f"
            },
            "type": "carpet"
           }
          ],
          "choropleth": [
           {
            "colorbar": {
             "outlinewidth": 0,
             "ticks": ""
            },
            "type": "choropleth"
           }
          ],
          "contour": [
           {
            "colorbar": {
             "outlinewidth": 0,
             "ticks": ""
            },
            "colorscale": [
             [
              0,
              "#0d0887"
             ],
             [
              0.1111111111111111,
              "#46039f"
             ],
             [
              0.2222222222222222,
              "#7201a8"
             ],
             [
              0.3333333333333333,
              "#9c179e"
             ],
             [
              0.4444444444444444,
              "#bd3786"
             ],
             [
              0.5555555555555556,
              "#d8576b"
             ],
             [
              0.6666666666666666,
              "#ed7953"
             ],
             [
              0.7777777777777778,
              "#fb9f3a"
             ],
             [
              0.8888888888888888,
              "#fdca26"
             ],
             [
              1,
              "#f0f921"
             ]
            ],
            "type": "contour"
           }
          ],
          "contourcarpet": [
           {
            "colorbar": {
             "outlinewidth": 0,
             "ticks": ""
            },
            "type": "contourcarpet"
           }
          ],
          "heatmap": [
           {
            "colorbar": {
             "outlinewidth": 0,
             "ticks": ""
            },
            "colorscale": [
             [
              0,
              "#0d0887"
             ],
             [
              0.1111111111111111,
              "#46039f"
             ],
             [
              0.2222222222222222,
              "#7201a8"
             ],
             [
              0.3333333333333333,
              "#9c179e"
             ],
             [
              0.4444444444444444,
              "#bd3786"
             ],
             [
              0.5555555555555556,
              "#d8576b"
             ],
             [
              0.6666666666666666,
              "#ed7953"
             ],
             [
              0.7777777777777778,
              "#fb9f3a"
             ],
             [
              0.8888888888888888,
              "#fdca26"
             ],
             [
              1,
              "#f0f921"
             ]
            ],
            "type": "heatmap"
           }
          ],
          "heatmapgl": [
           {
            "colorbar": {
             "outlinewidth": 0,
             "ticks": ""
            },
            "colorscale": [
             [
              0,
              "#0d0887"
             ],
             [
              0.1111111111111111,
              "#46039f"
             ],
             [
              0.2222222222222222,
              "#7201a8"
             ],
             [
              0.3333333333333333,
              "#9c179e"
             ],
             [
              0.4444444444444444,
              "#bd3786"
             ],
             [
              0.5555555555555556,
              "#d8576b"
             ],
             [
              0.6666666666666666,
              "#ed7953"
             ],
             [
              0.7777777777777778,
              "#fb9f3a"
             ],
             [
              0.8888888888888888,
              "#fdca26"
             ],
             [
              1,
              "#f0f921"
             ]
            ],
            "type": "heatmapgl"
           }
          ],
          "histogram": [
           {
            "marker": {
             "pattern": {
              "fillmode": "overlay",
              "size": 10,
              "solidity": 0.2
             }
            },
            "type": "histogram"
           }
          ],
          "histogram2d": [
           {
            "colorbar": {
             "outlinewidth": 0,
             "ticks": ""
            },
            "colorscale": [
             [
              0,
              "#0d0887"
             ],
             [
              0.1111111111111111,
              "#46039f"
             ],
             [
              0.2222222222222222,
              "#7201a8"
             ],
             [
              0.3333333333333333,
              "#9c179e"
             ],
             [
              0.4444444444444444,
              "#bd3786"
             ],
             [
              0.5555555555555556,
              "#d8576b"
             ],
             [
              0.6666666666666666,
              "#ed7953"
             ],
             [
              0.7777777777777778,
              "#fb9f3a"
             ],
             [
              0.8888888888888888,
              "#fdca26"
             ],
             [
              1,
              "#f0f921"
             ]
            ],
            "type": "histogram2d"
           }
          ],
          "histogram2dcontour": [
           {
            "colorbar": {
             "outlinewidth": 0,
             "ticks": ""
            },
            "colorscale": [
             [
              0,
              "#0d0887"
             ],
             [
              0.1111111111111111,
              "#46039f"
             ],
             [
              0.2222222222222222,
              "#7201a8"
             ],
             [
              0.3333333333333333,
              "#9c179e"
             ],
             [
              0.4444444444444444,
              "#bd3786"
             ],
             [
              0.5555555555555556,
              "#d8576b"
             ],
             [
              0.6666666666666666,
              "#ed7953"
             ],
             [
              0.7777777777777778,
              "#fb9f3a"
             ],
             [
              0.8888888888888888,
              "#fdca26"
             ],
             [
              1,
              "#f0f921"
             ]
            ],
            "type": "histogram2dcontour"
           }
          ],
          "mesh3d": [
           {
            "colorbar": {
             "outlinewidth": 0,
             "ticks": ""
            },
            "type": "mesh3d"
           }
          ],
          "parcoords": [
           {
            "line": {
             "colorbar": {
              "outlinewidth": 0,
              "ticks": ""
             }
            },
            "type": "parcoords"
           }
          ],
          "pie": [
           {
            "automargin": true,
            "type": "pie"
           }
          ],
          "scatter": [
           {
            "fillpattern": {
             "fillmode": "overlay",
             "size": 10,
             "solidity": 0.2
            },
            "type": "scatter"
           }
          ],
          "scatter3d": [
           {
            "line": {
             "colorbar": {
              "outlinewidth": 0,
              "ticks": ""
             }
            },
            "marker": {
             "colorbar": {
              "outlinewidth": 0,
              "ticks": ""
             }
            },
            "type": "scatter3d"
           }
          ],
          "scattercarpet": [
           {
            "marker": {
             "colorbar": {
              "outlinewidth": 0,
              "ticks": ""
             }
            },
            "type": "scattercarpet"
           }
          ],
          "scattergeo": [
           {
            "marker": {
             "colorbar": {
              "outlinewidth": 0,
              "ticks": ""
             }
            },
            "type": "scattergeo"
           }
          ],
          "scattergl": [
           {
            "marker": {
             "colorbar": {
              "outlinewidth": 0,
              "ticks": ""
             }
            },
            "type": "scattergl"
           }
          ],
          "scattermapbox": [
           {
            "marker": {
             "colorbar": {
              "outlinewidth": 0,
              "ticks": ""
             }
            },
            "type": "scattermapbox"
           }
          ],
          "scatterpolar": [
           {
            "marker": {
             "colorbar": {
              "outlinewidth": 0,
              "ticks": ""
             }
            },
            "type": "scatterpolar"
           }
          ],
          "scatterpolargl": [
           {
            "marker": {
             "colorbar": {
              "outlinewidth": 0,
              "ticks": ""
             }
            },
            "type": "scatterpolargl"
           }
          ],
          "scatterternary": [
           {
            "marker": {
             "colorbar": {
              "outlinewidth": 0,
              "ticks": ""
             }
            },
            "type": "scatterternary"
           }
          ],
          "surface": [
           {
            "colorbar": {
             "outlinewidth": 0,
             "ticks": ""
            },
            "colorscale": [
             [
              0,
              "#0d0887"
             ],
             [
              0.1111111111111111,
              "#46039f"
             ],
             [
              0.2222222222222222,
              "#7201a8"
             ],
             [
              0.3333333333333333,
              "#9c179e"
             ],
             [
              0.4444444444444444,
              "#bd3786"
             ],
             [
              0.5555555555555556,
              "#d8576b"
             ],
             [
              0.6666666666666666,
              "#ed7953"
             ],
             [
              0.7777777777777778,
              "#fb9f3a"
             ],
             [
              0.8888888888888888,
              "#fdca26"
             ],
             [
              1,
              "#f0f921"
             ]
            ],
            "type": "surface"
           }
          ],
          "table": [
           {
            "cells": {
             "fill": {
              "color": "#EBF0F8"
             },
             "line": {
              "color": "white"
             }
            },
            "header": {
             "fill": {
              "color": "#C8D4E3"
             },
             "line": {
              "color": "white"
             }
            },
            "type": "table"
           }
          ]
         },
         "layout": {
          "annotationdefaults": {
           "arrowcolor": "#2a3f5f",
           "arrowhead": 0,
           "arrowwidth": 1
          },
          "autotypenumbers": "strict",
          "coloraxis": {
           "colorbar": {
            "outlinewidth": 0,
            "ticks": ""
           }
          },
          "colorscale": {
           "diverging": [
            [
             0,
             "#8e0152"
            ],
            [
             0.1,
             "#c51b7d"
            ],
            [
             0.2,
             "#de77ae"
            ],
            [
             0.3,
             "#f1b6da"
            ],
            [
             0.4,
             "#fde0ef"
            ],
            [
             0.5,
             "#f7f7f7"
            ],
            [
             0.6,
             "#e6f5d0"
            ],
            [
             0.7,
             "#b8e186"
            ],
            [
             0.8,
             "#7fbc41"
            ],
            [
             0.9,
             "#4d9221"
            ],
            [
             1,
             "#276419"
            ]
           ],
           "sequential": [
            [
             0,
             "#0d0887"
            ],
            [
             0.1111111111111111,
             "#46039f"
            ],
            [
             0.2222222222222222,
             "#7201a8"
            ],
            [
             0.3333333333333333,
             "#9c179e"
            ],
            [
             0.4444444444444444,
             "#bd3786"
            ],
            [
             0.5555555555555556,
             "#d8576b"
            ],
            [
             0.6666666666666666,
             "#ed7953"
            ],
            [
             0.7777777777777778,
             "#fb9f3a"
            ],
            [
             0.8888888888888888,
             "#fdca26"
            ],
            [
             1,
             "#f0f921"
            ]
           ],
           "sequentialminus": [
            [
             0,
             "#0d0887"
            ],
            [
             0.1111111111111111,
             "#46039f"
            ],
            [
             0.2222222222222222,
             "#7201a8"
            ],
            [
             0.3333333333333333,
             "#9c179e"
            ],
            [
             0.4444444444444444,
             "#bd3786"
            ],
            [
             0.5555555555555556,
             "#d8576b"
            ],
            [
             0.6666666666666666,
             "#ed7953"
            ],
            [
             0.7777777777777778,
             "#fb9f3a"
            ],
            [
             0.8888888888888888,
             "#fdca26"
            ],
            [
             1,
             "#f0f921"
            ]
           ]
          },
          "colorway": [
           "#636efa",
           "#EF553B",
           "#00cc96",
           "#ab63fa",
           "#FFA15A",
           "#19d3f3",
           "#FF6692",
           "#B6E880",
           "#FF97FF",
           "#FECB52"
          ],
          "font": {
           "color": "#2a3f5f"
          },
          "geo": {
           "bgcolor": "white",
           "lakecolor": "white",
           "landcolor": "#E5ECF6",
           "showlakes": true,
           "showland": true,
           "subunitcolor": "white"
          },
          "hoverlabel": {
           "align": "left"
          },
          "hovermode": "closest",
          "mapbox": {
           "style": "light"
          },
          "paper_bgcolor": "white",
          "plot_bgcolor": "#E5ECF6",
          "polar": {
           "angularaxis": {
            "gridcolor": "white",
            "linecolor": "white",
            "ticks": ""
           },
           "bgcolor": "#E5ECF6",
           "radialaxis": {
            "gridcolor": "white",
            "linecolor": "white",
            "ticks": ""
           }
          },
          "scene": {
           "xaxis": {
            "backgroundcolor": "#E5ECF6",
            "gridcolor": "white",
            "gridwidth": 2,
            "linecolor": "white",
            "showbackground": true,
            "ticks": "",
            "zerolinecolor": "white"
           },
           "yaxis": {
            "backgroundcolor": "#E5ECF6",
            "gridcolor": "white",
            "gridwidth": 2,
            "linecolor": "white",
            "showbackground": true,
            "ticks": "",
            "zerolinecolor": "white"
           },
           "zaxis": {
            "backgroundcolor": "#E5ECF6",
            "gridcolor": "white",
            "gridwidth": 2,
            "linecolor": "white",
            "showbackground": true,
            "ticks": "",
            "zerolinecolor": "white"
           }
          },
          "shapedefaults": {
           "line": {
            "color": "#2a3f5f"
           }
          },
          "ternary": {
           "aaxis": {
            "gridcolor": "white",
            "linecolor": "white",
            "ticks": ""
           },
           "baxis": {
            "gridcolor": "white",
            "linecolor": "white",
            "ticks": ""
           },
           "bgcolor": "#E5ECF6",
           "caxis": {
            "gridcolor": "white",
            "linecolor": "white",
            "ticks": ""
           }
          },
          "title": {
           "x": 0.05
          },
          "xaxis": {
           "automargin": true,
           "gridcolor": "white",
           "linecolor": "white",
           "ticks": "",
           "title": {
            "standoff": 15
           },
           "zerolinecolor": "white",
           "zerolinewidth": 2
          },
          "yaxis": {
           "automargin": true,
           "gridcolor": "white",
           "linecolor": "white",
           "ticks": "",
           "title": {
            "standoff": 15
           },
           "zerolinecolor": "white",
           "zerolinewidth": 2
          }
         }
        },
        "title": {
         "text": "Supplier Availability for the Top 20 Most Demanded Services",
         "x": 0.5,
         "xanchor": "center"
        },
        "xaxis": {
         "anchor": "y",
         "domain": [
          0,
          1
         ],
         "title": {
          "text": "Category"
         }
        },
        "yaxis": {
         "anchor": "x",
         "domain": [
          0,
          1
         ],
         "title": {
          "text": "Number of Suppliers"
         }
        }
       }
      }
     },
     "metadata": {},
     "output_type": "display_data"
    }
   ],
   "source": [
    "import plotly.express as px\n",
    "\n",
    "# Visualize the categories with the number of suppliers using Plotly\n",
    "fig = px.bar(supplier_counts_df,\n",
    "             x='Category',\n",
    "             y='Number of Suppliers',\n",
    "             labels={'Category': 'Category', 'Number of Suppliers': 'Number of Suppliers'},\n",
    "             title='Supplier Availability for the Top 20 Most Demanded Services',\n",
    "             color='Number of Suppliers',\n",
    "             color_continuous_scale='Viridis')\n",
    "\n",
    "# Update the layout for better appearance and change the background to white\n",
    "fig.update_layout(\n",
    "    title={'x': 0.5, 'xanchor': 'center'},\n",
    "    xaxis_title='Category',\n",
    "    yaxis_title='Number of Suppliers',\n",
    "    template='plotly',\n",
    "    paper_bgcolor='white',\n",
    "    plot_bgcolor='white'\n",
    ")\n",
    "\n",
    "# Display the plot\n",
    "fig.show()\n"
   ]
  },
  {
   "cell_type": "markdown",
   "metadata": {},
   "source": [
    "### Top 5 Highest-Rated Companies for the 20 Most Demanded Service Categories"
   ]
  },
  {
   "cell_type": "code",
   "execution_count": 40,
   "metadata": {},
   "outputs": [
    {
     "data": {
      "text/html": [
       "<div>\n",
       "<style scoped>\n",
       "    .dataframe tbody tr th:only-of-type {\n",
       "        vertical-align: middle;\n",
       "    }\n",
       "\n",
       "    .dataframe tbody tr th {\n",
       "        vertical-align: top;\n",
       "    }\n",
       "\n",
       "    .dataframe thead th {\n",
       "        text-align: right;\n",
       "    }\n",
       "</style>\n",
       "<table border=\"1\" class=\"dataframe\">\n",
       "  <thead>\n",
       "    <tr style=\"text-align: right;\">\n",
       "      <th></th>\n",
       "      <th>Category</th>\n",
       "      <th>Company_Name</th>\n",
       "      <th>Rating</th>\n",
       "    </tr>\n",
       "  </thead>\n",
       "  <tbody>\n",
       "    <tr>\n",
       "      <th>0</th>\n",
       "      <td>Bathroom Remodeler</td>\n",
       "      <td>We Spray uPVC</td>\n",
       "      <td>5.0</td>\n",
       "    </tr>\n",
       "    <tr>\n",
       "      <th>1</th>\n",
       "      <td>Bathroom Remodeler</td>\n",
       "      <td>Banyo</td>\n",
       "      <td>4.9</td>\n",
       "    </tr>\n",
       "    <tr>\n",
       "      <th>2</th>\n",
       "      <td>Bathroom Remodeler</td>\n",
       "      <td>Shower Wheels UK</td>\n",
       "      <td>4.9</td>\n",
       "    </tr>\n",
       "    <tr>\n",
       "      <th>3</th>\n",
       "      <td>Bathroom Remodeler</td>\n",
       "      <td>Granite and TREND Transformations UK</td>\n",
       "      <td>4.9</td>\n",
       "    </tr>\n",
       "    <tr>\n",
       "      <th>4</th>\n",
       "      <td>Bathroom Remodeler</td>\n",
       "      <td>jlnplumbing.co.uk</td>\n",
       "      <td>4.9</td>\n",
       "    </tr>\n",
       "    <tr>\n",
       "      <th>...</th>\n",
       "      <td>...</td>\n",
       "      <td>...</td>\n",
       "      <td>...</td>\n",
       "    </tr>\n",
       "    <tr>\n",
       "      <th>95</th>\n",
       "      <td>Garden</td>\n",
       "      <td>Cactocereus Ltd t/a Trichocereus UK</td>\n",
       "      <td>5.0</td>\n",
       "    </tr>\n",
       "    <tr>\n",
       "      <th>96</th>\n",
       "      <td>Garden</td>\n",
       "      <td>Arctic Cabins</td>\n",
       "      <td>5.0</td>\n",
       "    </tr>\n",
       "    <tr>\n",
       "      <th>97</th>\n",
       "      <td>Garden</td>\n",
       "      <td>Marco Paul</td>\n",
       "      <td>5.0</td>\n",
       "    </tr>\n",
       "    <tr>\n",
       "      <th>98</th>\n",
       "      <td>Garden</td>\n",
       "      <td>MegaTiles</td>\n",
       "      <td>4.9</td>\n",
       "    </tr>\n",
       "    <tr>\n",
       "      <th>99</th>\n",
       "      <td>Garden</td>\n",
       "      <td>teenygreeny.co.uk</td>\n",
       "      <td>4.9</td>\n",
       "    </tr>\n",
       "  </tbody>\n",
       "</table>\n",
       "<p>100 rows × 3 columns</p>\n",
       "</div>"
      ],
      "text/plain": [
       "              Category                          Company_Name  Rating\n",
       "0   Bathroom Remodeler                         We Spray uPVC     5.0\n",
       "1   Bathroom Remodeler                                 Banyo     4.9\n",
       "2   Bathroom Remodeler                      Shower Wheels UK     4.9\n",
       "3   Bathroom Remodeler  Granite and TREND Transformations UK     4.9\n",
       "4   Bathroom Remodeler                     jlnplumbing.co.uk     4.9\n",
       "..                 ...                                   ...     ...\n",
       "95              Garden   Cactocereus Ltd t/a Trichocereus UK     5.0\n",
       "96              Garden                         Arctic Cabins     5.0\n",
       "97              Garden                            Marco Paul     5.0\n",
       "98              Garden                             MegaTiles     4.9\n",
       "99              Garden                     teenygreeny.co.uk     4.9\n",
       "\n",
       "[100 rows x 3 columns]"
      ]
     },
     "execution_count": 40,
     "metadata": {},
     "output_type": "execute_result"
    }
   ],
   "source": [
    "# List of specified categories\n",
    "specified_categories = Top_20_Cat_reviews.index\n",
    "# Dictionary to store the highest rating companies for each category\n",
    "top_companies_per_category = {}\n",
    "\n",
    "# Iterate through each specified category\n",
    "for category in specified_categories:\n",
    "    if category in df_encoded.columns:\n",
    "        # Filter the dataframe for the current category\n",
    "        category_df = df_encoded[df_encoded[category] == 1]\n",
    "        \n",
    "        # Get the top 5 companies with the highest rating for the current category\n",
    "        top_companies = category_df.sort_values(by='Rating', ascending=False).head(5)[['Company_Name', 'Rating']]\n",
    "        \n",
    "        # Store the result in the dictionary\n",
    "        top_companies_per_category[category] = top_companies\n",
    "\n",
    "# Convert the dictionary to a more readable format\n",
    "top_companies_per_category_df = pd.concat(top_companies_per_category).reset_index(level=1, drop=True).reset_index()\n",
    "top_companies_per_category_df.columns = ['Category', 'Company_Name', 'Rating']\n",
    "\n",
    "# Display the DataFrame\n",
    "top_companies_per_category_df\n"
   ]
  },
  {
   "cell_type": "code",
   "execution_count": 41,
   "metadata": {},
   "outputs": [
    {
     "data": {
      "application/vnd.plotly.v1+json": {
       "config": {
        "plotlyServerURL": "https://plot.ly"
       },
       "data": [
        {
         "alignmentgroup": "True",
         "hovertemplate": "Category=%{x}<br>Rating=%{marker.color}<br>Company_Name=%{text}<extra></extra>",
         "legendgroup": "",
         "marker": {
          "color": [
           5,
           4.9,
           4.9,
           4.9,
           4.9,
           5,
           5,
           5,
           5,
           4.9,
           5,
           5,
           5,
           5,
           5,
           5,
           5,
           4.9,
           4.9,
           4.9,
           5,
           5,
           4.9,
           4.9,
           4.9,
           4.9,
           4.9,
           4.9,
           4.9,
           4.8,
           5,
           5,
           4.9,
           4.9,
           4.9,
           5,
           4.9,
           4.9,
           4.9,
           4.9,
           5,
           5,
           5,
           5,
           5,
           5,
           5,
           5,
           5,
           5,
           5,
           4.9,
           4.9,
           4.9,
           4.9,
           5,
           5,
           5,
           5,
           5,
           5,
           4.9,
           4.9,
           4.9,
           4.9,
           5,
           5,
           5,
           5,
           5,
           5,
           5,
           5,
           4.9,
           4.9,
           5,
           5,
           5,
           5,
           4.9,
           5,
           5,
           5,
           5,
           5,
           4.9,
           4.9,
           4.9,
           4.9,
           4.9,
           5,
           4.9,
           4.9,
           4.9,
           4.9,
           5,
           5,
           5,
           4.9,
           4.9
          ],
          "coloraxis": "coloraxis",
          "pattern": {
           "shape": ""
          }
         },
         "name": "",
         "offsetgroup": "",
         "orientation": "v",
         "showlegend": false,
         "text": [
          "We Spray uPVC",
          "Banyo",
          "Shower Wheels UK",
          "Granite and TREND Transformations UK",
          "jlnplumbing.co.uk",
          "The Flooring Outlet",
          "John Doe Carpets and Furniture Ltd",
          "The Flooring Outlet",
          "John Doe Carpets and Furniture Ltd",
          "V4 Wood Flooring",
          "Boilerhut",
          "RPM Plumbing & Heating Limited",
          "SEDA Heating Solutions Ltd",
          "Arton Plumbing & Heating",
          "Heat Leicester",
          "Ailsa Black",
          "EJayDesign",
          "Neon Creations Ltd",
          "Duncan Shotton Design Studio",
          "Luke Western Art",
          "GlassFix double glazing repairs",
          "Mistyglasslimited",
          "Ipswich Trade Frames",
          "Fenster Glazing",
          "Radiancedoors",
          "Direct Flooring & Beds Ltd",
          "Moseley Interiors",
          "Moseley Interiors",
          "CarpetVista",
          "UK Contract Flooring",
          "John Doe Carpets and Furniture Ltd",
          "John Doe Carpets and Furniture Ltd",
          "Solihull Carpets",
          "Solihull Carpets",
          "Flooring4UK",
          "SRJWINDOWS Scotland",
          "Timber Windows Essex Ltd",
          "Dobsons",
          "Signature Home Improvements",
          "Ipswich Trade Frames",
          "Met Serve Ltd",
          "Samsian Ltd",
          "RPM Plumbing & Heating Limited",
          "Stembridge Limited",
          "RPM Plumbing & Heating Limited",
          "Samsian Ltd",
          "SEDA Heating Solutions Ltd",
          "Arton Plumbing & Heating",
          "Met Serve Ltd",
          "RPM Plumbing & Heating Limited",
          "Ailsa Black",
          "First4Frames",
          "Artfinder",
          "National Park Print Shop",
          "Haddon Galleries",
          "Stembridge Limited",
          "South Manchester Heating (Chorlton) Ltd",
          "Heat Leicester",
          "AB Plumbing & Heating",
          "Holdcroft Heating & Gas Fitting Limited",
          "Window Cleaning Stuff",
          "Smartseal UK Ltd",
          "Spanish Home And Baby Boutique",
          "Linky's Glitter",
          "Ballistol UK",
          "WoodWorktops",
          "Trent Furnishing Co Ltd",
          "HADO",
          "Carpetzoneluton",
          "Johncowanbaskets",
          "Heat Leicester",
          "Brookhouse Gas Services Ltd",
          "South Manchester Heating (Chorlton) Ltd",
          "South London Heating Limited",
          "i Gas Engineers Plumbing & Heating Ltd.",
          "Chaise Longue Co Ltd",
          "My Sliding Wardrobe",
          "Eat Sleep Live",
          "James and Rose",
          "UnderStairsStorage.co.uk",
          "SEDA Heating Solutions Ltd",
          "Gas-Fix",
          "Arton Plumbing & Heating",
          "Stembridge Limited",
          "Heat Leicester",
          "Contact Solar",
          "Proenergysolutions Ltd",
          "Solar Panel Funding",
          "The Eco Supermarket",
          "Steelgear",
          "Arctic Cabins",
          "Kearns Garden Rooms",
          "Ace Sheds",
          "Summerhouses Unlimited",
          "The Garden Office",
          "Cactocereus Ltd t/a Trichocereus UK",
          "Arctic Cabins",
          "Marco Paul",
          "MegaTiles",
          "teenygreeny.co.uk"
         ],
         "textposition": "auto",
         "type": "bar",
         "x": [
          "Bathroom Remodeler",
          "Bathroom Remodeler",
          "Bathroom Remodeler",
          "Bathroom Remodeler",
          "Bathroom Remodeler",
          "Wood and Laminate Flooring Supplier",
          "Wood and Laminate Flooring Supplier",
          "Wood and Laminate Flooring Supplier",
          "Wood and Laminate Flooring Supplier",
          "Wood and Laminate Flooring Supplier",
          "Boiler and Heating Service",
          "Boiler and Heating Service",
          "Boiler and Heating Service",
          "Boiler and Heating Service",
          "Boiler and Heating Service",
          "Artist",
          "Artist",
          "Artist",
          "Artist",
          "Artist",
          "Double Glazing Installer",
          "Double Glazing Installer",
          "Double Glazing Installer",
          "Double Glazing Installer",
          "Double Glazing Installer",
          "Carpet Wholesaler",
          "Carpet Wholesaler",
          "Carpet Wholesaler",
          "Carpet Wholesaler",
          "Carpet Wholesaler",
          "Carpet Installer",
          "Carpet Installer",
          "Carpet Installer",
          "Carpet Installer",
          "Carpet Installer",
          "Window Installation Service",
          "Window Installation Service",
          "Window Installation Service",
          "Window Installation Service",
          "Window Installation Service",
          "Plumber",
          "Plumber",
          "Plumber",
          "Plumber",
          "Plumber",
          "Heating Contractor",
          "Heating Contractor",
          "Heating Contractor",
          "Heating Contractor",
          "Heating Contractor",
          "Art Gallery",
          "Art Gallery",
          "Art Gallery",
          "Art Gallery",
          "Art Gallery",
          "Gas Installation Service",
          "Gas Installation Service",
          "Gas Installation Service",
          "Gas Installation Service",
          "Gas Installation Service",
          "Cleaning Products Supplier",
          "Cleaning Products Supplier",
          "Cleaning Products Supplier",
          "Cleaning Products Supplier",
          "Cleaning Products Supplier",
          "Home & Garden",
          "Home & Garden",
          "Home & Garden",
          "Home & Garden",
          "Home & Garden",
          "Boiler Supplier",
          "Boiler Supplier",
          "Boiler Supplier",
          "Boiler Supplier",
          "Boiler Supplier",
          "Furniture Manufacturer",
          "Furniture Manufacturer",
          "Furniture Manufacturer",
          "Furniture Manufacturer",
          "Furniture Manufacturer",
          "Gas Engineer",
          "Gas Engineer",
          "Gas Engineer",
          "Gas Engineer",
          "Gas Engineer",
          "Solar Energy Equipment Supplier",
          "Solar Energy Equipment Supplier",
          "Solar Energy Equipment Supplier",
          "Solar Energy Equipment Supplier",
          "Solar Energy Equipment Supplier",
          "Garden Building Supplier",
          "Garden Building Supplier",
          "Garden Building Supplier",
          "Garden Building Supplier",
          "Garden Building Supplier",
          "Garden",
          "Garden",
          "Garden",
          "Garden",
          "Garden"
         ],
         "xaxis": "x",
         "y": [
          5,
          4.9,
          4.9,
          4.9,
          4.9,
          5,
          5,
          5,
          5,
          4.9,
          5,
          5,
          5,
          5,
          5,
          5,
          5,
          4.9,
          4.9,
          4.9,
          5,
          5,
          4.9,
          4.9,
          4.9,
          4.9,
          4.9,
          4.9,
          4.9,
          4.8,
          5,
          5,
          4.9,
          4.9,
          4.9,
          5,
          4.9,
          4.9,
          4.9,
          4.9,
          5,
          5,
          5,
          5,
          5,
          5,
          5,
          5,
          5,
          5,
          5,
          4.9,
          4.9,
          4.9,
          4.9,
          5,
          5,
          5,
          5,
          5,
          5,
          4.9,
          4.9,
          4.9,
          4.9,
          5,
          5,
          5,
          5,
          5,
          5,
          5,
          5,
          4.9,
          4.9,
          5,
          5,
          5,
          5,
          4.9,
          5,
          5,
          5,
          5,
          5,
          4.9,
          4.9,
          4.9,
          4.9,
          4.9,
          5,
          4.9,
          4.9,
          4.9,
          4.9,
          5,
          5,
          5,
          4.9,
          4.9
         ],
         "yaxis": "y"
        }
       ],
       "layout": {
        "barmode": "relative",
        "coloraxis": {
         "colorbar": {
          "title": {
           "text": "Rating"
          }
         },
         "colorscale": [
          [
           0,
           "#440154"
          ],
          [
           0.1111111111111111,
           "#482878"
          ],
          [
           0.2222222222222222,
           "#3e4989"
          ],
          [
           0.3333333333333333,
           "#31688e"
          ],
          [
           0.4444444444444444,
           "#26828e"
          ],
          [
           0.5555555555555556,
           "#1f9e89"
          ],
          [
           0.6666666666666666,
           "#35b779"
          ],
          [
           0.7777777777777778,
           "#6ece58"
          ],
          [
           0.8888888888888888,
           "#b5de2b"
          ],
          [
           1,
           "#fde725"
          ]
         ]
        },
        "legend": {
         "tracegroupgap": 0
        },
        "template": {
         "data": {
          "bar": [
           {
            "error_x": {
             "color": "#f2f5fa"
            },
            "error_y": {
             "color": "#f2f5fa"
            },
            "marker": {
             "line": {
              "color": "rgb(17,17,17)",
              "width": 0.5
             },
             "pattern": {
              "fillmode": "overlay",
              "size": 10,
              "solidity": 0.2
             }
            },
            "type": "bar"
           }
          ],
          "barpolar": [
           {
            "marker": {
             "line": {
              "color": "rgb(17,17,17)",
              "width": 0.5
             },
             "pattern": {
              "fillmode": "overlay",
              "size": 10,
              "solidity": 0.2
             }
            },
            "type": "barpolar"
           }
          ],
          "carpet": [
           {
            "aaxis": {
             "endlinecolor": "#A2B1C6",
             "gridcolor": "#506784",
             "linecolor": "#506784",
             "minorgridcolor": "#506784",
             "startlinecolor": "#A2B1C6"
            },
            "baxis": {
             "endlinecolor": "#A2B1C6",
             "gridcolor": "#506784",
             "linecolor": "#506784",
             "minorgridcolor": "#506784",
             "startlinecolor": "#A2B1C6"
            },
            "type": "carpet"
           }
          ],
          "choropleth": [
           {
            "colorbar": {
             "outlinewidth": 0,
             "ticks": ""
            },
            "type": "choropleth"
           }
          ],
          "contour": [
           {
            "colorbar": {
             "outlinewidth": 0,
             "ticks": ""
            },
            "colorscale": [
             [
              0,
              "#0d0887"
             ],
             [
              0.1111111111111111,
              "#46039f"
             ],
             [
              0.2222222222222222,
              "#7201a8"
             ],
             [
              0.3333333333333333,
              "#9c179e"
             ],
             [
              0.4444444444444444,
              "#bd3786"
             ],
             [
              0.5555555555555556,
              "#d8576b"
             ],
             [
              0.6666666666666666,
              "#ed7953"
             ],
             [
              0.7777777777777778,
              "#fb9f3a"
             ],
             [
              0.8888888888888888,
              "#fdca26"
             ],
             [
              1,
              "#f0f921"
             ]
            ],
            "type": "contour"
           }
          ],
          "contourcarpet": [
           {
            "colorbar": {
             "outlinewidth": 0,
             "ticks": ""
            },
            "type": "contourcarpet"
           }
          ],
          "heatmap": [
           {
            "colorbar": {
             "outlinewidth": 0,
             "ticks": ""
            },
            "colorscale": [
             [
              0,
              "#0d0887"
             ],
             [
              0.1111111111111111,
              "#46039f"
             ],
             [
              0.2222222222222222,
              "#7201a8"
             ],
             [
              0.3333333333333333,
              "#9c179e"
             ],
             [
              0.4444444444444444,
              "#bd3786"
             ],
             [
              0.5555555555555556,
              "#d8576b"
             ],
             [
              0.6666666666666666,
              "#ed7953"
             ],
             [
              0.7777777777777778,
              "#fb9f3a"
             ],
             [
              0.8888888888888888,
              "#fdca26"
             ],
             [
              1,
              "#f0f921"
             ]
            ],
            "type": "heatmap"
           }
          ],
          "heatmapgl": [
           {
            "colorbar": {
             "outlinewidth": 0,
             "ticks": ""
            },
            "colorscale": [
             [
              0,
              "#0d0887"
             ],
             [
              0.1111111111111111,
              "#46039f"
             ],
             [
              0.2222222222222222,
              "#7201a8"
             ],
             [
              0.3333333333333333,
              "#9c179e"
             ],
             [
              0.4444444444444444,
              "#bd3786"
             ],
             [
              0.5555555555555556,
              "#d8576b"
             ],
             [
              0.6666666666666666,
              "#ed7953"
             ],
             [
              0.7777777777777778,
              "#fb9f3a"
             ],
             [
              0.8888888888888888,
              "#fdca26"
             ],
             [
              1,
              "#f0f921"
             ]
            ],
            "type": "heatmapgl"
           }
          ],
          "histogram": [
           {
            "marker": {
             "pattern": {
              "fillmode": "overlay",
              "size": 10,
              "solidity": 0.2
             }
            },
            "type": "histogram"
           }
          ],
          "histogram2d": [
           {
            "colorbar": {
             "outlinewidth": 0,
             "ticks": ""
            },
            "colorscale": [
             [
              0,
              "#0d0887"
             ],
             [
              0.1111111111111111,
              "#46039f"
             ],
             [
              0.2222222222222222,
              "#7201a8"
             ],
             [
              0.3333333333333333,
              "#9c179e"
             ],
             [
              0.4444444444444444,
              "#bd3786"
             ],
             [
              0.5555555555555556,
              "#d8576b"
             ],
             [
              0.6666666666666666,
              "#ed7953"
             ],
             [
              0.7777777777777778,
              "#fb9f3a"
             ],
             [
              0.8888888888888888,
              "#fdca26"
             ],
             [
              1,
              "#f0f921"
             ]
            ],
            "type": "histogram2d"
           }
          ],
          "histogram2dcontour": [
           {
            "colorbar": {
             "outlinewidth": 0,
             "ticks": ""
            },
            "colorscale": [
             [
              0,
              "#0d0887"
             ],
             [
              0.1111111111111111,
              "#46039f"
             ],
             [
              0.2222222222222222,
              "#7201a8"
             ],
             [
              0.3333333333333333,
              "#9c179e"
             ],
             [
              0.4444444444444444,
              "#bd3786"
             ],
             [
              0.5555555555555556,
              "#d8576b"
             ],
             [
              0.6666666666666666,
              "#ed7953"
             ],
             [
              0.7777777777777778,
              "#fb9f3a"
             ],
             [
              0.8888888888888888,
              "#fdca26"
             ],
             [
              1,
              "#f0f921"
             ]
            ],
            "type": "histogram2dcontour"
           }
          ],
          "mesh3d": [
           {
            "colorbar": {
             "outlinewidth": 0,
             "ticks": ""
            },
            "type": "mesh3d"
           }
          ],
          "parcoords": [
           {
            "line": {
             "colorbar": {
              "outlinewidth": 0,
              "ticks": ""
             }
            },
            "type": "parcoords"
           }
          ],
          "pie": [
           {
            "automargin": true,
            "type": "pie"
           }
          ],
          "scatter": [
           {
            "marker": {
             "line": {
              "color": "#283442"
             }
            },
            "type": "scatter"
           }
          ],
          "scatter3d": [
           {
            "line": {
             "colorbar": {
              "outlinewidth": 0,
              "ticks": ""
             }
            },
            "marker": {
             "colorbar": {
              "outlinewidth": 0,
              "ticks": ""
             }
            },
            "type": "scatter3d"
           }
          ],
          "scattercarpet": [
           {
            "marker": {
             "colorbar": {
              "outlinewidth": 0,
              "ticks": ""
             }
            },
            "type": "scattercarpet"
           }
          ],
          "scattergeo": [
           {
            "marker": {
             "colorbar": {
              "outlinewidth": 0,
              "ticks": ""
             }
            },
            "type": "scattergeo"
           }
          ],
          "scattergl": [
           {
            "marker": {
             "line": {
              "color": "#283442"
             }
            },
            "type": "scattergl"
           }
          ],
          "scattermapbox": [
           {
            "marker": {
             "colorbar": {
              "outlinewidth": 0,
              "ticks": ""
             }
            },
            "type": "scattermapbox"
           }
          ],
          "scatterpolar": [
           {
            "marker": {
             "colorbar": {
              "outlinewidth": 0,
              "ticks": ""
             }
            },
            "type": "scatterpolar"
           }
          ],
          "scatterpolargl": [
           {
            "marker": {
             "colorbar": {
              "outlinewidth": 0,
              "ticks": ""
             }
            },
            "type": "scatterpolargl"
           }
          ],
          "scatterternary": [
           {
            "marker": {
             "colorbar": {
              "outlinewidth": 0,
              "ticks": ""
             }
            },
            "type": "scatterternary"
           }
          ],
          "surface": [
           {
            "colorbar": {
             "outlinewidth": 0,
             "ticks": ""
            },
            "colorscale": [
             [
              0,
              "#0d0887"
             ],
             [
              0.1111111111111111,
              "#46039f"
             ],
             [
              0.2222222222222222,
              "#7201a8"
             ],
             [
              0.3333333333333333,
              "#9c179e"
             ],
             [
              0.4444444444444444,
              "#bd3786"
             ],
             [
              0.5555555555555556,
              "#d8576b"
             ],
             [
              0.6666666666666666,
              "#ed7953"
             ],
             [
              0.7777777777777778,
              "#fb9f3a"
             ],
             [
              0.8888888888888888,
              "#fdca26"
             ],
             [
              1,
              "#f0f921"
             ]
            ],
            "type": "surface"
           }
          ],
          "table": [
           {
            "cells": {
             "fill": {
              "color": "#506784"
             },
             "line": {
              "color": "rgb(17,17,17)"
             }
            },
            "header": {
             "fill": {
              "color": "#2a3f5f"
             },
             "line": {
              "color": "rgb(17,17,17)"
             }
            },
            "type": "table"
           }
          ]
         },
         "layout": {
          "annotationdefaults": {
           "arrowcolor": "#f2f5fa",
           "arrowhead": 0,
           "arrowwidth": 1
          },
          "autotypenumbers": "strict",
          "coloraxis": {
           "colorbar": {
            "outlinewidth": 0,
            "ticks": ""
           }
          },
          "colorscale": {
           "diverging": [
            [
             0,
             "#8e0152"
            ],
            [
             0.1,
             "#c51b7d"
            ],
            [
             0.2,
             "#de77ae"
            ],
            [
             0.3,
             "#f1b6da"
            ],
            [
             0.4,
             "#fde0ef"
            ],
            [
             0.5,
             "#f7f7f7"
            ],
            [
             0.6,
             "#e6f5d0"
            ],
            [
             0.7,
             "#b8e186"
            ],
            [
             0.8,
             "#7fbc41"
            ],
            [
             0.9,
             "#4d9221"
            ],
            [
             1,
             "#276419"
            ]
           ],
           "sequential": [
            [
             0,
             "#0d0887"
            ],
            [
             0.1111111111111111,
             "#46039f"
            ],
            [
             0.2222222222222222,
             "#7201a8"
            ],
            [
             0.3333333333333333,
             "#9c179e"
            ],
            [
             0.4444444444444444,
             "#bd3786"
            ],
            [
             0.5555555555555556,
             "#d8576b"
            ],
            [
             0.6666666666666666,
             "#ed7953"
            ],
            [
             0.7777777777777778,
             "#fb9f3a"
            ],
            [
             0.8888888888888888,
             "#fdca26"
            ],
            [
             1,
             "#f0f921"
            ]
           ],
           "sequentialminus": [
            [
             0,
             "#0d0887"
            ],
            [
             0.1111111111111111,
             "#46039f"
            ],
            [
             0.2222222222222222,
             "#7201a8"
            ],
            [
             0.3333333333333333,
             "#9c179e"
            ],
            [
             0.4444444444444444,
             "#bd3786"
            ],
            [
             0.5555555555555556,
             "#d8576b"
            ],
            [
             0.6666666666666666,
             "#ed7953"
            ],
            [
             0.7777777777777778,
             "#fb9f3a"
            ],
            [
             0.8888888888888888,
             "#fdca26"
            ],
            [
             1,
             "#f0f921"
            ]
           ]
          },
          "colorway": [
           "#636efa",
           "#EF553B",
           "#00cc96",
           "#ab63fa",
           "#FFA15A",
           "#19d3f3",
           "#FF6692",
           "#B6E880",
           "#FF97FF",
           "#FECB52"
          ],
          "font": {
           "color": "#f2f5fa"
          },
          "geo": {
           "bgcolor": "rgb(17,17,17)",
           "lakecolor": "rgb(17,17,17)",
           "landcolor": "rgb(17,17,17)",
           "showlakes": true,
           "showland": true,
           "subunitcolor": "#506784"
          },
          "hoverlabel": {
           "align": "left"
          },
          "hovermode": "closest",
          "mapbox": {
           "style": "dark"
          },
          "paper_bgcolor": "rgb(17,17,17)",
          "plot_bgcolor": "rgb(17,17,17)",
          "polar": {
           "angularaxis": {
            "gridcolor": "#506784",
            "linecolor": "#506784",
            "ticks": ""
           },
           "bgcolor": "rgb(17,17,17)",
           "radialaxis": {
            "gridcolor": "#506784",
            "linecolor": "#506784",
            "ticks": ""
           }
          },
          "scene": {
           "xaxis": {
            "backgroundcolor": "rgb(17,17,17)",
            "gridcolor": "#506784",
            "gridwidth": 2,
            "linecolor": "#506784",
            "showbackground": true,
            "ticks": "",
            "zerolinecolor": "#C8D4E3"
           },
           "yaxis": {
            "backgroundcolor": "rgb(17,17,17)",
            "gridcolor": "#506784",
            "gridwidth": 2,
            "linecolor": "#506784",
            "showbackground": true,
            "ticks": "",
            "zerolinecolor": "#C8D4E3"
           },
           "zaxis": {
            "backgroundcolor": "rgb(17,17,17)",
            "gridcolor": "#506784",
            "gridwidth": 2,
            "linecolor": "#506784",
            "showbackground": true,
            "ticks": "",
            "zerolinecolor": "#C8D4E3"
           }
          },
          "shapedefaults": {
           "line": {
            "color": "#f2f5fa"
           }
          },
          "sliderdefaults": {
           "bgcolor": "#C8D4E3",
           "bordercolor": "rgb(17,17,17)",
           "borderwidth": 1,
           "tickwidth": 0
          },
          "ternary": {
           "aaxis": {
            "gridcolor": "#506784",
            "linecolor": "#506784",
            "ticks": ""
           },
           "baxis": {
            "gridcolor": "#506784",
            "linecolor": "#506784",
            "ticks": ""
           },
           "bgcolor": "rgb(17,17,17)",
           "caxis": {
            "gridcolor": "#506784",
            "linecolor": "#506784",
            "ticks": ""
           }
          },
          "title": {
           "x": 0.05
          },
          "updatemenudefaults": {
           "bgcolor": "#506784",
           "borderwidth": 0
          },
          "xaxis": {
           "automargin": true,
           "gridcolor": "#283442",
           "linecolor": "#506784",
           "ticks": "",
           "title": {
            "standoff": 15
           },
           "zerolinecolor": "#283442",
           "zerolinewidth": 2
          },
          "yaxis": {
           "automargin": true,
           "gridcolor": "#283442",
           "linecolor": "#506784",
           "ticks": "",
           "title": {
            "standoff": 15
           },
           "zerolinecolor": "#283442",
           "zerolinewidth": 2
          }
         }
        },
        "title": {
         "text": "Top 5 Highest-Rated Companies for the 20 Most Demanded Service Categories",
         "x": 0.5,
         "xanchor": "center"
        },
        "xaxis": {
         "anchor": "y",
         "domain": [
          0,
          1
         ],
         "title": {
          "text": "Category"
         }
        },
        "yaxis": {
         "anchor": "x",
         "domain": [
          0,
          1
         ],
         "title": {
          "text": "Rating"
         }
        }
       }
      }
     },
     "metadata": {},
     "output_type": "display_data"
    }
   ],
   "source": [
    "# List of specified categories\n",
    "specified_categories = Top_20_Cat_reviews.index\n",
    "\n",
    "# Dictionary to store the highest rating companies for each category\n",
    "top_companies_per_category = {}\n",
    "\n",
    "# Iterate through each specified category\n",
    "for category in specified_categories:\n",
    "    if category in df_encoded.columns:\n",
    "        # Filter the dataframe for the current category\n",
    "        category_df = df_encoded[df_encoded[category] == 1]\n",
    "        \n",
    "        # Get the top 5 companies with the highest rating for the current category\n",
    "        top_companies = category_df.sort_values(by='Rating', ascending=False).head(5)[['Company_Name', 'Rating']]\n",
    "        \n",
    "        # Store the result in the dictionary\n",
    "        top_companies_per_category[category] = top_companies\n",
    "\n",
    "# Convert the dictionary to a more readable format\n",
    "top_companies_per_category_df = pd.concat(top_companies_per_category).reset_index(level=1, drop=True).reset_index()\n",
    "top_companies_per_category_df.columns = ['Category', 'Company_Name', 'Rating']\n",
    "\n",
    "# Visualize the categories with the highest ratings using Plotly\n",
    "import plotly.express as px\n",
    "\n",
    "fig = px.bar(top_companies_per_category_df,\n",
    "             x='Category',\n",
    "             y='Rating',\n",
    "             text='Company_Name',\n",
    "             labels={'Category': 'Category', 'Rating': 'Rating'},\n",
    "             title='Top 5 Highest-Rated Companies for the 20 Most Demanded Service Categories',\n",
    "             color='Rating',\n",
    "             color_continuous_scale='Viridis')\n",
    "\n",
    "# Update the layout for better appearance\n",
    "fig.update_layout(\n",
    "    title={'x': 0.5, 'xanchor': 'center'},\n",
    "    xaxis_title='Category',\n",
    "    yaxis_title='Rating',\n",
    "    template='plotly_dark'\n",
    ")\n",
    "\n",
    "# Display the plot\n",
    "fig.show()\n"
   ]
  },
  {
   "cell_type": "code",
   "execution_count": 42,
   "metadata": {},
   "outputs": [],
   "source": [
    "top_companies_per_category_df.to_excel(r'Top 5 Players for Each Service By ratings.xlsx')"
   ]
  },
  {
   "cell_type": "markdown",
   "metadata": {},
   "source": [
    "### Top 5 Companies with the Most Reviews in Selected Service Categories"
   ]
  },
  {
   "cell_type": "code",
   "execution_count": 43,
   "metadata": {},
   "outputs": [
    {
     "data": {
      "text/html": [
       "<div>\n",
       "<style scoped>\n",
       "    .dataframe tbody tr th:only-of-type {\n",
       "        vertical-align: middle;\n",
       "    }\n",
       "\n",
       "    .dataframe tbody tr th {\n",
       "        vertical-align: top;\n",
       "    }\n",
       "\n",
       "    .dataframe thead th {\n",
       "        text-align: right;\n",
       "    }\n",
       "</style>\n",
       "<table border=\"1\" class=\"dataframe\">\n",
       "  <thead>\n",
       "    <tr style=\"text-align: right;\">\n",
       "      <th></th>\n",
       "      <th>Category</th>\n",
       "      <th>Company_Name</th>\n",
       "      <th>Number_of_Reviews</th>\n",
       "    </tr>\n",
       "  </thead>\n",
       "  <tbody>\n",
       "    <tr>\n",
       "      <th>0</th>\n",
       "      <td>Bathroom Remodeler</td>\n",
       "      <td>Victorian Plumbing</td>\n",
       "      <td>224644.0</td>\n",
       "    </tr>\n",
       "    <tr>\n",
       "      <th>1</th>\n",
       "      <td>Bathroom Remodeler</td>\n",
       "      <td>Lakeland</td>\n",
       "      <td>150905.0</td>\n",
       "    </tr>\n",
       "    <tr>\n",
       "      <th>2</th>\n",
       "      <td>Bathroom Remodeler</td>\n",
       "      <td>VictoriaPlum.com</td>\n",
       "      <td>148154.0</td>\n",
       "    </tr>\n",
       "    <tr>\n",
       "      <th>3</th>\n",
       "      <td>Bathroom Remodeler</td>\n",
       "      <td>Tapi Carpets &amp; Floors</td>\n",
       "      <td>70299.0</td>\n",
       "    </tr>\n",
       "    <tr>\n",
       "      <th>4</th>\n",
       "      <td>Bathroom Remodeler</td>\n",
       "      <td>Plumbworld</td>\n",
       "      <td>60261.0</td>\n",
       "    </tr>\n",
       "    <tr>\n",
       "      <th>...</th>\n",
       "      <td>...</td>\n",
       "      <td>...</td>\n",
       "      <td>...</td>\n",
       "    </tr>\n",
       "    <tr>\n",
       "      <th>95</th>\n",
       "      <td>Garden</td>\n",
       "      <td>YouGarden</td>\n",
       "      <td>82858.0</td>\n",
       "    </tr>\n",
       "    <tr>\n",
       "      <th>96</th>\n",
       "      <td>Garden</td>\n",
       "      <td>Charlies</td>\n",
       "      <td>44119.0</td>\n",
       "    </tr>\n",
       "    <tr>\n",
       "      <th>97</th>\n",
       "      <td>Garden</td>\n",
       "      <td>Charlies</td>\n",
       "      <td>44117.0</td>\n",
       "    </tr>\n",
       "    <tr>\n",
       "      <th>98</th>\n",
       "      <td>Garden</td>\n",
       "      <td>Roots Plants</td>\n",
       "      <td>19259.0</td>\n",
       "    </tr>\n",
       "    <tr>\n",
       "      <th>99</th>\n",
       "      <td>Garden</td>\n",
       "      <td>Roots Plants</td>\n",
       "      <td>19258.0</td>\n",
       "    </tr>\n",
       "  </tbody>\n",
       "</table>\n",
       "<p>100 rows × 3 columns</p>\n",
       "</div>"
      ],
      "text/plain": [
       "              Category           Company_Name  Number_of_Reviews\n",
       "0   Bathroom Remodeler     Victorian Plumbing           224644.0\n",
       "1   Bathroom Remodeler               Lakeland           150905.0\n",
       "2   Bathroom Remodeler       VictoriaPlum.com           148154.0\n",
       "3   Bathroom Remodeler  Tapi Carpets & Floors            70299.0\n",
       "4   Bathroom Remodeler             Plumbworld            60261.0\n",
       "..                 ...                    ...                ...\n",
       "95              Garden              YouGarden            82858.0\n",
       "96              Garden               Charlies            44119.0\n",
       "97              Garden               Charlies            44117.0\n",
       "98              Garden           Roots Plants            19259.0\n",
       "99              Garden           Roots Plants            19258.0\n",
       "\n",
       "[100 rows x 3 columns]"
      ]
     },
     "execution_count": 43,
     "metadata": {},
     "output_type": "execute_result"
    }
   ],
   "source": [
    "# List of specified categories\n",
    "specified_categories = [\n",
    "    'Bathroom Remodeler', 'Wood and Laminate Flooring Supplier', 'Boiler and Heating Service',\n",
    "    'Artist', 'Double Glazing Installer', 'Carpet Wholesaler', 'Carpet Installer',\n",
    "    'Window Installation Service', 'Plumber', 'Heating Contractor', 'Art Gallery',\n",
    "    'Gas Installation Service', 'Cleaning Products Supplier', 'Home & Garden', \n",
    "    'Boiler Supplier', 'Furniture Manufacturer', 'Gas Engineer', 'Solar Energy Equipment Supplier',\n",
    "    'Garden Building Supplier', 'Garden'\n",
    "]\n",
    "\n",
    "# Ensure 'Number_of_Reviews' is numeric\n",
    "df_encoded['Number_of_Reviews'] = pd.to_numeric(df_encoded['Number_of_Reviews'], errors='coerce')\n",
    "\n",
    "# Dictionary to store the highest rating companies for each category\n",
    "top_companies_per_category = {}\n",
    "\n",
    "# Iterate through each specified category\n",
    "for category in specified_categories:\n",
    "    if category in df_encoded.columns:\n",
    "        # Filter the dataframe for the current category\n",
    "        category_df = df_encoded[df_encoded[category] == 1]\n",
    "        \n",
    "        # Get the top 5 companies with the highest number of reviews for the current category\n",
    "        top_companies = category_df.sort_values(by='Number_of_Reviews', ascending=False).head(5)[['Company_Name', 'Number_of_Reviews']]\n",
    "        \n",
    "        # Store the result in the dictionary\n",
    "        top_companies_per_category[category] = top_companies\n",
    "\n",
    "# Convert the dictionary to a more readable format\n",
    "top_companies_per_category_df = pd.concat(top_companies_per_category).reset_index(level=1, drop=True).reset_index()\n",
    "top_companies_per_category_df.columns = ['Category', 'Company_Name', 'Number_of_Reviews']\n",
    "\n",
    "# Display the DataFrame\n",
    "top_companies_per_category_df\n"
   ]
  },
  {
   "cell_type": "code",
   "execution_count": 44,
   "metadata": {},
   "outputs": [
    {
     "data": {
      "application/vnd.plotly.v1+json": {
       "config": {
        "plotlyServerURL": "https://plot.ly"
       },
       "data": [
        {
         "alignmentgroup": "True",
         "hovertemplate": "Category=%{x}<br>Number of Reviews=%{marker.color}<br>Company_Name=%{text}<extra></extra>",
         "legendgroup": "",
         "marker": {
          "color": [
           224644,
           150905,
           148154,
           70299,
           60261,
           28709,
           19220,
           18603,
           8125,
           7926,
           124588,
           100093,
           76125,
           60247,
           59580,
           7162,
           4846,
           2879,
           622,
           402,
           48428,
           33448,
           13093,
           10651,
           5643,
           18603,
           8392,
           4495,
           1618,
           1111,
           1410,
           737,
           737,
           595,
           445,
           33448,
           13093,
           10651,
           5643,
           4380,
           230533,
           124588,
           76125,
           47417,
           44002,
           9793,
           7023,
           3590,
           2188,
           1929,
           6443,
           3009,
           946,
           645,
           450,
           230533,
           124588,
           76125,
           30221,
           13218,
           150905,
           18930,
           10842,
           9024,
           8539,
           142442,
           29863,
           26369,
           21716,
           11984,
           124588,
           76125,
           60247,
           46393,
           44095,
           18241,
           12413,
           11967,
           5007,
           4607,
           10182,
           9793,
           7891,
           2710,
           1818,
           56032,
           13664,
           10182,
           5392,
           5015,
           19428,
           19428,
           13745,
           13743,
           12888,
           82858,
           44119,
           44117,
           19259,
           19258
          ],
          "coloraxis": "coloraxis",
          "pattern": {
           "shape": ""
          }
         },
         "name": "",
         "offsetgroup": "",
         "orientation": "v",
         "showlegend": false,
         "text": [
          "Victorian Plumbing",
          "Lakeland",
          "VictoriaPlum.com",
          "Tapi Carpets & Floors",
          "Plumbworld",
          "UK Flooring Direct Ltd",
          "Flooring Supplies",
          "Flooring Superstore",
          "Leader Floors",
          "Direct Wood Flooring",
          "HomeServe UK",
          "BoilerJuice.com",
          "247 Home Rescue",
          "Baxi UK",
          "BestHeating",
          "Poster Store",
          "The Picture Gallery & Framing Centre",
          "gilliankyle.com",
          "Steven Brown Art",
          "Shrike Art",
          "Safestyle",
          "Anglian Home Improvements - Windows, Doors & More",
          "Everest reviews – windows, doors & more | Everest.co.uk",
          "Help 2 Buy Windows",
          "First Home Improvements",
          "Flooring Superstore",
          "Rugvista",
          "CarpetVista",
          "Flooring Megastore",
          "Burts Online Ltd",
          "Lazy Carpets & Flooring",
          "John Doe Carpets and Furniture Ltd",
          "John Doe Carpets and Furniture Ltd",
          "Ecomaster",
          "AJP flooring",
          "Anglian Home Improvements - Windows, Doors & More",
          "Everest reviews – windows, doors & more | Everest.co.uk",
          "Help 2 Buy Windows",
          "First Home Improvements",
          "Home Logic",
          "British Gas",
          "HomeServe UK",
          "247 Home Rescue",
          "CORGI HomePlan",
          "BetterBathrooms.com",
          "Glow Green",
          "Swale Heating",
          "A.C. Wilgar Plumbing & Heating",
          "Effective Home",
          "TDL Online",
          "Artfinder",
          "Photo4me.com",
          "Pics2posters",
          "Persis Collection",
          "Thetrumpetshopvintageprints",
          "British Gas",
          "HomeServe UK",
          "247 Home Rescue",
          "BOXT",
          "RIGHTIO",
          "Lakeland",
          "MyHenry",
          "Euroffice",
          "WorldofPower",
          "Thane Direct UK",
          "FreePrints United Kingdom",
          "Ninja Kitchen UK",
          "Hotpoint",
          "Woodside Products",
          "Poles Direct",
          "HomeServe UK",
          "247 Home Rescue",
          "Baxi UK",
          "Ideal Heating",
          "Worcester Bosch",
          "Fabb Furniture",
          "BeanBagBazaar",
          "Hartleys Homeware & Furniture",
          "Get Laid Beds",
          "Home Detail",
          "Heatable",
          "Glow Green",
          "iHeat",
          "Prime Time Boilers & Solar",
          "Assured Heating Essex",
          "E.ON UK",
          "SPV Lights",
          "Heatable",
          "Solar Panel Funding",
          "Project Solar UK Introducing Better Energy",
          "Dunster House Ltd.",
          "Dunster House Ltd.",
          "Garden4less",
          "Garden4less",
          "Elixir Garden Supplies",
          "YouGarden",
          "Charlies",
          "Charlies",
          "Roots Plants",
          "Roots Plants"
         ],
         "textposition": "auto",
         "type": "bar",
         "x": [
          "Bathroom Remodeler",
          "Bathroom Remodeler",
          "Bathroom Remodeler",
          "Bathroom Remodeler",
          "Bathroom Remodeler",
          "Wood and Laminate Flooring Supplier",
          "Wood and Laminate Flooring Supplier",
          "Wood and Laminate Flooring Supplier",
          "Wood and Laminate Flooring Supplier",
          "Wood and Laminate Flooring Supplier",
          "Boiler and Heating Service",
          "Boiler and Heating Service",
          "Boiler and Heating Service",
          "Boiler and Heating Service",
          "Boiler and Heating Service",
          "Artist",
          "Artist",
          "Artist",
          "Artist",
          "Artist",
          "Double Glazing Installer",
          "Double Glazing Installer",
          "Double Glazing Installer",
          "Double Glazing Installer",
          "Double Glazing Installer",
          "Carpet Wholesaler",
          "Carpet Wholesaler",
          "Carpet Wholesaler",
          "Carpet Wholesaler",
          "Carpet Wholesaler",
          "Carpet Installer",
          "Carpet Installer",
          "Carpet Installer",
          "Carpet Installer",
          "Carpet Installer",
          "Window Installation Service",
          "Window Installation Service",
          "Window Installation Service",
          "Window Installation Service",
          "Window Installation Service",
          "Plumber",
          "Plumber",
          "Plumber",
          "Plumber",
          "Plumber",
          "Heating Contractor",
          "Heating Contractor",
          "Heating Contractor",
          "Heating Contractor",
          "Heating Contractor",
          "Art Gallery",
          "Art Gallery",
          "Art Gallery",
          "Art Gallery",
          "Art Gallery",
          "Gas Installation Service",
          "Gas Installation Service",
          "Gas Installation Service",
          "Gas Installation Service",
          "Gas Installation Service",
          "Cleaning Products Supplier",
          "Cleaning Products Supplier",
          "Cleaning Products Supplier",
          "Cleaning Products Supplier",
          "Cleaning Products Supplier",
          "Home & Garden",
          "Home & Garden",
          "Home & Garden",
          "Home & Garden",
          "Home & Garden",
          "Boiler Supplier",
          "Boiler Supplier",
          "Boiler Supplier",
          "Boiler Supplier",
          "Boiler Supplier",
          "Furniture Manufacturer",
          "Furniture Manufacturer",
          "Furniture Manufacturer",
          "Furniture Manufacturer",
          "Furniture Manufacturer",
          "Gas Engineer",
          "Gas Engineer",
          "Gas Engineer",
          "Gas Engineer",
          "Gas Engineer",
          "Solar Energy Equipment Supplier",
          "Solar Energy Equipment Supplier",
          "Solar Energy Equipment Supplier",
          "Solar Energy Equipment Supplier",
          "Solar Energy Equipment Supplier",
          "Garden Building Supplier",
          "Garden Building Supplier",
          "Garden Building Supplier",
          "Garden Building Supplier",
          "Garden Building Supplier",
          "Garden",
          "Garden",
          "Garden",
          "Garden",
          "Garden"
         ],
         "xaxis": "x",
         "y": [
          224644,
          150905,
          148154,
          70299,
          60261,
          28709,
          19220,
          18603,
          8125,
          7926,
          124588,
          100093,
          76125,
          60247,
          59580,
          7162,
          4846,
          2879,
          622,
          402,
          48428,
          33448,
          13093,
          10651,
          5643,
          18603,
          8392,
          4495,
          1618,
          1111,
          1410,
          737,
          737,
          595,
          445,
          33448,
          13093,
          10651,
          5643,
          4380,
          230533,
          124588,
          76125,
          47417,
          44002,
          9793,
          7023,
          3590,
          2188,
          1929,
          6443,
          3009,
          946,
          645,
          450,
          230533,
          124588,
          76125,
          30221,
          13218,
          150905,
          18930,
          10842,
          9024,
          8539,
          142442,
          29863,
          26369,
          21716,
          11984,
          124588,
          76125,
          60247,
          46393,
          44095,
          18241,
          12413,
          11967,
          5007,
          4607,
          10182,
          9793,
          7891,
          2710,
          1818,
          56032,
          13664,
          10182,
          5392,
          5015,
          19428,
          19428,
          13745,
          13743,
          12888,
          82858,
          44119,
          44117,
          19259,
          19258
         ],
         "yaxis": "y"
        }
       ],
       "layout": {
        "barmode": "relative",
        "coloraxis": {
         "colorbar": {
          "title": {
           "text": "Number of Reviews"
          }
         },
         "colorscale": [
          [
           0,
           "#440154"
          ],
          [
           0.1111111111111111,
           "#482878"
          ],
          [
           0.2222222222222222,
           "#3e4989"
          ],
          [
           0.3333333333333333,
           "#31688e"
          ],
          [
           0.4444444444444444,
           "#26828e"
          ],
          [
           0.5555555555555556,
           "#1f9e89"
          ],
          [
           0.6666666666666666,
           "#35b779"
          ],
          [
           0.7777777777777778,
           "#6ece58"
          ],
          [
           0.8888888888888888,
           "#b5de2b"
          ],
          [
           1,
           "#fde725"
          ]
         ]
        },
        "legend": {
         "tracegroupgap": 0
        },
        "template": {
         "data": {
          "bar": [
           {
            "error_x": {
             "color": "#f2f5fa"
            },
            "error_y": {
             "color": "#f2f5fa"
            },
            "marker": {
             "line": {
              "color": "rgb(17,17,17)",
              "width": 0.5
             },
             "pattern": {
              "fillmode": "overlay",
              "size": 10,
              "solidity": 0.2
             }
            },
            "type": "bar"
           }
          ],
          "barpolar": [
           {
            "marker": {
             "line": {
              "color": "rgb(17,17,17)",
              "width": 0.5
             },
             "pattern": {
              "fillmode": "overlay",
              "size": 10,
              "solidity": 0.2
             }
            },
            "type": "barpolar"
           }
          ],
          "carpet": [
           {
            "aaxis": {
             "endlinecolor": "#A2B1C6",
             "gridcolor": "#506784",
             "linecolor": "#506784",
             "minorgridcolor": "#506784",
             "startlinecolor": "#A2B1C6"
            },
            "baxis": {
             "endlinecolor": "#A2B1C6",
             "gridcolor": "#506784",
             "linecolor": "#506784",
             "minorgridcolor": "#506784",
             "startlinecolor": "#A2B1C6"
            },
            "type": "carpet"
           }
          ],
          "choropleth": [
           {
            "colorbar": {
             "outlinewidth": 0,
             "ticks": ""
            },
            "type": "choropleth"
           }
          ],
          "contour": [
           {
            "colorbar": {
             "outlinewidth": 0,
             "ticks": ""
            },
            "colorscale": [
             [
              0,
              "#0d0887"
             ],
             [
              0.1111111111111111,
              "#46039f"
             ],
             [
              0.2222222222222222,
              "#7201a8"
             ],
             [
              0.3333333333333333,
              "#9c179e"
             ],
             [
              0.4444444444444444,
              "#bd3786"
             ],
             [
              0.5555555555555556,
              "#d8576b"
             ],
             [
              0.6666666666666666,
              "#ed7953"
             ],
             [
              0.7777777777777778,
              "#fb9f3a"
             ],
             [
              0.8888888888888888,
              "#fdca26"
             ],
             [
              1,
              "#f0f921"
             ]
            ],
            "type": "contour"
           }
          ],
          "contourcarpet": [
           {
            "colorbar": {
             "outlinewidth": 0,
             "ticks": ""
            },
            "type": "contourcarpet"
           }
          ],
          "heatmap": [
           {
            "colorbar": {
             "outlinewidth": 0,
             "ticks": ""
            },
            "colorscale": [
             [
              0,
              "#0d0887"
             ],
             [
              0.1111111111111111,
              "#46039f"
             ],
             [
              0.2222222222222222,
              "#7201a8"
             ],
             [
              0.3333333333333333,
              "#9c179e"
             ],
             [
              0.4444444444444444,
              "#bd3786"
             ],
             [
              0.5555555555555556,
              "#d8576b"
             ],
             [
              0.6666666666666666,
              "#ed7953"
             ],
             [
              0.7777777777777778,
              "#fb9f3a"
             ],
             [
              0.8888888888888888,
              "#fdca26"
             ],
             [
              1,
              "#f0f921"
             ]
            ],
            "type": "heatmap"
           }
          ],
          "heatmapgl": [
           {
            "colorbar": {
             "outlinewidth": 0,
             "ticks": ""
            },
            "colorscale": [
             [
              0,
              "#0d0887"
             ],
             [
              0.1111111111111111,
              "#46039f"
             ],
             [
              0.2222222222222222,
              "#7201a8"
             ],
             [
              0.3333333333333333,
              "#9c179e"
             ],
             [
              0.4444444444444444,
              "#bd3786"
             ],
             [
              0.5555555555555556,
              "#d8576b"
             ],
             [
              0.6666666666666666,
              "#ed7953"
             ],
             [
              0.7777777777777778,
              "#fb9f3a"
             ],
             [
              0.8888888888888888,
              "#fdca26"
             ],
             [
              1,
              "#f0f921"
             ]
            ],
            "type": "heatmapgl"
           }
          ],
          "histogram": [
           {
            "marker": {
             "pattern": {
              "fillmode": "overlay",
              "size": 10,
              "solidity": 0.2
             }
            },
            "type": "histogram"
           }
          ],
          "histogram2d": [
           {
            "colorbar": {
             "outlinewidth": 0,
             "ticks": ""
            },
            "colorscale": [
             [
              0,
              "#0d0887"
             ],
             [
              0.1111111111111111,
              "#46039f"
             ],
             [
              0.2222222222222222,
              "#7201a8"
             ],
             [
              0.3333333333333333,
              "#9c179e"
             ],
             [
              0.4444444444444444,
              "#bd3786"
             ],
             [
              0.5555555555555556,
              "#d8576b"
             ],
             [
              0.6666666666666666,
              "#ed7953"
             ],
             [
              0.7777777777777778,
              "#fb9f3a"
             ],
             [
              0.8888888888888888,
              "#fdca26"
             ],
             [
              1,
              "#f0f921"
             ]
            ],
            "type": "histogram2d"
           }
          ],
          "histogram2dcontour": [
           {
            "colorbar": {
             "outlinewidth": 0,
             "ticks": ""
            },
            "colorscale": [
             [
              0,
              "#0d0887"
             ],
             [
              0.1111111111111111,
              "#46039f"
             ],
             [
              0.2222222222222222,
              "#7201a8"
             ],
             [
              0.3333333333333333,
              "#9c179e"
             ],
             [
              0.4444444444444444,
              "#bd3786"
             ],
             [
              0.5555555555555556,
              "#d8576b"
             ],
             [
              0.6666666666666666,
              "#ed7953"
             ],
             [
              0.7777777777777778,
              "#fb9f3a"
             ],
             [
              0.8888888888888888,
              "#fdca26"
             ],
             [
              1,
              "#f0f921"
             ]
            ],
            "type": "histogram2dcontour"
           }
          ],
          "mesh3d": [
           {
            "colorbar": {
             "outlinewidth": 0,
             "ticks": ""
            },
            "type": "mesh3d"
           }
          ],
          "parcoords": [
           {
            "line": {
             "colorbar": {
              "outlinewidth": 0,
              "ticks": ""
             }
            },
            "type": "parcoords"
           }
          ],
          "pie": [
           {
            "automargin": true,
            "type": "pie"
           }
          ],
          "scatter": [
           {
            "marker": {
             "line": {
              "color": "#283442"
             }
            },
            "type": "scatter"
           }
          ],
          "scatter3d": [
           {
            "line": {
             "colorbar": {
              "outlinewidth": 0,
              "ticks": ""
             }
            },
            "marker": {
             "colorbar": {
              "outlinewidth": 0,
              "ticks": ""
             }
            },
            "type": "scatter3d"
           }
          ],
          "scattercarpet": [
           {
            "marker": {
             "colorbar": {
              "outlinewidth": 0,
              "ticks": ""
             }
            },
            "type": "scattercarpet"
           }
          ],
          "scattergeo": [
           {
            "marker": {
             "colorbar": {
              "outlinewidth": 0,
              "ticks": ""
             }
            },
            "type": "scattergeo"
           }
          ],
          "scattergl": [
           {
            "marker": {
             "line": {
              "color": "#283442"
             }
            },
            "type": "scattergl"
           }
          ],
          "scattermapbox": [
           {
            "marker": {
             "colorbar": {
              "outlinewidth": 0,
              "ticks": ""
             }
            },
            "type": "scattermapbox"
           }
          ],
          "scatterpolar": [
           {
            "marker": {
             "colorbar": {
              "outlinewidth": 0,
              "ticks": ""
             }
            },
            "type": "scatterpolar"
           }
          ],
          "scatterpolargl": [
           {
            "marker": {
             "colorbar": {
              "outlinewidth": 0,
              "ticks": ""
             }
            },
            "type": "scatterpolargl"
           }
          ],
          "scatterternary": [
           {
            "marker": {
             "colorbar": {
              "outlinewidth": 0,
              "ticks": ""
             }
            },
            "type": "scatterternary"
           }
          ],
          "surface": [
           {
            "colorbar": {
             "outlinewidth": 0,
             "ticks": ""
            },
            "colorscale": [
             [
              0,
              "#0d0887"
             ],
             [
              0.1111111111111111,
              "#46039f"
             ],
             [
              0.2222222222222222,
              "#7201a8"
             ],
             [
              0.3333333333333333,
              "#9c179e"
             ],
             [
              0.4444444444444444,
              "#bd3786"
             ],
             [
              0.5555555555555556,
              "#d8576b"
             ],
             [
              0.6666666666666666,
              "#ed7953"
             ],
             [
              0.7777777777777778,
              "#fb9f3a"
             ],
             [
              0.8888888888888888,
              "#fdca26"
             ],
             [
              1,
              "#f0f921"
             ]
            ],
            "type": "surface"
           }
          ],
          "table": [
           {
            "cells": {
             "fill": {
              "color": "#506784"
             },
             "line": {
              "color": "rgb(17,17,17)"
             }
            },
            "header": {
             "fill": {
              "color": "#2a3f5f"
             },
             "line": {
              "color": "rgb(17,17,17)"
             }
            },
            "type": "table"
           }
          ]
         },
         "layout": {
          "annotationdefaults": {
           "arrowcolor": "#f2f5fa",
           "arrowhead": 0,
           "arrowwidth": 1
          },
          "autotypenumbers": "strict",
          "coloraxis": {
           "colorbar": {
            "outlinewidth": 0,
            "ticks": ""
           }
          },
          "colorscale": {
           "diverging": [
            [
             0,
             "#8e0152"
            ],
            [
             0.1,
             "#c51b7d"
            ],
            [
             0.2,
             "#de77ae"
            ],
            [
             0.3,
             "#f1b6da"
            ],
            [
             0.4,
             "#fde0ef"
            ],
            [
             0.5,
             "#f7f7f7"
            ],
            [
             0.6,
             "#e6f5d0"
            ],
            [
             0.7,
             "#b8e186"
            ],
            [
             0.8,
             "#7fbc41"
            ],
            [
             0.9,
             "#4d9221"
            ],
            [
             1,
             "#276419"
            ]
           ],
           "sequential": [
            [
             0,
             "#0d0887"
            ],
            [
             0.1111111111111111,
             "#46039f"
            ],
            [
             0.2222222222222222,
             "#7201a8"
            ],
            [
             0.3333333333333333,
             "#9c179e"
            ],
            [
             0.4444444444444444,
             "#bd3786"
            ],
            [
             0.5555555555555556,
             "#d8576b"
            ],
            [
             0.6666666666666666,
             "#ed7953"
            ],
            [
             0.7777777777777778,
             "#fb9f3a"
            ],
            [
             0.8888888888888888,
             "#fdca26"
            ],
            [
             1,
             "#f0f921"
            ]
           ],
           "sequentialminus": [
            [
             0,
             "#0d0887"
            ],
            [
             0.1111111111111111,
             "#46039f"
            ],
            [
             0.2222222222222222,
             "#7201a8"
            ],
            [
             0.3333333333333333,
             "#9c179e"
            ],
            [
             0.4444444444444444,
             "#bd3786"
            ],
            [
             0.5555555555555556,
             "#d8576b"
            ],
            [
             0.6666666666666666,
             "#ed7953"
            ],
            [
             0.7777777777777778,
             "#fb9f3a"
            ],
            [
             0.8888888888888888,
             "#fdca26"
            ],
            [
             1,
             "#f0f921"
            ]
           ]
          },
          "colorway": [
           "#636efa",
           "#EF553B",
           "#00cc96",
           "#ab63fa",
           "#FFA15A",
           "#19d3f3",
           "#FF6692",
           "#B6E880",
           "#FF97FF",
           "#FECB52"
          ],
          "font": {
           "color": "#f2f5fa"
          },
          "geo": {
           "bgcolor": "rgb(17,17,17)",
           "lakecolor": "rgb(17,17,17)",
           "landcolor": "rgb(17,17,17)",
           "showlakes": true,
           "showland": true,
           "subunitcolor": "#506784"
          },
          "hoverlabel": {
           "align": "left"
          },
          "hovermode": "closest",
          "mapbox": {
           "style": "dark"
          },
          "paper_bgcolor": "rgb(17,17,17)",
          "plot_bgcolor": "rgb(17,17,17)",
          "polar": {
           "angularaxis": {
            "gridcolor": "#506784",
            "linecolor": "#506784",
            "ticks": ""
           },
           "bgcolor": "rgb(17,17,17)",
           "radialaxis": {
            "gridcolor": "#506784",
            "linecolor": "#506784",
            "ticks": ""
           }
          },
          "scene": {
           "xaxis": {
            "backgroundcolor": "rgb(17,17,17)",
            "gridcolor": "#506784",
            "gridwidth": 2,
            "linecolor": "#506784",
            "showbackground": true,
            "ticks": "",
            "zerolinecolor": "#C8D4E3"
           },
           "yaxis": {
            "backgroundcolor": "rgb(17,17,17)",
            "gridcolor": "#506784",
            "gridwidth": 2,
            "linecolor": "#506784",
            "showbackground": true,
            "ticks": "",
            "zerolinecolor": "#C8D4E3"
           },
           "zaxis": {
            "backgroundcolor": "rgb(17,17,17)",
            "gridcolor": "#506784",
            "gridwidth": 2,
            "linecolor": "#506784",
            "showbackground": true,
            "ticks": "",
            "zerolinecolor": "#C8D4E3"
           }
          },
          "shapedefaults": {
           "line": {
            "color": "#f2f5fa"
           }
          },
          "sliderdefaults": {
           "bgcolor": "#C8D4E3",
           "bordercolor": "rgb(17,17,17)",
           "borderwidth": 1,
           "tickwidth": 0
          },
          "ternary": {
           "aaxis": {
            "gridcolor": "#506784",
            "linecolor": "#506784",
            "ticks": ""
           },
           "baxis": {
            "gridcolor": "#506784",
            "linecolor": "#506784",
            "ticks": ""
           },
           "bgcolor": "rgb(17,17,17)",
           "caxis": {
            "gridcolor": "#506784",
            "linecolor": "#506784",
            "ticks": ""
           }
          },
          "title": {
           "x": 0.05
          },
          "updatemenudefaults": {
           "bgcolor": "#506784",
           "borderwidth": 0
          },
          "xaxis": {
           "automargin": true,
           "gridcolor": "#283442",
           "linecolor": "#506784",
           "ticks": "",
           "title": {
            "standoff": 15
           },
           "zerolinecolor": "#283442",
           "zerolinewidth": 2
          },
          "yaxis": {
           "automargin": true,
           "gridcolor": "#283442",
           "linecolor": "#506784",
           "ticks": "",
           "title": {
            "standoff": 15
           },
           "zerolinecolor": "#283442",
           "zerolinewidth": 2
          }
         }
        },
        "title": {
         "text": "Top 5 Companies with the Most Reviews in Selected Service Categories",
         "x": 0.5,
         "xanchor": "center"
        },
        "xaxis": {
         "anchor": "y",
         "domain": [
          0,
          1
         ],
         "title": {
          "text": "Category"
         }
        },
        "yaxis": {
         "anchor": "x",
         "domain": [
          0,
          1
         ],
         "title": {
          "text": "Number of Reviews"
         }
        }
       }
      }
     },
     "metadata": {},
     "output_type": "display_data"
    }
   ],
   "source": [
    "import plotly.express as px\n",
    "\n",
    "# List of specified categories\n",
    "specified_categories = [\n",
    "    'Bathroom Remodeler', 'Wood and Laminate Flooring Supplier', 'Boiler and Heating Service',\n",
    "    'Artist', 'Double Glazing Installer', 'Carpet Wholesaler', 'Carpet Installer',\n",
    "    'Window Installation Service', 'Plumber', 'Heating Contractor', 'Art Gallery',\n",
    "    'Gas Installation Service', 'Cleaning Products Supplier', 'Home & Garden', \n",
    "    'Boiler Supplier', 'Furniture Manufacturer', 'Gas Engineer', 'Solar Energy Equipment Supplier',\n",
    "    'Garden Building Supplier', 'Garden'\n",
    "]\n",
    "\n",
    "# Ensure 'Number_of_Reviews' is numeric\n",
    "df_encoded['Number_of_Reviews'] = pd.to_numeric(df_encoded['Number_of_Reviews'], errors='coerce')\n",
    "\n",
    "# Dictionary to store the highest rating companies for each category\n",
    "top_companies_per_category = {}\n",
    "\n",
    "# Iterate through each specified category\n",
    "for category in specified_categories:\n",
    "    if category in df_encoded.columns:\n",
    "        # Filter the dataframe for the current category\n",
    "        category_df = df_encoded[df_encoded[category] == 1]\n",
    "        \n",
    "        # Get the top 5 companies with the highest number of reviews for the current category\n",
    "        top_companies = category_df.sort_values(by='Number_of_Reviews', ascending=False).head(5)[['Company_Name', 'Number_of_Reviews']]\n",
    "        \n",
    "        # Store the result in the dictionary\n",
    "        top_companies_per_category[category] = top_companies\n",
    "\n",
    "# Convert the dictionary to a more readable format\n",
    "top_companies_per_category_df = pd.concat(top_companies_per_category).reset_index(level=1, drop=True).reset_index()\n",
    "top_companies_per_category_df.columns = ['Category', 'Company_Name', 'Number_of_Reviews']\n",
    "\n",
    "# Visualize the categories with the highest number of reviews using Plotly\n",
    "fig = px.bar(top_companies_per_category_df,\n",
    "             x='Category',\n",
    "             y='Number_of_Reviews',\n",
    "             text='Company_Name',\n",
    "             labels={'Category': 'Category', 'Number_of_Reviews': 'Number of Reviews'},\n",
    "             title='Top 5 Companies with the Most Reviews in Selected Service Categories',\n",
    "             color='Number_of_Reviews',\n",
    "             color_continuous_scale='Viridis')\n",
    "\n",
    "# Update the layout for better appearance\n",
    "fig.update_layout(\n",
    "    title={'x': 0.5, 'xanchor': 'center'},\n",
    "    xaxis_title='Category',\n",
    "    yaxis_title='Number of Reviews',\n",
    "    template='plotly_dark'\n",
    ")\n",
    "\n",
    "# Display the plot\n",
    "fig.show()\n"
   ]
  },
  {
   "cell_type": "code",
   "execution_count": 45,
   "metadata": {},
   "outputs": [],
   "source": [
    "top_companies_per_category_df.to_excel(r'Top 20 Players for Each Service By Traffic.xlsx')"
   ]
  },
  {
   "cell_type": "code",
   "execution_count": 46,
   "metadata": {},
   "outputs": [
    {
     "data": {
      "text/html": [
       "<div>\n",
       "<style scoped>\n",
       "    .dataframe tbody tr th:only-of-type {\n",
       "        vertical-align: middle;\n",
       "    }\n",
       "\n",
       "    .dataframe tbody tr th {\n",
       "        vertical-align: top;\n",
       "    }\n",
       "\n",
       "    .dataframe thead th {\n",
       "        text-align: right;\n",
       "    }\n",
       "</style>\n",
       "<table border=\"1\" class=\"dataframe\">\n",
       "  <thead>\n",
       "    <tr style=\"text-align: right;\">\n",
       "      <th></th>\n",
       "      <th>Category</th>\n",
       "      <th>Company_Name</th>\n",
       "      <th>Number_of_Reviews</th>\n",
       "    </tr>\n",
       "  </thead>\n",
       "  <tbody>\n",
       "    <tr>\n",
       "      <th>0</th>\n",
       "      <td>Bathroom Remodeler</td>\n",
       "      <td>Victorian Plumbing</td>\n",
       "      <td>224644.0</td>\n",
       "    </tr>\n",
       "    <tr>\n",
       "      <th>1</th>\n",
       "      <td>Bathroom Remodeler</td>\n",
       "      <td>Lakeland</td>\n",
       "      <td>150905.0</td>\n",
       "    </tr>\n",
       "    <tr>\n",
       "      <th>2</th>\n",
       "      <td>Bathroom Remodeler</td>\n",
       "      <td>VictoriaPlum.com</td>\n",
       "      <td>148154.0</td>\n",
       "    </tr>\n",
       "    <tr>\n",
       "      <th>3</th>\n",
       "      <td>Bathroom Remodeler</td>\n",
       "      <td>Tapi Carpets &amp; Floors</td>\n",
       "      <td>70299.0</td>\n",
       "    </tr>\n",
       "    <tr>\n",
       "      <th>4</th>\n",
       "      <td>Bathroom Remodeler</td>\n",
       "      <td>Plumbworld</td>\n",
       "      <td>60261.0</td>\n",
       "    </tr>\n",
       "    <tr>\n",
       "      <th>...</th>\n",
       "      <td>...</td>\n",
       "      <td>...</td>\n",
       "      <td>...</td>\n",
       "    </tr>\n",
       "    <tr>\n",
       "      <th>95</th>\n",
       "      <td>Garden</td>\n",
       "      <td>YouGarden</td>\n",
       "      <td>82858.0</td>\n",
       "    </tr>\n",
       "    <tr>\n",
       "      <th>96</th>\n",
       "      <td>Garden</td>\n",
       "      <td>Charlies</td>\n",
       "      <td>44119.0</td>\n",
       "    </tr>\n",
       "    <tr>\n",
       "      <th>97</th>\n",
       "      <td>Garden</td>\n",
       "      <td>Charlies</td>\n",
       "      <td>44117.0</td>\n",
       "    </tr>\n",
       "    <tr>\n",
       "      <th>98</th>\n",
       "      <td>Garden</td>\n",
       "      <td>Roots Plants</td>\n",
       "      <td>19259.0</td>\n",
       "    </tr>\n",
       "    <tr>\n",
       "      <th>99</th>\n",
       "      <td>Garden</td>\n",
       "      <td>Roots Plants</td>\n",
       "      <td>19258.0</td>\n",
       "    </tr>\n",
       "  </tbody>\n",
       "</table>\n",
       "<p>100 rows × 3 columns</p>\n",
       "</div>"
      ],
      "text/plain": [
       "              Category           Company_Name  Number_of_Reviews\n",
       "0   Bathroom Remodeler     Victorian Plumbing           224644.0\n",
       "1   Bathroom Remodeler               Lakeland           150905.0\n",
       "2   Bathroom Remodeler       VictoriaPlum.com           148154.0\n",
       "3   Bathroom Remodeler  Tapi Carpets & Floors            70299.0\n",
       "4   Bathroom Remodeler             Plumbworld            60261.0\n",
       "..                 ...                    ...                ...\n",
       "95              Garden              YouGarden            82858.0\n",
       "96              Garden               Charlies            44119.0\n",
       "97              Garden               Charlies            44117.0\n",
       "98              Garden           Roots Plants            19259.0\n",
       "99              Garden           Roots Plants            19258.0\n",
       "\n",
       "[100 rows x 3 columns]"
      ]
     },
     "execution_count": 46,
     "metadata": {},
     "output_type": "execute_result"
    }
   ],
   "source": [
    "top_companies_per_category_df"
   ]
  }
 ],
 "metadata": {
  "kernelspec": {
   "display_name": "Python 3",
   "language": "python",
   "name": "python3"
  },
  "language_info": {
   "codemirror_mode": {
    "name": "ipython",
    "version": 3
   },
   "file_extension": ".py",
   "mimetype": "text/x-python",
   "name": "python",
   "nbconvert_exporter": "python",
   "pygments_lexer": "ipython3",
   "version": "3.12.1"
  }
 },
 "nbformat": 4,
 "nbformat_minor": 2
}
